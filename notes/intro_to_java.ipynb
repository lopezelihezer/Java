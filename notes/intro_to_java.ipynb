{
 "cells": [
  {
   "cell_type": "markdown",
   "id": "8982b8cd-33b8-404a-b3ca-12df439baf36",
   "metadata": {},
   "source": [
    "# Purpose of a Computer Program"
   ]
  },
  {
   "cell_type": "markdown",
   "id": "97f21595-a001-4b92-9873-bd6334f5aa01",
   "metadata": {},
   "source": [
    "A computer program is a set of instructions that run on a computer or other digital device. \n",
    "- At the machine level, the program consists of binary intructions (1s and 0s). \n",
    "-- Machine code\n",
    "- Most programs are written in high-level code (readable).\n",
    "-- Must be translated to machine code (compilers)"
   ]
  },
  {
   "cell_type": "markdown",
   "id": "aeff6ce1-6ff7-448b-89c7-9abd4873a564",
   "metadata": {},
   "source": [
    "Solaris = UNIX\n",
    "Linux\n",
    "Windows\n",
    "Each have their own c code compiler\n",
    "C code runs through its respective compiler and outputs the correct binary for the according OS. "
   ]
  },
  {
   "cell_type": "markdown",
   "id": "7e749db1-71ce-425c-85ad-fab6466fa51a",
   "metadata": {},
   "source": [
    "JAVA is different. Unlike C, the Java programing language is independent. It just needs to be compiled once.\n",
    "As long as you have a JVM running on the target computer. \n"
   ]
  },
  {
   "cell_type": "markdown",
   "id": "63510162-52c9-476c-b1fe-ebd717b11ba5",
   "metadata": {},
   "source": [
    "# Key Features of the Java Language"
   ]
  },
  {
   "cell_type": "markdown",
   "id": "082335e2-2a41-49a0-b506-324455ca23fc",
   "metadata": {},
   "source": [
    "Some of the features that set Java apart from most other languages are that:\n",
    "\n",
    "    -> It is platform-independent\n",
    "    -> It is object-oriented. It allows you to create and manage data objects that can referenced in powerful ways. \n",
    "    "
   ]
  },
  {
   "cell_type": "markdown",
   "id": "cd198477-f6de-4238-a964-bd08ab900c26",
   "metadata": {},
   "source": [
    "Java Code => Java Compiler => Java Bytecode which is then read by a JVM. "
   ]
  },
  {
   "cell_type": "markdown",
   "id": "b53d2a0a-8e70-4317-92d9-1b3ab94d3207",
   "metadata": {},
   "source": [
    "The Java programming language is often referred to as an interpreted language, portable or executable on any platform. "
   ]
  },
  {
   "cell_type": "markdown",
   "id": "5d565e66-3750-4fdb-9a60-2d6c7b4d8bf5",
   "metadata": {},
   "source": [
    "Combined, the JVM software and Java class libraries, are referred to as the Java Runtime Environment or JRE. "
   ]
  },
  {
   "cell_type": "markdown",
   "id": "5d191078-8e2d-4037-99ca-ad92c49bb02e",
   "metadata": {},
   "source": [
    "### Procedural Programming Languages"
   ]
  },
  {
   "cell_type": "markdown",
   "id": "972ab2b3-c0ba-4da0-b3f2-2b41f3db6ea0",
   "metadata": {},
   "source": [
    "Many early programming languages followed a paradigm called Procedural Programming.   \n",
    "These languages use a sequential pattern of program execution.  \n",
    "Drawbacks to procedural programming:  \n",
    "    - Difficult to translate real-world use cases to a sequential pattern  \n",
    "    - Difficult to maintain programs  \n",
    "    - Difficult to enhance as needed  \n",
    "( Comment = Using a 'double space' allows for line breaks in jupyter notebook )\n",
    "    "
   ]
  },
  {
   "cell_type": "markdown",
   "id": "6f709b9c-bc3f-4401-af99-4e6b96fdc9bb",
   "metadata": {},
   "source": [
    "### Java is an Object-Oriented Language"
   ]
  },
  {
   "cell_type": "markdown",
   "id": "331ef273-6a16-4a67-bb11-f7a2a9f25c0b",
   "metadata": {},
   "source": [
    "Interaction of objects  \n",
    "No prescribed sequence  \n",
    "Benefits:  \n",
    "    - Modularity  \n",
    "    - Information hiding  \n",
    "    - Code reuse  \n",
    "    - Maintainability  "
   ]
  },
  {
   "cell_type": "markdown",
   "id": "da0c75be-e2d3-4cc9-ac33-379e47841735",
   "metadata": {},
   "source": [
    "# Setting up the Java Development Environment"
   ]
  },
  {
   "cell_type": "markdown",
   "id": "98425440-7dd0-4053-b894-c2992f3784f1",
   "metadata": {},
   "source": [
    "Create oracle account  \n",
    "Download java development kit: https://www.oracle.com/java/technologies/javase/javase8u211-later-archive-downloads.html  \n",
    "Install appropriate version  \n",
    "Once installed, run the command 'java' from the terminal and a helpful guide for java should appear if it installed correctly. "
   ]
  },
  {
   "cell_type": "markdown",
   "id": "439f8f9b-c472-499a-8fb2-07ccc964438a",
   "metadata": {},
   "source": [
    "# Features of the installed JDK"
   ]
  },
  {
   "cell_type": "markdown",
   "id": "c71fe44d-79b9-4844-b819-a1d54bf155f0",
   "metadata": {},
   "source": [
    "Java SE (Standard Edition)"
   ]
  },
  {
   "cell_type": "code",
   "execution_count": null,
   "id": "25dd1d74-3f3f-4aff-a41b-c4b9b5cd3b9e",
   "metadata": {},
   "outputs": [],
   "source": []
  }
 ],
 "metadata": {
  "kernelspec": {
   "display_name": "Python 3",
   "language": "python",
   "name": "python3"
  },
  "language_info": {
   "codemirror_mode": {
    "name": "ipython",
    "version": 3
   },
   "file_extension": ".py",
   "mimetype": "text/x-python",
   "name": "python",
   "nbconvert_exporter": "python",
   "pygments_lexer": "ipython3",
   "version": "3.8.8"
  }
 },
 "nbformat": 4,
 "nbformat_minor": 5
}
