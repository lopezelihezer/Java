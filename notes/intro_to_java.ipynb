{
 "cells": [
  {
   "cell_type": "markdown",
   "id": "8982b8cd-33b8-404a-b3ca-12df439baf36",
   "metadata": {},
   "source": [
    "# Purpose of a Computer Program"
   ]
  },
  {
   "cell_type": "markdown",
   "id": "97f21595-a001-4b92-9873-bd6334f5aa01",
   "metadata": {},
   "source": [
    "A computer program is a set of instructions that run on a computer or other digital device. \n",
    "- At the machine level, the program consists of binary intructions (1s and 0s). \n",
    "-- Machine code\n",
    "- Most programs are written in high-level code (readable).\n",
    "-- Must be translated to machine code (compilers)"
   ]
  },
  {
   "cell_type": "markdown",
   "id": "aeff6ce1-6ff7-448b-89c7-9abd4873a564",
   "metadata": {},
   "source": [
    "Solaris = UNIX\n",
    "Linux\n",
    "Windows\n",
    "Each have their own c code compiler\n",
    "C code runs through its respective compiler and outputs the correct binary for the according OS. "
   ]
  },
  {
   "cell_type": "markdown",
   "id": "7e749db1-71ce-425c-85ad-fab6466fa51a",
   "metadata": {},
   "source": [
    "JAVA is different. Unlike C, the Java programing language is independent. It just needs to be compiled once.\n",
    "As long as you have a JVM running on the target computer. \n"
   ]
  },
  {
   "cell_type": "markdown",
   "id": "63510162-52c9-476c-b1fe-ebd717b11ba5",
   "metadata": {},
   "source": [
    "# Key Features of the Java Language"
   ]
  },
  {
   "cell_type": "markdown",
   "id": "082335e2-2a41-49a0-b506-324455ca23fc",
   "metadata": {},
   "source": [
    "Some of the features that set Java apart from most other languages are that:\n",
    "\n",
    "    -> It is platform-independent\n",
    "    -> It is object-oriented. It allows you to create and manage data objects that can referenced in powerful ways. \n",
    "    "
   ]
  },
  {
   "cell_type": "markdown",
   "id": "cd198477-f6de-4238-a964-bd08ab900c26",
   "metadata": {},
   "source": [
    "Java Code => Java Compiler => Java Bytecode which is then read by a JVM. "
   ]
  },
  {
   "cell_type": "markdown",
   "id": "b53d2a0a-8e70-4317-92d9-1b3ab94d3207",
   "metadata": {},
   "source": [
    "The Java programming language is often referred to as an interpreted language, portable or executable on any platform. "
   ]
  },
  {
   "cell_type": "markdown",
   "id": "5d565e66-3750-4fdb-9a60-2d6c7b4d8bf5",
   "metadata": {},
   "source": [
    "Combined, the JVM software and Java class libraries, are referred to as the Java Runtime Environment or JRE. "
   ]
  },
  {
   "cell_type": "markdown",
   "id": "5d191078-8e2d-4037-99ca-ad92c49bb02e",
   "metadata": {},
   "source": [
    "### Procedural Programming Languages"
   ]
  },
  {
   "cell_type": "markdown",
   "id": "972ab2b3-c0ba-4da0-b3f2-2b41f3db6ea0",
   "metadata": {},
   "source": [
    "Many early programming languages followed a paradigm called Procedural Programming.   \n",
    "These languages use a sequential pattern of program execution.  \n",
    "Drawbacks to procedural programming:  \n",
    "    - Difficult to translate real-world use cases to a sequential pattern  \n",
    "    - Difficult to maintain programs  \n",
    "    - Difficult to enhance as needed  \n",
    "( Comment = Using a 'double space' allows for line breaks in jupyter notebook )\n",
    "    "
   ]
  },
  {
   "cell_type": "markdown",
   "id": "6f709b9c-bc3f-4401-af99-4e6b96fdc9bb",
   "metadata": {},
   "source": [
    "### Java is an Object-Oriented Language"
   ]
  },
  {
   "cell_type": "markdown",
   "id": "331ef273-6a16-4a67-bb11-f7a2a9f25c0b",
   "metadata": {},
   "source": [
    "Interaction of objects  \n",
    "No prescribed sequence  \n",
    "Benefits:  \n",
    "    - Modularity  \n",
    "    - Information hiding  \n",
    "    - Code reuse  \n",
    "    - Maintainability  "
   ]
  },
  {
   "cell_type": "markdown",
   "id": "da0c75be-e2d3-4cc9-ac33-379e47841735",
   "metadata": {},
   "source": [
    "# Setting up the Java Development Environment"
   ]
  },
  {
   "cell_type": "markdown",
   "id": "98425440-7dd0-4053-b894-c2992f3784f1",
   "metadata": {},
   "source": [
    "Create oracle account  \n",
    "Download java development kit: https://www.oracle.com/java/technologies/javase/javase8u211-later-archive-downloads.html  \n",
    "Install appropriate version  \n",
    "Once installed, run the command 'java' from the terminal and a helpful guide for java should appear if it installed correctly. "
   ]
  },
  {
   "cell_type": "markdown",
   "id": "439f8f9b-c472-499a-8fb2-07ccc964438a",
   "metadata": {},
   "source": [
    "# Features of the installed JDK"
   ]
  },
  {
   "cell_type": "markdown",
   "id": "c71fe44d-79b9-4844-b819-a1d54bf155f0",
   "metadata": {},
   "source": [
    "Java SE (Standard Edition)"
   ]
  },
  {
   "cell_type": "markdown",
   "id": "7505fb90-52f3-45f6-ac01-b16d87b91af5",
   "metadata": {},
   "source": [
    "# Overview of Compiling and Running a Java Program"
   ]
  },
  {
   "cell_type": "markdown",
   "id": "5f641e6e-7a36-4cd1-b42c-d9e953b25b4c",
   "metadata": {},
   "source": [
    ".java => javac (compiler) => .class => java (program)\n",
    "1. .java file is created. The source code is contained in a .java file\n",
    "2. The source code is compiled by javac.\n",
    "3. The result is .class file (bytecode).\n",
    "4. The class file is executed by the java runtime. "
   ]
  },
  {
   "cell_type": "markdown",
   "id": "e602df89-e500-4605-9c35-7e71814e3197",
   "metadata": {},
   "source": [
    "### Compiling a Program"
   ]
  },
  {
   "cell_type": "markdown",
   "id": "ba98311a-473f-4228-ad5a-93e5c24c16c7",
   "metadata": {},
   "source": [
    "1. Go to the directory where the source code files are stored. \n",
    "2. Enter the following command for each .java file you want to compile.  \n",
    "Syntax:  \n",
    "javac SayHello.java  \n",
    "Example:  \n",
    "SayHello.class"
   ]
  },
  {
   "cell_type": "markdown",
   "id": "55072996-b0f5-4493-826b-fd5434f16b41",
   "metadata": {},
   "source": [
    "After compiling a .java file youll have a new file called 'classname.class'  \n",
    "You can then execute and test them using a JVM.  \n",
    "Example:  \n",
    "java SayHello  \n",
    "output:  \n",
    "Hello World!"
   ]
  },
  {
   "cell_type": "markdown",
   "id": "008d325d-20ef-4de4-b142-f5cbe2cd2c01",
   "metadata": {},
   "source": [
    "A Java program can output data in many ways. \n",
    "- To a file or db\n",
    "- To the console\n",
    "- To a webpage or other user interface. "
   ]
  },
  {
   "cell_type": "markdown",
   "id": "277c1782-b9bd-4355-98b5-c77ea63e3de3",
   "metadata": {},
   "source": [
    "# Java Classes and Packages"
   ]
  },
  {
   "cell_type": "markdown",
   "id": "eb6d5a97-f952-4d63-8c73-2db042ea47c2",
   "metadata": {},
   "source": [
    "A Java class is a building block of a Java application.  \n",
    "Example:  \n",
    "Shopping Cart.java  \n",
    "\n",
    "Includes code that:\n",
    "- Allows a customer to add items to the shopping cart\n",
    "- Provides visual confirmation to the customer"
   ]
  },
  {
   "cell_type": "markdown",
   "id": "7961afe2-2519-46b9-bbdd-f4760aba6ed4",
   "metadata": {},
   "source": [
    "### Program Structure\n"
   ]
  },
  {
   "cell_type": "markdown",
   "id": "3461addc-49c5-47a9-b425-b213d9cda817",
   "metadata": {},
   "source": [
    "A class consists of:\n",
    "- The class name. Class names begin with a capital letter.\n",
    "- The body o fthe class surrounded by braces {}\n",
    "- Data (called fields)\n",
    "- Operations (called methods)\n",
    "\n",
    "Java is case-sensitive!**\n",
    "\n",
    "Example:  \n",
    "public class Hello {  \n",
    "....// fields of the class  \n",
    "....// methods  \n",
    "}  "
   ]
  },
  {
   "cell_type": "markdown",
   "id": "195a1eb6-ce21-413d-b512-5e61d0c62b9f",
   "metadata": {},
   "source": [
    "### Java Packages"
   ]
  },
  {
   "cell_type": "markdown",
   "id": "642b7e85-c2cc-446d-a519-c80a4dda7cea",
   "metadata": {},
   "source": [
    "A package provides a namespace for the class. \n",
    "- This is a folder in which the class will be saved.\n",
    "- The folder name (the package) is used to uniquely identify the class. \n",
    "- Package names begin with a lowercase letter.\n",
    "\n",
    "Example:  \n",
    "  \n",
    "package greeting; (package name)  \n",
    "    \n",
    "public class Hello {                     *The class's unique name is greeting.Hello  \n",
    "....// fields and methods here    \n",
    "}"
   ]
  },
  {
   "cell_type": "markdown",
   "id": "30f43752-98a1-429a-a832-d5d308a1df30",
   "metadata": {},
   "source": [
    "Package names always begin with a lower case letter.  \n",
    "In this case the package name is 'greeting'.  \n",
    "Using packages when creating classes insn't mandatory but strongly recommended.   \n",
    "A semicolon signifies the end of a java statement.  "
   ]
  },
  {
   "cell_type": "markdown",
   "id": "84bae5e2-7b45-4b33-a9a0-f074444ec86c",
   "metadata": {},
   "source": [
    "# Creating a Java Class"
   ]
  },
  {
   "cell_type": "markdown",
   "id": "131b8010-3da1-4ba6-a458-16f99c629eda",
   "metadata": {},
   "source": [
    "- Open new text file.\n",
    "- Give it a .java extension and save. \n",
    "- Open using the editor of your choice. "
   ]
  },
  {
   "cell_type": "markdown",
   "id": "53da09c7-376c-4a02-9ea7-cbdfbedd68d9",
   "metadata": {},
   "source": [
    "# The 'main' Method"
   ]
  },
  {
   "cell_type": "markdown",
   "id": "e6b08278-fabd-4c19-a8a9-b6afeea9ac5d",
   "metadata": {},
   "source": [
    "- It is a special method that the JVM recognized as the starting point for every Java program.\n",
    "- The syntax is usually the same:  \n",
    "    public static void main (String args[]) {  \n",
    "        // code goes here in the code block  \n",
    "    }  \n",
    "    \n",
    "- It surrounds the entire method body with braces {}"
   ]
  },
  {
   "cell_type": "markdown",
   "id": "616992d2-db11-4713-878e-44fb612172bf",
   "metadata": {},
   "source": [
    "\"//\" signal comments in java  \n",
    "System.out.println (\"Hello World!\"); This is code for program output. "
   ]
  },
  {
   "cell_type": "markdown",
   "id": "24edb02e-d9ac-49a5-9167-2fcde0de7c6e",
   "metadata": {},
   "source": [
    "string definition: 1 or more alphanumeric characters or other characters like the asterisk, ampersand, percentage and so on.   \n",
    "Called a string literal. "
   ]
  },
  {
   "cell_type": "markdown",
   "id": "0c1c3ead-6c4b-41b1-a08c-36b6e204f4b5",
   "metadata": {},
   "source": [
    "### Fixing Syntax Errors"
   ]
  },
  {
   "cell_type": "markdown",
   "id": "dcdae4c0-ee25-4b23-a68a-a374a8811ac1",
   "metadata": {},
   "source": [
    "- If you have made a syntax error, the error message appears in the Output panel. \n",
    "- Common errors:\n",
    "- Unrecognized word (check for case-sensitivity error)\n",
    "- missing semicolon\n",
    "- Missing close quotation mark\n",
    "- Unmatched brace"
   ]
  },
  {
   "cell_type": "markdown",
   "id": "f8c26437-7364-4245-86b0-c591bbf0eab8",
   "metadata": {},
   "source": [
    "# Creating a Main Method"
   ]
  },
  {
   "cell_type": "markdown",
   "id": "fb29a62e-f62b-4428-83ba-11cd0e94a355",
   "metadata": {},
   "source": [
    "### Javac compiler download"
   ]
  },
  {
   "cell_type": "code",
   "execution_count": null,
   "id": "ca422d46-8f3d-46b2-a8b3-5f3f93e16a7c",
   "metadata": {},
   "outputs": [],
   "source": []
  }
 ],
 "metadata": {
  "kernelspec": {
   "display_name": "Python 3",
   "language": "python",
   "name": "python3"
  },
  "language_info": {
   "codemirror_mode": {
    "name": "ipython",
    "version": 3
   },
   "file_extension": ".py",
   "mimetype": "text/x-python",
   "name": "python",
   "nbconvert_exporter": "python",
   "pygments_lexer": "ipython3",
   "version": "3.8.8"
  }
 },
 "nbformat": 4,
 "nbformat_minor": 5
}
