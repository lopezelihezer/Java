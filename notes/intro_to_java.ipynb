{
 "cells": [
  {
   "cell_type": "markdown",
   "id": "8982b8cd-33b8-404a-b3ca-12df439baf36",
   "metadata": {},
   "source": [
    "# Purpose of a Computer Program"
   ]
  },
  {
   "cell_type": "markdown",
   "id": "97f21595-a001-4b92-9873-bd6334f5aa01",
   "metadata": {},
   "source": [
    "A computer program is a set of instructions that run on a computer or other digital device. \n",
    "- At the machine level, the program consists of binary intructions (1s and 0s). \n",
    "-- Machine code\n",
    "- Most programs are written in high-level code (readable).\n",
    "-- Must be translated to machine code (compilers)"
   ]
  },
  {
   "cell_type": "markdown",
   "id": "aeff6ce1-6ff7-448b-89c7-9abd4873a564",
   "metadata": {},
   "source": [
    "Solaris = UNIX\n",
    "Linux\n",
    "Windows\n",
    "Each have their own c code compiler\n",
    "C code runs through its respective compiler and outputs the correct binary for the according OS. "
   ]
  },
  {
   "cell_type": "markdown",
   "id": "7e749db1-71ce-425c-85ad-fab6466fa51a",
   "metadata": {},
   "source": [
    "JAVA is different. Unlike C, the Java programing language is independent. It just needs to be compiled once.\n",
    "As long as you have a JVM running on the target computer. \n"
   ]
  },
  {
   "cell_type": "markdown",
   "id": "63510162-52c9-476c-b1fe-ebd717b11ba5",
   "metadata": {},
   "source": [
    "# Key Features of the Java Language"
   ]
  },
  {
   "cell_type": "markdown",
   "id": "082335e2-2a41-49a0-b506-324455ca23fc",
   "metadata": {},
   "source": [
    "Some of the features that set Java apart from most other languages are that:\n",
    "    - It is platform-independent\n",
    "    - It is object-oriented. It allows you to create and manage data objects that can referenced in powerful ways. \n",
    "    "
   ]
  },
  {
   "cell_type": "markdown",
   "id": "cd198477-f6de-4238-a964-bd08ab900c26",
   "metadata": {},
   "source": [
    "Java Code => Java Compiler => Java Bytecode which is then read by a JVM. "
   ]
  },
  {
   "cell_type": "markdown",
   "id": "b53d2a0a-8e70-4317-92d9-1b3ab94d3207",
   "metadata": {},
   "source": [
    "The Java programming language is often referred to as an interpreted language, portable or executable on any platform. "
   ]
  },
  {
   "cell_type": "markdown",
   "id": "5d565e66-3750-4fdb-9a60-2d6c7b4d8bf5",
   "metadata": {},
   "source": [
    "Combined, the JVM software and Java class libraries, are referred to as the Java Runtime Environment or JRE. "
   ]
  },
  {
   "cell_type": "markdown",
   "id": "5d191078-8e2d-4037-99ca-ad92c49bb02e",
   "metadata": {},
   "source": [
    "### Procedural Programming Languages"
   ]
  },
  {
   "cell_type": "code",
   "execution_count": null,
   "id": "765cc1cb-4e0e-4521-bac6-96c48be239b7",
   "metadata": {},
   "outputs": [],
   "source": [
    "- Many early programming languages followed a paradigm called Procedural Programming. \n",
    "- These languages use a sequential pattern of program execution. \n",
    "- Drawbacks to procedural programming:"
   ]
  }
 ],
 "metadata": {
  "kernelspec": {
   "display_name": "Python 3",
   "language": "python",
   "name": "python3"
  },
  "language_info": {
   "codemirror_mode": {
    "name": "ipython",
    "version": 3
   },
   "file_extension": ".py",
   "mimetype": "text/x-python",
   "name": "python",
   "nbconvert_exporter": "python",
   "pygments_lexer": "ipython3",
   "version": "3.8.8"
  }
 },
 "nbformat": 4,
 "nbformat_minor": 5
}
