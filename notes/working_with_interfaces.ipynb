{
 "cells": [
  {
   "cell_type": "markdown",
   "id": "def6b6c2-6c42-47c3-84ff-25f1d0990707",
   "metadata": {},
   "source": [
    "# Working with Interfaces"
   ]
  },
  {
   "cell_type": "markdown",
   "id": "59bd73bb-ae77-497b-9bda-173338d83564",
   "metadata": {},
   "source": [
    "## Polymorphism in the JDK Foundation Classes"
   ]
  },
  {
   "cell_type": "markdown",
   "id": "0c3cdec4-79b1-4562-932d-aff83ef9fc5e",
   "metadata": {},
   "source": [
    "All classes have at the very top of their hierarchy the Object class. (java.lang.Object)  \n"
   ]
  },
  {
   "cell_type": "code",
   "execution_count": null,
   "id": "04cb6430-af8d-4cfc-9cbf-07a605f84b1d",
   "metadata": {},
   "outputs": [],
   "source": []
  },
  {
   "cell_type": "code",
   "execution_count": null,
   "id": "091edb16-d583-4b6d-9e8f-d24dc44a2585",
   "metadata": {},
   "outputs": [],
   "source": []
  },
  {
   "cell_type": "markdown",
   "id": "3010b63f-2975-4924-a790-b49db71a0234",
   "metadata": {},
   "source": [
    "## Using Interfaces"
   ]
  },
  {
   "cell_type": "markdown",
   "id": "0da363d5-137d-4cbf-a35d-54591d8059aa",
   "metadata": {},
   "source": [
    "### The Multiple Inheritance Dilemma"
   ]
  },
  {
   "cell_type": "markdown",
   "id": "22538a7d-e530-4406-be09-ec4e0221f909",
   "metadata": {},
   "source": [
    "### The Java Interface"
   ]
  },
  {
   "cell_type": "markdown",
   "id": "40acd459-c2bf-485f-8b06-5196af1cc581",
   "metadata": {},
   "source": [
    "An interface is similar to an abstract class, except that  \n",
    "- Methods are implicitly abstract (except default methods)\n",
    "- A class does not extend it, but implements it \n",
    "- A class amy implement more than one interface  \n",
    "All abstract methods from the interface must be implemented by the class. "
   ]
  },
  {
   "cell_type": "markdown",
   "id": "4535bf39-54de-4127-ae01-a4ec333c33e4",
   "metadata": {},
   "source": [
    "When a class implements an interface, it enters into a contract with the interface to implement all of its abstract methods. "
   ]
  },
  {
   "cell_type": "markdown",
   "id": "80184c97-97a3-46bd-8030-2910cf0dbbf7",
   "metadata": {},
   "source": [
    "Interfaces come in handy when you have two seperate hierarchies and want to some how link multiple subclasses.  \n",
    "Methods can be declared in an interface, but they can't be implemented in an interface.  \n",
    "A compiler error occurs if the method of the interface is not implemented.  "
   ]
  },
  {
   "cell_type": "markdown",
   "id": "5249102e-1860-480d-b332-954f6aca9d69",
   "metadata": {},
   "source": [
    "To avoid inappropriate casts use instanceof."
   ]
  },
  {
   "cell_type": "code",
   "execution_count": null,
   "id": "57169edb-cbd9-47a3-86c1-36fd8431ade6",
   "metadata": {},
   "outputs": [],
   "source": []
  },
  {
   "cell_type": "markdown",
   "id": "e0313c69-d5fd-41aa-9baa-5bde883c1099",
   "metadata": {},
   "source": [
    "## Using the List Interface"
   ]
  },
  {
   "cell_type": "markdown",
   "id": "e62a8513-c051-46a6-9d81-635ca807e24e",
   "metadata": {},
   "source": [
    "### The Collections Framework"
   ]
  },
  {
   "cell_type": "markdown",
   "id": "9e3bf4fb-d52b-4de8-a805-6fef69a6a306",
   "metadata": {},
   "source": [
    "the collections framework is located in the java.util package. The framework is helpful when working with lists or collections of objects.  \n",
    "It contains  \n",
    "- Interfaces\n",
    "- Abstract classes\n",
    "- Concrete classes (Example: ArrayList)"
   ]
  },
  {
   "cell_type": "markdown",
   "id": "6d382822-594d-421b-a264-ce4259dfc3f9",
   "metadata": {},
   "source": [
    "Arrays.asList(name);"
   ]
  },
  {
   "cell_type": "markdown",
   "id": "283d33f2-e1c8-4ac9-a97b-d23fe9686931",
   "metadata": {},
   "source": [
    "### Converting an array to an ArrayList   \n",
    "String[] nums = {\"one\", \"two\", \"three\"}  \n",
    "List<String> myList = Arrays.asList(nums);  \n",
    "ArrayLIst<String> myArrayList = new ArrayList(myList);"
   ]
  },
  {
   "cell_type": "markdown",
   "id": "4d992d93-a8d6-4950-ba85-c7df8a4b514d",
   "metadata": {},
   "source": [
    "### shortcut  \n",
    "String[] nums = {\"one\", \"two\", \"three\"};  \n",
    "ArrayList<String> myArrayList = new ArrayList ( Arrays.asList (nums));"
   ]
  },
  {
   "cell_type": "code",
   "execution_count": null,
   "id": "5172bcc6-9c2e-4326-98a4-5927aace0d62",
   "metadata": {},
   "outputs": [],
   "source": []
  },
  {
   "cell_type": "code",
   "execution_count": null,
   "id": "dbfb350a-c0b9-4639-9a69-a75ae76b51dc",
   "metadata": {},
   "outputs": [],
   "source": []
  },
  {
   "cell_type": "code",
   "execution_count": null,
   "id": "496a4896-e438-4cdf-8fe0-011e3666cb5b",
   "metadata": {},
   "outputs": [],
   "source": []
  },
  {
   "cell_type": "markdown",
   "id": "ba280322-f14b-48fd-89d9-44a19ef9ef6c",
   "metadata": {},
   "source": [
    "## Converting an Array to an ArrayList"
   ]
  },
  {
   "cell_type": "code",
   "execution_count": null,
   "id": "45fe14e6-e7c0-4786-955c-2c90ec030366",
   "metadata": {},
   "outputs": [],
   "source": []
  },
  {
   "cell_type": "markdown",
   "id": "7b189f24-4921-4265-b63b-efae0eb8db1f",
   "metadata": {},
   "source": [
    "## Introducing Lambda expressions"
   ]
  },
  {
   "cell_type": "markdown",
   "id": "e8a54fd1-0c3d-4f16-b8f0-be76debbe0c3",
   "metadata": {},
   "source": [
    "### Using a Lambda Expression with replaceAll"
   ]
  },
  {
   "cell_type": "markdown",
   "id": "92909a09-a5a1-4001-b515-7b01a6aa87d8",
   "metadata": {},
   "source": [
    "replaceAll is a default method of the List interface. It takes a lambda expressionk as an argument.  \n",
    "Example:  \n",
    "  \n",
    "mylist.replaceAll( s -> s.toUpperCase() );  \n",
    "  \n",
    "System.out.println(\"List.replaceAll lambda: \" + mylist);"
   ]
  },
  {
   "cell_type": "markdown",
   "id": "bbc91a82-9a5f-4411-b583-e88250e04242",
   "metadata": {},
   "source": [
    "### Lambda Expressions"
   ]
  },
  {
   "cell_type": "markdown",
   "id": "8e284855-1ab5-4a36-9e76-15d681955b3f",
   "metadata": {},
   "source": [
    "Lambda expressions are like methods used as the argument for another method. They have everything a method has:  \n",
    "    - input parameters  \n",
    "    - a method body  \n",
    "    - a return value  "
   ]
  },
  {
   "cell_type": "markdown",
   "id": "d9158e0e-ac7a-47a4-a8d6-69d1bd1f7d9c",
   "metadata": {},
   "source": [
    "Long version:  \n",
    "    mylist.replaceAll((String s) -> {return s.toUpperCase();});"
   ]
  },
  {
   "cell_type": "markdown",
   "id": "db8b5410-047a-429c-8298-c7c034fcdd62",
   "metadata": {},
   "source": [
    "Short version:  \n",
    "mylist.replaceAll( s -> s.toUpperCase() );"
   ]
  },
  {
   "cell_type": "markdown",
   "id": "7295efc8-300d-4278-8107-786e346dfca5",
   "metadata": {},
   "source": [
    "### The Enhanced APIs That Use Lambda"
   ]
  },
  {
   "cell_type": "markdown",
   "id": "a6645bd1-52c0-4787-951c-e5d12b16f7fe",
   "metadata": {},
   "source": [
    "3 enhanced APIs that take advantage of lambda  \n",
    "- java.util.functions - New  // Provides target types for lambda expressions  \n",
    "- java.util.stream - New  // Provides classes that support operations on streams of values  \n",
    "- java.util - Enhanced  // Interfaces and classes that make up the collections framework. Enhanced to sue lambda expressions. Includes List and ArrayList."
   ]
  },
  {
   "cell_type": "markdown",
   "id": "e8edb2e9-151f-4797-b185-2d6c88dc2056",
   "metadata": {},
   "source": [
    "### The UnaryOperator Lambda Type"
   ]
  },
  {
   "cell_type": "markdown",
   "id": "c362934f-092d-4fd8-b923-a6a394b2adb3",
   "metadata": {},
   "source": [
    "A UnaryOperator has a single input and returns a value of the same type as the input. Example: String in - String out  \n",
    "The method body acts upon the input in some way, returning a value of the same type as the input value.  "
   ]
  },
  {
   "cell_type": "markdown",
   "id": "9059092a-1288-4d77-a1ff-f04916b7afcd",
   "metadata": {},
   "source": [
    "### The Predicate Lambda Type"
   ]
  },
  {
   "cell_type": "markdown",
   "id": "3444a214-f54b-4175-a28b-48d322e421f5",
   "metadata": {},
   "source": [
    "A Predicate type takes in a single input argument and returns a boolean. Example: String in - boolean out  \n",
    "removeIf takes a Predicate type expression. Removes all elements of the ArrayList that satisfy the Predicate expression. "
   ]
  },
  {
   "cell_type": "code",
   "execution_count": null,
   "id": "2713014a-5a58-40e9-b88a-4759d0db9164",
   "metadata": {},
   "outputs": [],
   "source": []
  },
  {
   "cell_type": "code",
   "execution_count": null,
   "id": "adf4a053-dbed-4194-b8b0-c881eb650138",
   "metadata": {},
   "outputs": [],
   "source": []
  },
  {
   "cell_type": "markdown",
   "id": "e0c235fc-7cbc-46bb-ab16-d807702489f5",
   "metadata": {},
   "source": [
    "## Using a Predicate Lambda Expression"
   ]
  },
  {
   "cell_type": "markdown",
   "id": "7776a8d3-242e-428a-a1e8-69c538db5ef7",
   "metadata": {},
   "source": [
    "items.removeIf(i -> i.getDesc().equals(desc));"
   ]
  },
  {
   "cell_type": "code",
   "execution_count": null,
   "id": "3d1bb60d-6ae2-4a78-b00b-61b5dd257d7f",
   "metadata": {},
   "outputs": [],
   "source": []
  },
  {
   "cell_type": "markdown",
   "id": "1a08312e-a4ae-425c-9f48-7340d8a97159",
   "metadata": {},
   "source": [
    "## Managing Data in the Sample Soccer Game Application"
   ]
  },
  {
   "cell_type": "code",
   "execution_count": null,
   "id": "711fdf03-19e6-4cf4-b458-574955ba0610",
   "metadata": {},
   "outputs": [],
   "source": []
  }
 ],
 "metadata": {
  "kernelspec": {
   "display_name": "Python 3",
   "language": "python",
   "name": "python3"
  },
  "language_info": {
   "codemirror_mode": {
    "name": "ipython",
    "version": 3
   },
   "file_extension": ".py",
   "mimetype": "text/x-python",
   "name": "python",
   "nbconvert_exporter": "python",
   "pygments_lexer": "ipython3",
   "version": "3.8.8"
  }
 },
 "nbformat": 4,
 "nbformat_minor": 5
}
