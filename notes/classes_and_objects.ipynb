{
 "cells": [
  {
   "cell_type": "markdown",
   "id": "c7391cb6-026e-4e4f-9223-4e8014138e57",
   "metadata": {},
   "source": [
    "# Classes & Objects"
   ]
  },
  {
   "cell_type": "markdown",
   "id": "325462d6-75b9-49d6-b875-0330a7a483ee",
   "metadata": {},
   "source": [
    "Object-Oriented Programming  \n",
    "- Interaction of objects\n",
    "- No prescribed sequence\n"
   ]
  },
  {
   "cell_type": "markdown",
   "id": "b681beea-61b3-403c-8fa5-0a41f6f88dd3",
   "metadata": {},
   "source": [
    "### Characteristics of Objects"
   ]
  },
  {
   "cell_type": "markdown",
   "id": "a4c1207d-12c1-410b-a2c1-90f0ef3095a2",
   "metadata": {},
   "source": [
    "Objects have properties/attributes  \n",
    "- Size\n",
    "- Shape \n",
    "- Name \n",
    "- Color  \n",
    "All properties combined refer to an objects state.   "
   ]
  },
  {
   "cell_type": "markdown",
   "id": "c36e9c0f-8213-4f74-8752-ff0ccd6aa0d1",
   "metadata": {},
   "source": [
    "Objects have behaviors\n",
    "- Shop\n",
    "- Put item in cart\n",
    "- Pay"
   ]
  },
  {
   "cell_type": "markdown",
   "id": "078a35ed-1fb9-4847-94b4-f6efa5d05f89",
   "metadata": {},
   "source": [
    "We use classes to create objects."
   ]
  },
  {
   "cell_type": "markdown",
   "id": "c2789dd5-189c-441d-92d7-dffebce4b9b6",
   "metadata": {},
   "source": [
    "### Classes and Instances"
   ]
  },
  {
   "cell_type": "markdown",
   "id": "c0aae4e8-4278-47a7-8e65-a7ff19515624",
   "metadata": {},
   "source": [
    "A class is a blueprint or recipe for an object"
   ]
  },
  {
   "cell_type": "markdown",
   "id": "84ef26bb-7200-47c7-9361-85424ae40e4b",
   "metadata": {},
   "source": [
    "## Class Fields and Methods"
   ]
  },
  {
   "cell_type": "markdown",
   "id": "32437d16-9f28-48c8-8430-4c2018271d87",
   "metadata": {},
   "source": [
    "Example:"
   ]
  },
  {
   "cell_type": "markdown",
   "id": "7d95a347-0b4d-4af9-8473-d2ac4d1ef098",
   "metadata": {},
   "source": [
    "Customer properties and behaviors"
   ]
  },
  {
   "cell_type": "markdown",
   "id": "4370efb3-dde5-4398-b323-ad25d33db0ed",
   "metadata": {},
   "source": [
    "Properties\n",
    "- name\n",
    "- address\n",
    "- age \n",
    "- order number\n",
    "- contact number"
   ]
  },
  {
   "cell_type": "markdown",
   "id": "c59504e6-f654-4d8e-9b67-c84e41bfc625",
   "metadata": {},
   "source": [
    "Behaviors\n",
    "- Shop\n",
    "- Set address\n",
    "- Add item to cart\n",
    "- Ask for a discount\n",
    "- Display customer details"
   ]
  },
  {
   "cell_type": "markdown",
   "id": "552eec94-c142-4218-9fb9-68c7719a329c",
   "metadata": {},
   "source": [
    "Creating the Components of a Class"
   ]
  },
  {
   "cell_type": "markdown",
   "id": "44a21e0e-545f-4191-bbde-b99c66aabc34",
   "metadata": {},
   "source": [
    "        /* Example: The Components of a Class\n",
    "        public class Customer {     //Class declaration\n",
    "            public String  name = \"Junior Duke\";  // Fields, Properties, Attributes\n",
    "            public int     custID = 1205;\n",
    "            public String  address;\n",
    "            public int     orderNum;\n",
    "            public int     age;\n",
    "        \n",
    "            public void displayCustomer(){   // Methods (Behaviors)\n",
    "                System.out.println(\"Customer: \" + name);\n",
    "            }\n",
    "        }\n",
    "        */"
   ]
  },
  {
   "cell_type": "markdown",
   "id": "82499234-a3d3-4823-8db1-bdf05c2c4c74",
   "metadata": {},
   "source": [
    "public is an access control modifier and public makes the class visible to all classes in the program. "
   ]
  },
  {
   "cell_type": "markdown",
   "id": "7380e4db-52cc-4107-aeb7-cf23d9973301",
   "metadata": {},
   "source": [
    "class - noun  \n",
    "properties - adj  \n",
    "behaviors - verbs  "
   ]
  },
  {
   "cell_type": "markdown",
   "id": "2c97a25e-f97f-4438-b9fe-0a3cd6425cb1",
   "metadata": {},
   "source": [
    "### Creating a Java Class"
   ]
  },
  {
   "cell_type": "markdown",
   "id": "9398c4ac-4051-4016-a1ed-53f7e4aafde1",
   "metadata": {},
   "source": [
    "            public class Item {\n",
    "                public int itemID;\n",
    "                public String desc;\n",
    "                public double price;\n",
    "                public int quatity;\n",
    "            }"
   ]
  },
  {
   "cell_type": "markdown",
   "id": "67bfa55d-cdea-4508-9f40-1c12913f4885",
   "metadata": {},
   "source": [
    "### Declaring and Instantiating Objects"
   ]
  },
  {
   "cell_type": "markdown",
   "id": "877c4366-c073-45fe-9970-6ced2d6e505d",
   "metadata": {},
   "source": [
    "Creating new instances  \n",
    "\n",
    "            <class name> variable = new <class name>()\n",
    "\n",
    "            class object = new class()  // creates new instance and ties to object variable\n",
    "    \n",
    "            customer01.age = 40;        // Fields are accessed\n",
    "        \n",
    "            customer01.displayCustomer();   // Methods are called."
   ]
  },
  {
   "cell_type": "markdown",
   "id": "51485e0e-a30d-46a2-8013-a9d0585ded4f",
   "metadata": {},
   "source": [
    "The . operator is used to seperate objects and access their fields and methods. "
   ]
  },
  {
   "cell_type": "markdown",
   "id": "f9291fb7-1dba-4db6-8015-3ae4b54b6a31",
   "metadata": {},
   "source": [
    "### Working with Object References"
   ]
  },
  {
   "cell_type": "code",
   "execution_count": null,
   "id": "e9e002be-8f0f-4b20-ad3c-03c77b84a588",
   "metadata": {},
   "outputs": [],
   "source": []
  }
 ],
 "metadata": {
  "kernelspec": {
   "display_name": "Python 3",
   "language": "python",
   "name": "python3"
  },
  "language_info": {
   "codemirror_mode": {
    "name": "ipython",
    "version": 3
   },
   "file_extension": ".py",
   "mimetype": "text/x-python",
   "name": "python",
   "nbconvert_exporter": "python",
   "pygments_lexer": "ipython3",
   "version": "3.8.8"
  }
 },
 "nbformat": 4,
 "nbformat_minor": 5
}
