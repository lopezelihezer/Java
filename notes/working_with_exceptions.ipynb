{
 "cells": [
  {
   "cell_type": "markdown",
   "id": "00bef2f6-5ee5-4cf9-9bac-25918dbd3232",
   "metadata": {},
   "source": [
    "# Working with Exceptions"
   ]
  },
  {
   "cell_type": "markdown",
   "id": "c3f1c7c9-fcd9-417a-9833-8b71c2f9d048",
   "metadata": {},
   "source": [
    "## Handling Exceptions: An overview"
   ]
  },
  {
   "cell_type": "markdown",
   "id": "66f04e4f-62c4-4ee3-8d27-3a6a3457a837",
   "metadata": {},
   "source": [
    "### What are Exceptions?"
   ]
  },
  {
   "cell_type": "markdown",
   "id": "2ab7d748-a75a-412b-a4d7-e4e1a70c787e",
   "metadata": {},
   "source": [
    "Java handles unexpected situations using exceptions  \n",
    "- Something unexpected happens in the program\n",
    "- Java doesn't know what to do so it creates an exception object containing useful info and throw the exception to the code that invoked the problematic method.  \n",
    "- There are several different types of exceptions. "
   ]
  },
  {
   "cell_type": "markdown",
   "id": "823a0169-5148-497b-9976-6c99e9fa0bbd",
   "metadata": {},
   "source": [
    "### Examples of Exceptions"
   ]
  },
  {
   "cell_type": "markdown",
   "id": "3e8a2db1-410a-4a34-a09f-d2fc1aba87bb",
   "metadata": {},
   "source": [
    "java.lang.ArrayIndexOutOfBoundsException - Attempt to access a nonexistent array index  \n",
    "java.lang.ClassCastException - Attempt to cast on object to an illegal type  \n",
    "java.lang.NullPointerException - Attempt to use an object reference that has not been instantiated.\n",
    "  \n",
    "You can create an exception, too!  \n",
    "An exception is just a class. \n",
    "public class MyException extends Exception {}"
   ]
  },
  {
   "cell_type": "markdown",
   "id": "6054b24c-d018-4a2a-989a-8b719694224e",
   "metadata": {},
   "source": [
    "### Types of Throwable Classes"
   ]
  },
  {
   "cell_type": "markdown",
   "id": "09d39e82-aa2e-41ee-b8fd-590b042d3225",
   "metadata": {},
   "source": [
    "Exceptions are subclasses of Throwable. There are 3 main types of Throwable  \n",
    "- Error = typically an unrevorable external error / unchecked (Caused by a condition external to the application like the OS)\n",
    "- RuntimeException = typically caused by a programming mistake / unchecked  \n",
    "- Exception = Recoverable erro / Checked ( Must be caught or thrown)"
   ]
  },
  {
   "cell_type": "markdown",
   "id": "429d3bcd-816f-4dbb-ab4d-4418d3a98eb1",
   "metadata": {},
   "source": [
    "## Propagation of Exceptions"
   ]
  },
  {
   "cell_type": "markdown",
   "id": "f8294414-1649-4043-8797-9582eedacb06",
   "metadata": {},
   "source": [
    "### How Exceptions are Thrown"
   ]
  },
  {
   "cell_type": "markdown",
   "id": "2d9c5524-bce0-4c4e-9206-f21608519fc4",
   "metadata": {},
   "source": [
    "Normal program execution: "
   ]
  },
  {
   "cell_type": "markdown",
   "id": "0228116c-466a-40e3-babd-96efc6931def",
   "metadata": {},
   "source": [
    "1. Caller method calls worker method\n",
    "2. Worker method does work\n",
    "3. Worker method completes work and then execution returns to caller method"
   ]
  },
  {
   "cell_type": "markdown",
   "id": "f3d7f393-cd75-4edb-92aa-ecbb0d495406",
   "metadata": {},
   "source": [
    "When an exception occurs, this sequence changes. An exception object is thrown and either:  \n",
    "    - Passed to a catch block in the current method  OR  \n",
    "    - Thrown back to the caller method. "
   ]
  },
  {
   "cell_type": "markdown",
   "id": "6b7be726-7d24-41f1-a72d-6e18eef4ca88",
   "metadata": {},
   "source": [
    "## Overview of Catching Exceptions"
   ]
  },
  {
   "cell_type": "markdown",
   "id": "5669bdc7-6c51-4c5d-b654-052a95b87b9f",
   "metadata": {},
   "source": [
    "The try/catch block"
   ]
  },
  {
   "cell_type": "markdown",
   "id": "111ee8b1-3ff3-425c-aafb-c367ef2a641b",
   "metadata": {},
   "source": [
    "## Overview of Throwing Exceptions"
   ]
  },
  {
   "cell_type": "markdown",
   "id": "0883d1bd-fd9d-451b-9310-29b13cef471f",
   "metadata": {},
   "source": [
    "Throwing Throwable Object  \n",
    "If the error isnt caught earlier in the chain, its thrown to its caller method which is the main method.  \n",
    "It will continue to be thrown down the call stack until it is caught.  \n",
    "When the exception is thrown up the call stack without being caught, it will eventually reach the JVM. The JVM will print the exception's output to the console and exit. "
   ]
  },
  {
   "cell_type": "markdown",
   "id": "b35b165f-765d-4bd5-84c9-687f566fdcfb",
   "metadata": {},
   "source": [
    "The ArrayIndexOutOfBoundsException is a runtime exception. Not a checked exception so its automatically thrown to console. "
   ]
  },
  {
   "cell_type": "markdown",
   "id": "f64093dd-b12f-48db-a7fa-e32a821d733f",
   "metadata": {},
   "source": [
    "### Summary of Exception Types"
   ]
  },
  {
   "cell_type": "markdown",
   "id": "29421e75-68eb-4e06-a7a1-12a11169b950",
   "metadata": {},
   "source": [
    "A Throwable is a special type of Java object.  \n",
    "It is the object type that is used as the argument in a catch clause. It can be \"thrown\" to the calling method.  \n",
    "It has 3 subclasses:  \n",
    "    - Error : Automatically thrown to the calling method if created  \n",
    "    - Exception : Must be explicitly thrown to the calling method OR Caught using a try/catch block   \n",
    "    - RuntimeException : Is automatically thrown to the calling method. "
   ]
  },
  {
   "cell_type": "markdown",
   "id": "136ff072-4c74-49b4-800f-7e7dff4b4978",
   "metadata": {},
   "source": [
    "You are required to either catch an exception within the method that generates it or throw it to the calling method. "
   ]
  },
  {
   "cell_type": "markdown",
   "id": "6b001015-32c5-413b-8f8f-9a31836c980f",
   "metadata": {},
   "source": [
    "## Catching an Exception"
   ]
  },
  {
   "cell_type": "markdown",
   "id": "baa2338f-7cb5-4085-8413-c209346045c0",
   "metadata": {},
   "source": [
    "           try {\n",
    "           double divResult = calc.divide(50, 0);\n",
    "           } catch (ArithmeticException ae) {\n",
    "           System.out.println(ae);\n",
    "           }\n",
    "           output: java.lang.ArithmeticException: / by zero"
   ]
  },
  {
   "cell_type": "markdown",
   "id": "21c073b1-524c-4590-bb9d-de4f052fc18d",
   "metadata": {},
   "source": [
    "## Best Practices for Exception Handling"
   ]
  },
  {
   "cell_type": "markdown",
   "id": "d97a2a30-9806-4fd5-b609-1cdea6f646a0",
   "metadata": {},
   "source": [
    "### Best Practices"
   ]
  },
  {
   "cell_type": "markdown",
   "id": "15950455-e2e8-4dd1-a56c-924923b9f090",
   "metadata": {},
   "source": [
    "- Catch the actual exception thrown, not the superclass type. \n",
    "- Examine the exception to find out the exact problem so you can recover cleanly. \n",
    "- You do not need to catch every exception. A programming mistake should not be handled. It must be fixed.  \n",
    "  \n",
    "Ask yourself, \"Does this exception represent behabior I want the program to recover from?\""
   ]
  },
  {
   "cell_type": "markdown",
   "id": "12ded442-003e-4010-992c-d070587660df",
   "metadata": {},
   "source": [
    "## Handling Multiple Exceptions and Errors"
   ]
  },
  {
   "cell_type": "markdown",
   "id": "602d6a7a-34be-49c6-a42b-6b24f9749ab7",
   "metadata": {},
   "source": [
    "        catch (Exception e) {\n",
    "            System.out.println(e);\n",
    "        }"
   ]
  },
  {
   "cell_type": "code",
   "execution_count": null,
   "id": "b6448070-d49b-45e1-bcf6-c866836b7189",
   "metadata": {},
   "outputs": [],
   "source": []
  }
 ],
 "metadata": {
  "kernelspec": {
   "display_name": "Python 3",
   "language": "python",
   "name": "python3"
  },
  "language_info": {
   "codemirror_mode": {
    "name": "ipython",
    "version": 3
   },
   "file_extension": ".py",
   "mimetype": "text/x-python",
   "name": "python",
   "nbconvert_exporter": "python",
   "pygments_lexer": "ipython3",
   "version": "3.8.8"
  }
 },
 "nbformat": 4,
 "nbformat_minor": 5
}
