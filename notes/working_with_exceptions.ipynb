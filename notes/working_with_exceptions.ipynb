{
 "cells": [
  {
   "cell_type": "markdown",
   "id": "00bef2f6-5ee5-4cf9-9bac-25918dbd3232",
   "metadata": {},
   "source": [
    "# Working with Exceptions"
   ]
  },
  {
   "cell_type": "markdown",
   "id": "c3f1c7c9-fcd9-417a-9833-8b71c2f9d048",
   "metadata": {},
   "source": [
    "## Handling Exceptions: An overview"
   ]
  },
  {
   "cell_type": "markdown",
   "id": "66f04e4f-62c4-4ee3-8d27-3a6a3457a837",
   "metadata": {},
   "source": [
    "### What are Exceptions?"
   ]
  },
  {
   "cell_type": "markdown",
   "id": "2ab7d748-a75a-412b-a4d7-e4e1a70c787e",
   "metadata": {},
   "source": [
    "Java handles unexpected situations using exceptions  \n",
    "- Something unexpected happens in the program\n",
    "- Java doesn't know what to do so it creates an exception object containing useful info and throw the exception to the code that invoked the problematic method.  \n",
    "- There are several different types of exceptions. "
   ]
  },
  {
   "cell_type": "markdown",
   "id": "823a0169-5148-497b-9976-6c99e9fa0bbd",
   "metadata": {},
   "source": [
    "### Examples of Exceptions"
   ]
  },
  {
   "cell_type": "markdown",
   "id": "3e8a2db1-410a-4a34-a09f-d2fc1aba87bb",
   "metadata": {},
   "source": [
    "java.lang.ArrayIndexOutOfBoundsException - Attempt to access a nonexistent array index  \n",
    "java.lang.ClassCastException - Attempt to cast on object to an illegal type  \n",
    "java.lang.NullPointerException - Attempt to use an object reference that has not been instantiated.\n",
    "  \n",
    "You can create an exception, too!  \n",
    "An exception is just a class. \n",
    "public class MyException extends Exception {}"
   ]
  },
  {
   "cell_type": "markdown",
   "id": "6054b24c-d018-4a2a-989a-8b719694224e",
   "metadata": {},
   "source": [
    "### Types of Throwable Classes"
   ]
  },
  {
   "cell_type": "markdown",
   "id": "09d39e82-aa2e-41ee-b8fd-590b042d3225",
   "metadata": {},
   "source": [
    "Exceptions are subclasses of Throwable. There are 3 main types of Throwable  \n",
    "- Error = typically an unrevorable external error / unchecked (Caused by a condition external to the application like the OS)\n",
    "- RuntimeException = typically caused by a programming mistake / unchecked  \n",
    "- Exception = Recoverable erro / Checked ( Must be caught or thrown)"
   ]
  },
  {
   "cell_type": "code",
   "execution_count": null,
   "id": "fc79efe1-1a28-41df-ab0c-0094a43ee203",
   "metadata": {},
   "outputs": [],
   "source": []
  }
 ],
 "metadata": {
  "kernelspec": {
   "display_name": "Python 3",
   "language": "python",
   "name": "python3"
  },
  "language_info": {
   "codemirror_mode": {
    "name": "ipython",
    "version": 3
   },
   "file_extension": ".py",
   "mimetype": "text/x-python",
   "name": "python",
   "nbconvert_exporter": "python",
   "pygments_lexer": "ipython3",
   "version": "3.8.8"
  }
 },
 "nbformat": 4,
 "nbformat_minor": 5
}
