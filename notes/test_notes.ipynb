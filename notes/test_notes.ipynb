{
 "cells": [
  {
   "cell_type": "markdown",
   "id": "3f13d8e9-c494-48cf-b631-11f807801bfb",
   "metadata": {},
   "source": [
    "# TEST NOTES"
   ]
  },
  {
   "cell_type": "markdown",
   "id": "3f48e7b5-0faf-4388-9be9-ea348a045016",
   "metadata": {},
   "source": [
    "What do you mean by public static void main String args?  \n",
    "public static void main(String args[])   \n",
    "public : accessible in whole program/ its scope is in complete program   \n",
    "static: there is no need to create object/instance of this main function to access it.   \n",
    "void: function can't return value   \n",
    "main: this is main function where compiler starts the execution first."
   ]
  },
  {
   "cell_type": "markdown",
   "id": "c33147e0-984f-47be-88a1-a0fea7a2770b",
   "metadata": {},
   "source": [
    "When you apply the static modifier to a field in a class, it is known as a static field or class variable. A class variable is a single variable that is shared by all instances of the class. If one instance of the class makes a change to the value of a class variable, all instances of the class will see that change.  \n",
    "  \n",
    "On Line 02, num is declared as a class variable and initialized to a value of 0. Therefore, both a.num and b.num refer to the same value in memory. Line 08 increments num to a value of 1. Line 09 adds num to itself for a final value of 2. Since both a.num and b.num share the numvariable, both print statements will display the value 2."
   ]
  },
  {
   "cell_type": "markdown",
   "id": "d0f76d16-c0ad-458e-8385-abfc8d85bb62",
   "metadata": {},
   "source": [
    "You can access a public static member of another class directly, using the notation ClassName.memberName:"
   ]
  },
  {
   "cell_type": "code",
   "execution_count": null,
   "id": "39f939be-bcca-4781-8c4b-7c8850d974f8",
   "metadata": {},
   "outputs": [],
   "source": []
  }
 ],
 "metadata": {
  "kernelspec": {
   "display_name": "Python 3",
   "language": "python",
   "name": "python3"
  },
  "language_info": {
   "codemirror_mode": {
    "name": "ipython",
    "version": 3
   },
   "file_extension": ".py",
   "mimetype": "text/x-python",
   "name": "python",
   "nbconvert_exporter": "python",
   "pygments_lexer": "ipython3",
   "version": "3.8.8"
  }
 },
 "nbformat": 4,
 "nbformat_minor": 5
}
