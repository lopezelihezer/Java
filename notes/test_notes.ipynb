{
 "cells": [
  {
   "cell_type": "markdown",
   "id": "3f13d8e9-c494-48cf-b631-11f807801bfb",
   "metadata": {},
   "source": [
    "# TEST NOTES"
   ]
  },
  {
   "cell_type": "markdown",
   "id": "3f48e7b5-0faf-4388-9be9-ea348a045016",
   "metadata": {},
   "source": [
    "What do you mean by public static void main String args?  \n",
    "public static void main(String args[])   \n",
    "public : accessible in whole program/ its scope is in complete program   \n",
    "static: there is no need to create object/instance of this main function to access it.   \n",
    "void: function can't return value   \n",
    "main: this is main function where compiler starts the execution first."
   ]
  },
  {
   "cell_type": "markdown",
   "id": "c33147e0-984f-47be-88a1-a0fea7a2770b",
   "metadata": {},
   "source": [
    "When you apply the static modifier to a field in a class, it is known as a static field or class variable. A class variable is a single variable that is shared by all instances of the class. If one instance of the class makes a change to the value of a class variable, all instances of the class will see that change.  \n",
    "  \n",
    "On Line 02, num is declared as a class variable and initialized to a value of 0. Therefore, both a.num and b.num refer to the same value in memory. Line 08 increments num to a value of 1. Line 09 adds num to itself for a final value of 2. Since both a.num and b.num share the numvariable, both print statements will display the value 2."
   ]
  },
  {
   "cell_type": "markdown",
   "id": "d0f76d16-c0ad-458e-8385-abfc8d85bb62",
   "metadata": {},
   "source": [
    "You can access a public static member of another class directly, using the notation ClassName.memberName:"
   ]
  },
  {
   "cell_type": "markdown",
   "id": "e47048df-0116-4b20-8b77-a899f0028822",
   "metadata": {},
   "source": [
    "---"
   ]
  },
  {
   "cell_type": "markdown",
   "id": "0e5a521e-2c50-45c3-ae64-0381b6fa0acb",
   "metadata": {},
   "source": [
    "You can use a return statement with a method that has been declared void. However, you cannot specify a value with the return keyword when the method is declared with the void return type, as the void return type does not return a value.  \n",
    "  \n",
    "In this case, the sum method is declared with a return type of void on Line 06. Since Line 07 contains a return statement that returns a value of true in the body of the sum method, a compilation error will occur."
   ]
  },
  {
   "cell_type": "markdown",
   "id": "eb5a27c0-08be-4249-aca9-2ce6ed737189",
   "metadata": {},
   "source": [
    "---"
   ]
  },
  {
   "cell_type": "markdown",
   "id": "53576015-4420-4be3-92be-1a7e1a8b2d86",
   "metadata": {},
   "source": [
    "Encapsulation refers to the practice of controlling access to, and guarding the state of, objects in your program. To achieve tight encapsulation, a class should restrict access to its member fields so that direct manipulation of these fields is only possible from within the class itself. You can restrict access to member fields by ensuring that they are declared with the private access modifier.  \n",
    "\n",
    "Also, to achieve tight encapsulation, member fields in your objects should only be altered via public methods in the class. This can be achieved by declaring all methods that alter the private fields with the public access level modifier."
   ]
  },
  {
   "cell_type": "markdown",
   "id": "b7800b45-8c61-4c90-8aba-c84857f41c6e",
   "metadata": {},
   "source": [
    "---"
   ]
  },
  {
   "cell_type": "markdown",
   "id": "4a8df51b-8f45-49ae-b569-bac435cd4a68",
   "metadata": {},
   "source": [
    "A static variable belongs to the class rather than an instance of the class. A static method can only access variables from a class if the variables are declared as static, or if they are accessed from an instance of the class. In this case, the non-static compilation error is resolved by adding the static keyword to the myVar variable declaration."
   ]
  },
  {
   "cell_type": "markdown",
   "id": "377f28f2-be25-402a-ae5f-7a2b2a6fd7a0",
   "metadata": {},
   "source": [
    "---"
   ]
  },
  {
   "cell_type": "markdown",
   "id": "b91c30f2-a436-4a3d-bd29-d51ec7e867b1",
   "metadata": {},
   "source": [
    "review for loop and enhanced for loop."
   ]
  },
  {
   "cell_type": "markdown",
   "id": "606d6f01-992a-40a3-a543-76858dc6a7bd",
   "metadata": {},
   "source": [
    "---"
   ]
  },
  {
   "cell_type": "markdown",
   "id": "02f962da-a201-4db0-911b-30ce5c1261c6",
   "metadata": {},
   "source": [
    "A method declaration consists of four required elements:  \n",
    "- Return type - the data type of the value that the method will return. If no value is returned, the return type must be declared as void and the method cannot use the return keyword.  \n",
    "- Method name - the name that will be used in the program to execute the method. The method name must meet the Java naming requirements.  \n",
    "- Parentheses - located after the method name. An optional parameter list can be placed inside the parentheses.  \n",
    "- Method body enclosed by braces - the code used to perform tasks within the method.    \n",
    "  \n",
    "The following elements of a method declaration are optional:  \n",
    "  \n",
    "- Access modifier - specifies from where the method can be accessed.  \n",
    "- Exception list - a list of possible exceptions that the method can throw.  \n",
    "- Parameter list - a list of arguments that are placed inside the required parentheses. The arguments allow you to pass values as input to the method, and they must be declared with a data type.  "
   ]
  },
  {
   "cell_type": "markdown",
   "id": "7fb172a8-169f-4d87-a99f-b4377f9109f1",
   "metadata": {},
   "source": [
    "---"
   ]
  },
  {
   "cell_type": "markdown",
   "id": "106e9950-fca2-49e3-a4ca-bdc132ed904a",
   "metadata": {},
   "source": [
    "You can apply access modifiers to methods and fields to specify from which classes the field or method can be accessed. When the public access modifier is applied to a method, that method becomes accessible to all classes in all packages.\n",
    "An access modifier is used to allow other classes access to a field or method. The protected access modifier makes a method visible to the following:  \n",
    "  \n",
    "- The class in which it was declared  \n",
    "- Subclasses of the class in which it was declared  \n",
    "- Other classes in the same package  \n",
    "Subclasses can be located either in the same package as the parent class or in a different package."
   ]
  },
  {
   "cell_type": "markdown",
   "id": "398db39c-5bb8-42e0-bad1-dbfaf43924c8",
   "metadata": {},
   "source": [
    "---"
   ]
  },
  {
   "cell_type": "code",
   "execution_count": null,
   "id": "96fb4b6d-d930-4ef8-8ec9-136319fc3c68",
   "metadata": {},
   "outputs": [],
   "source": []
  }
 ],
 "metadata": {
  "kernelspec": {
   "display_name": "Python 3",
   "language": "python",
   "name": "python3"
  },
  "language_info": {
   "codemirror_mode": {
    "name": "ipython",
    "version": 3
   },
   "file_extension": ".py",
   "mimetype": "text/x-python",
   "name": "python",
   "nbconvert_exporter": "python",
   "pygments_lexer": "ipython3",
   "version": "3.8.8"
  }
 },
 "nbformat": 4,
 "nbformat_minor": 5
}
