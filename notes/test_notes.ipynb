{
 "cells": [
  {
   "cell_type": "markdown",
   "id": "3f13d8e9-c494-48cf-b631-11f807801bfb",
   "metadata": {},
   "source": [
    "# TEST NOTES"
   ]
  },
  {
   "cell_type": "markdown",
   "id": "3f48e7b5-0faf-4388-9be9-ea348a045016",
   "metadata": {},
   "source": [
    "What do you mean by public static void main String args?  \n",
    "public static void main(String args[])   \n",
    "public : accessible in whole program/ its scope is in complete program   \n",
    "static: there is no need to create object/instance of this main function to access it.   \n",
    "void: function can't return value   \n",
    "main: this is main function where compiler starts the execution first."
   ]
  },
  {
   "cell_type": "markdown",
   "id": "c33147e0-984f-47be-88a1-a0fea7a2770b",
   "metadata": {},
   "source": [
    "When you apply the static modifier to a field in a class, it is known as a static field or class variable. A class variable is a single variable that is shared by all instances of the class. If one instance of the class makes a change to the value of a class variable, all instances of the class will see that change.  \n",
    "  \n",
    "On Line 02, num is declared as a class variable and initialized to a value of 0. Therefore, both a.num and b.num refer to the same value in memory. Line 08 increments num to a value of 1. Line 09 adds num to itself for a final value of 2. Since both a.num and b.num share the numvariable, both print statements will display the value 2."
   ]
  },
  {
   "cell_type": "markdown",
   "id": "d0f76d16-c0ad-458e-8385-abfc8d85bb62",
   "metadata": {},
   "source": [
    "You can access a public static member of another class directly, using the notation ClassName.memberName:"
   ]
  },
  {
   "cell_type": "markdown",
   "id": "e47048df-0116-4b20-8b77-a899f0028822",
   "metadata": {},
   "source": [
    "---"
   ]
  },
  {
   "cell_type": "markdown",
   "id": "0e5a521e-2c50-45c3-ae64-0381b6fa0acb",
   "metadata": {},
   "source": [
    "You can use a return statement with a method that has been declared void. However, you cannot specify a value with the return keyword when the method is declared with the void return type, as the void return type does not return a value.  \n",
    "  \n",
    "In this case, the sum method is declared with a return type of void on Line 06. Since Line 07 contains a return statement that returns a value of true in the body of the sum method, a compilation error will occur."
   ]
  },
  {
   "cell_type": "markdown",
   "id": "eb5a27c0-08be-4249-aca9-2ce6ed737189",
   "metadata": {},
   "source": [
    "---"
   ]
  },
  {
   "cell_type": "markdown",
   "id": "53576015-4420-4be3-92be-1a7e1a8b2d86",
   "metadata": {},
   "source": [
    "Encapsulation refers to the practice of controlling access to, and guarding the state of, objects in your program. To achieve tight encapsulation, a class should restrict access to its member fields so that direct manipulation of these fields is only possible from within the class itself. You can restrict access to member fields by ensuring that they are declared with the private access modifier.  \n",
    "\n",
    "Also, to achieve tight encapsulation, member fields in your objects should only be altered via public methods in the class. This can be achieved by declaring all methods that alter the private fields with the public access level modifier."
   ]
  },
  {
   "cell_type": "markdown",
   "id": "b7800b45-8c61-4c90-8aba-c84857f41c6e",
   "metadata": {},
   "source": [
    "---"
   ]
  },
  {
   "cell_type": "markdown",
   "id": "4a8df51b-8f45-49ae-b569-bac435cd4a68",
   "metadata": {},
   "source": [
    "A static variable belongs to the class rather than an instance of the class. A static method can only access variables from a class if the variables are declared as static, or if they are accessed from an instance of the class. In this case, the non-static compilation error is resolved by adding the static keyword to the myVar variable declaration."
   ]
  },
  {
   "cell_type": "markdown",
   "id": "377f28f2-be25-402a-ae5f-7a2b2a6fd7a0",
   "metadata": {},
   "source": [
    "---"
   ]
  },
  {
   "cell_type": "markdown",
   "id": "b91c30f2-a436-4a3d-bd29-d51ec7e867b1",
   "metadata": {},
   "source": [
    "review for loop and enhanced for loop."
   ]
  },
  {
   "cell_type": "markdown",
   "id": "606d6f01-992a-40a3-a543-76858dc6a7bd",
   "metadata": {},
   "source": [
    "---"
   ]
  },
  {
   "cell_type": "markdown",
   "id": "02f962da-a201-4db0-911b-30ce5c1261c6",
   "metadata": {},
   "source": [
    "A method declaration consists of four required elements:  \n",
    "- Return type - the data type of the value that the method will return. If no value is returned, the return type must be declared as void and the method cannot use the return keyword.  \n",
    "- Method name - the name that will be used in the program to execute the method. The method name must meet the Java naming requirements.  \n",
    "- Parentheses - located after the method name. An optional parameter list can be placed inside the parentheses.  \n",
    "- Method body enclosed by braces - the code used to perform tasks within the method.    \n",
    "  \n",
    "The following elements of a method declaration are optional:  \n",
    "  \n",
    "- Access modifier - specifies from where the method can be accessed.  \n",
    "- Exception list - a list of possible exceptions that the method can throw.  \n",
    "- Parameter list - a list of arguments that are placed inside the required parentheses. The arguments allow you to pass values as input to the method, and they must be declared with a data type.  "
   ]
  },
  {
   "cell_type": "markdown",
   "id": "7fb172a8-169f-4d87-a99f-b4377f9109f1",
   "metadata": {},
   "source": [
    "---"
   ]
  },
  {
   "cell_type": "markdown",
   "id": "106e9950-fca2-49e3-a4ca-bdc132ed904a",
   "metadata": {},
   "source": [
    "You can apply access modifiers to methods and fields to specify from which classes the field or method can be accessed. When the public access modifier is applied to a method, that method becomes accessible to all classes in all packages.\n",
    "An access modifier is used to allow other classes access to a field or method. The protected access modifier makes a method visible to the following:  \n",
    "  \n",
    "- The class in which it was declared  \n",
    "- Subclasses of the class in which it was declared  \n",
    "- Other classes in the same package  \n",
    "Subclasses can be located either in the same package as the parent class or in a different package."
   ]
  },
  {
   "cell_type": "markdown",
   "id": "398db39c-5bb8-42e0-bad1-dbfaf43924c8",
   "metadata": {},
   "source": [
    "---"
   ]
  },
  {
   "cell_type": "markdown",
   "id": "a72f9f33-5600-4e94-a848-3b85edf8ff84",
   "metadata": {},
   "source": [
    "### Do/While Loope Syntax"
   ]
  },
  {
   "cell_type": "markdown",
   "id": "d95eb3b3-9d70-453d-befb-57ca7fc79514",
   "metadata": {},
   "source": [
    "        do{    \n",
    "        //code to be executed / loop body  \n",
    "        //update statement   \n",
    "        }while (condition);    "
   ]
  },
  {
   "cell_type": "markdown",
   "id": "9a1629a1-dc57-4c10-b18b-5f288a6f456a",
   "metadata": {},
   "source": [
    "If a break is activated, you exit the do/while loop and continue to the next line of code. "
   ]
  },
  {
   "cell_type": "code",
   "execution_count": null,
   "id": "19fa79f7-40c5-442a-82ec-6944d0fa07dd",
   "metadata": {},
   "outputs": [],
   "source": []
  },
  {
   "cell_type": "markdown",
   "id": "c263070b-b2eb-4ca3-8ca5-aa4ab9eed4e4",
   "metadata": {},
   "source": [
    "---"
   ]
  },
  {
   "cell_type": "markdown",
   "id": "3eb5f35c-99d0-4542-8e31-53cc006b3f80",
   "metadata": {},
   "source": [
    "The Java while statement continually executes a block of code as long as a particular condition evaluates to true. The condition being evaluated must evaluate to a boolean value or a compiler error will occur. An int value, not a boolean condition, is specified in the whilestatement on Line 04. This will cause a compiler error."
   ]
  },
  {
   "cell_type": "markdown",
   "id": "331b0ed3-49c8-4a38-853d-f8587afc0df0",
   "metadata": {},
   "source": [
    "---"
   ]
  },
  {
   "cell_type": "markdown",
   "id": "0088e571-7ad9-46e1-b587-6e9f1cd3b35f",
   "metadata": {},
   "source": [
    "The while statement is one of Java's looping statements. By creating a while loop, you can execute a block of statements repeatedly while a specified condition is met. Once the condition is no longer met, execution of the while loop ends and control jumps to the first statement after the loop. With a while loop, the condition is checked at the beginning of the loop. Therefore, if the condition is not initially met, the statements in the while loop will not execute.\n",
    "\n",
    "The do-while statement is one of the looping statements in Java. This structure is similar to a while loop; however, the condition is checked at the end of the loop instead of the beginning. Because of this, the block of statements in the do-while loop are guaranteed to execute at least one time.\n",
    "\n",
    "The for statement is a one of Java's looping statements. Similar to the while statement, it allows you to execute a block of statements repeatedly until a specified condition is no longer met. Unlike the while statement, the for statement allows you to specify the number of times the loop will be repeated. This is done by setting an iterator and then checking the iterator value against a condition after each iteration through the loop. Once the condition is no longer met, the for loop is exited and execution jumps to the first statement following the for loop."
   ]
  },
  {
   "cell_type": "markdown",
   "id": "6ec35eae-8415-4911-bf94-319266fa1582",
   "metadata": {},
   "source": [
    "---"
   ]
  },
  {
   "cell_type": "markdown",
   "id": "b1adfcc8-db7e-4922-bec0-fd9e22228bf1",
   "metadata": {},
   "source": [
    "The condition of the if statement on Line 06 will evaluate to true and the continue statement on Line 07 will be executed when x has a value of 3. The continue statement in Java stops the current iteration of a for, while, or do-while loop and causes control to transfer to the next iteration. Therefore, the for loop will continue with the next iteration without printing when x is equal to 3.\n",
    "The for loop will continue printing the value of x until the variable y is 5. This will cause an exit from the for loop and the program will terminate with the numbers 1 2 4 5 printed to the console window."
   ]
  },
  {
   "cell_type": "markdown",
   "id": "73c25037-c37e-4140-990c-f20a81d9b876",
   "metadata": {},
   "source": [
    "---"
   ]
  },
  {
   "cell_type": "markdown",
   "id": "fae5cf22-5285-4ef8-ba5a-202fcf12f955",
   "metadata": {},
   "source": [
    "The for statement in Java consists of three expressions separated by semicolons. The first expression is the initialization statement that initializes the loop. The second expression is the termination expression that determines when the loop should end. The third expression is the increment expression that either increments or decrements a value for controlling the looping. All three expressions of the for loop are optional.\n",
    "When all three are omitted, an infinite loop is created. You can exit this version of an infinite for loop by including the breakstatement as one of the statements in the body of the loop. Since no break statement is used in the for loop on Line 04, the value of i, 1, will infinitely be printed to the console window."
   ]
  },
  {
   "cell_type": "markdown",
   "id": "4eeadd65-de07-4b9c-aa1a-f00064607426",
   "metadata": {},
   "source": [
    "---"
   ]
  },
  {
   "cell_type": "markdown",
   "id": "44a6bfe3-b3bb-4ab3-bf23-13e0a122012d",
   "metadata": {},
   "source": [
    "Every class that you create must have a minimum of one constructor. A constructor is a special method that is used to create an instance of the class in which it is defined. Unlike regular methods, a constructor does not have a return type and it must have the same name as the class. If you do not explicitly define a constructor, the Java compiler will add a no-argument, default constructor for you. This ensures that all classes meet the minimum requirement of one constructor."
   ]
  },
  {
   "cell_type": "markdown",
   "id": "b2cbbafc-fa55-4934-8c43-e70c4fb7bfcd",
   "metadata": {},
   "source": [
    "---"
   ]
  },
  {
   "cell_type": "markdown",
   "id": "d4cfc5af-dc25-4e46-8871-2314e3d5ba65",
   "metadata": {},
   "source": [
    "In the context of comparing or using the variable:  \n",
    "a++ uses and then increments the varialble  \n",
    "++a increments and then  uses the variable"
   ]
  },
  {
   "cell_type": "markdown",
   "id": "88df1172-7e30-4c00-9781-3463f849f046",
   "metadata": {},
   "source": [
    "---"
   ]
  },
  {
   "cell_type": "markdown",
   "id": "b773acc2-4c2c-4ae3-b0c8-d857701e59ac",
   "metadata": {},
   "source": [
    "The overriding method must not be more restrictive. The parent class revolve method is protected so that means the child class revolve method must be protected or public."
   ]
  },
  {
   "cell_type": "markdown",
   "id": "e4f33fba-19d4-424a-a4d4-da1befd8fba7",
   "metadata": {},
   "source": [
    "A Constructor is a block of code that initializes a newly created object. A Method is a collection of statements which returns a value upon its execution. A Constructor can be used to initialize an object. A Method consists of Java code to be executed."
   ]
  },
  {
   "cell_type": "markdown",
   "id": "a265f332-12a2-427e-99b5-8025825a173b",
   "metadata": {},
   "source": [
    "Constructors are special, they can't have a return type, not even void."
   ]
  },
  {
   "cell_type": "code",
   "execution_count": null,
   "id": "84d25d2a-f2e4-4762-aa01-25c691de7ccd",
   "metadata": {},
   "outputs": [],
   "source": [
    "Constructors build objects. "
   ]
  }
 ],
 "metadata": {
  "kernelspec": {
   "display_name": "Python 3",
   "language": "python",
   "name": "python3"
  },
  "language_info": {
   "codemirror_mode": {
    "name": "ipython",
    "version": 3
   },
   "file_extension": ".py",
   "mimetype": "text/x-python",
   "name": "python",
   "nbconvert_exporter": "python",
   "pygments_lexer": "ipython3",
   "version": "3.8.8"
  }
 },
 "nbformat": 4,
 "nbformat_minor": 5
}
