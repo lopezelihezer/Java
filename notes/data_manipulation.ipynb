{
 "cells": [
  {
   "cell_type": "markdown",
   "id": "64b5e3f9-143e-4365-b474-3a83f0794116",
   "metadata": {},
   "source": [
    "# Data Manipulation"
   ]
  },
  {
   "cell_type": "markdown",
   "id": "577f3440-893e-44be-9484-fbeb75ab0482",
   "metadata": {},
   "source": [
    "## Using the NetBeans Debugger"
   ]
  },
  {
   "cell_type": "markdown",
   "id": "64646421-86c7-4369-9881-d36e4c8e6a7e",
   "metadata": {},
   "source": [
    "right click toolbar, click debug.  \n",
    "click \"debug project\" to bring up debugger.  \n",
    "Selecting a line number on the left hand side creates a break point for the debugger."
   ]
  },
  {
   "cell_type": "markdown",
   "id": "7bc9d546-b7c7-4e72-9858-bc8d670049c6",
   "metadata": {},
   "source": [
    "Selecting the variables tab can provide great insight into what the value of variables as the program is ran.  \n"
   ]
  },
  {
   "cell_type": "markdown",
   "id": "7964c064-3baf-42d3-ba93-ddc4c4631c4e",
   "metadata": {},
   "source": [
    "## Working With Dates"
   ]
  },
  {
   "cell_type": "markdown",
   "id": "6bd3e358-89e8-4a5d-9954-fdf38af4ea82",
   "metadata": {},
   "source": [
    "### Displaying a Date"
   ]
  },
  {
   "cell_type": "markdown",
   "id": "8e142b6c-c1b9-4ec1-a621-f243c292ba9a",
   "metadata": {},
   "source": [
    "LocalDate myDate = LocalDate.now();  \n",
    "System.out.println(\"Today's date: \" + myDate);"
   ]
  },
  {
   "cell_type": "markdown",
   "id": "a6dcb0cc-d186-4c92-9103-77630bb480ad",
   "metadata": {},
   "source": [
    "Output: 2013-12-20  \n",
    "- LocalDate belongs to the package java.time\n",
    "- the now method returns today's date.\n",
    "- This example used the default format for the default time zone. "
   ]
  },
  {
   "cell_type": "markdown",
   "id": "68bf49f1-68a7-48c9-a97a-e435ff02a08e",
   "metadata": {},
   "source": [
    "The date-time API is a new feature of Java SE 8"
   ]
  },
  {
   "cell_type": "markdown",
   "id": "dce0d58a-fbd0-42a5-ab31-3ddf51c16b08",
   "metadata": {},
   "source": [
    "### Class Names and the Import Statement"
   ]
  },
  {
   "cell_type": "markdown",
   "id": "c1b2d67b-6960-476f-906d-72afa41f33b4",
   "metadata": {},
   "source": [
    "Date classes are in the package java.time.  \n",
    "To refer to one of these classes in your code, you can fully qualify  \n",
    "java.time.LocalDate, or  \n",
    "add the import statement at the top of the class  \n",
    "Example: import java.time.LocalDate "
   ]
  },
  {
   "cell_type": "markdown",
   "id": "a9fe5211-73a6-4c46-8802-8b4ad6610954",
   "metadata": {},
   "source": [
    "### Working with Dates"
   ]
  },
  {
   "cell_type": "markdown",
   "id": "7fdc65b1-9bd2-4483-bab5-3a31a90bf0ca",
   "metadata": {},
   "source": [
    "java.time  // Main package for date and time classes\n",
    "java.time.format // Contains classes with static methods that you can use to format dates and times  \n",
    "Some notable classes  \n",
    "java.time.LocalDate  immutable  \n",
    "java.time.LocalDateTime  immutable in datetime  \n",
    "java.time.LocalTime  hour-minute-second  \n",
    "java.time.format.DateTimeFormatter"
   ]
  },
  {
   "cell_type": "markdown",
   "id": "820d6fbd-98ac-43e6-985d-31aff8a8bb10",
   "metadata": {},
   "source": [
    "### Working with Different Calendars"
   ]
  },
  {
   "cell_type": "markdown",
   "id": "9283138b-c4b2-408a-8c95-a1c3f76e8800",
   "metadata": {},
   "source": [
    "The default calendar is based on the Gregorian calendar  \n",
    "If you need non-Gregorian type dates, use the java.time.chrono classes. They have conversion methods.  \n",
    "Example: JapaneseDate.from(mydate)"
   ]
  },
  {
   "cell_type": "markdown",
   "id": "fbc2125c-2c8d-458d-8b01-78850c47c386",
   "metadata": {},
   "source": [
    "no format and ISO_DATE_TIME are formatted the same  \n",
    "2013-12-23T16:51:49.458  "
   ]
  },
  {
   "cell_type": "markdown",
   "id": "70e4fe7f-2d6b-4d1c-ac8b-6864668b743b",
   "metadata": {},
   "source": [
    "localized date time is in Medium format  \n",
    ".ofLocalizedDateTime  \n",
    "Dec 23, 2013 4:51:49 PM"
   ]
  },
  {
   "cell_type": "markdown",
   "id": "ca9df0af-89f8-4dde-bba2-ee9bdad68967",
   "metadata": {},
   "source": [
    "## Using a LocalDateTime Object"
   ]
  },
  {
   "cell_type": "markdown",
   "id": "43939c65-3d24-40bf-a36e-f1daa191721d",
   "metadata": {},
   "source": [
    "import java.time.LocalDateTime;  \n",
    "LocalDateTime orderDate;  \n",
    "orderDate = LocalDateTime.now();  \n",
    "System.out.println(\"Order date: \" + orderDate);  "
   ]
  },
  {
   "cell_type": "markdown",
   "id": "4a39dff7-3b6a-41af-9dcb-457803e64f46",
   "metadata": {},
   "source": [
    "String fDate = orderDate.format(DateTimeFormatter.ISO_LOCAL_DATE);  \n",
    "System.out.println(\"Formatted order date: \" + fDate);\n"
   ]
  },
  {
   "cell_type": "markdown",
   "id": "0aa7d269-ebc7-469e-8bdb-74f140d44e81",
   "metadata": {},
   "source": [
    "## Overview of Parsing the args Array"
   ]
  },
  {
   "cell_type": "markdown",
   "id": "f2b47b14-94a6-40d9-a94e-19e170f76f0b",
   "metadata": {},
   "source": [
    "Parameters can be typed on the command line:  \n",
    "    > java ArgsTest Hello World!  \n",
    "    args[0] is Hello  \n",
    "    args[1] is World!"
   ]
  },
  {
   "cell_type": "markdown",
   "id": "6a79d0d2-f057-4f9d-b9c7-41bc6cb3e94b",
   "metadata": {},
   "source": [
    "You can convert String arguments to other types. The main() method treat everything you type as a literal String. "
   ]
  },
  {
   "cell_type": "markdown",
   "id": "805695bd-34db-465b-b6a8-c6b8f24591b5",
   "metadata": {},
   "source": [
    "## Parsing the args Array"
   ]
  },
  {
   "cell_type": "markdown",
   "id": "3df21537-e79d-44c2-8a37-a205ec184ef8",
   "metadata": {},
   "source": [
    "Check for quantity and type."
   ]
  },
  {
   "cell_type": "markdown",
   "id": "84e58ece-a757-4363-9b8a-4856339c3a0f",
   "metadata": {},
   "source": [
    "## Two-dimensional Arrays"
   ]
  },
  {
   "cell_type": "markdown",
   "id": "0bc15a29-9005-4c05-8e9c-98199a9e8358",
   "metadata": {},
   "source": [
    "2D arrays require an additional set of brackets when they are created. int [][] yearlySales;"
   ]
  },
  {
   "cell_type": "markdown",
   "id": "8cb7b52e-090e-4046-b54f-6460be4a3fd5",
   "metadata": {},
   "source": [
    "array_identifier = new type [ number_of_arrays] [length];  \n",
    "yearlySales = new int [5][4];  \n",
    "// Instantiates a 2D array: 5 arrays of 4 elements each"
   ]
  },
  {
   "cell_type": "markdown",
   "id": "c6f6bfe6-33ff-4858-ab0a-094a64472a67",
   "metadata": {},
   "source": [
    "## Alternate Looping Constructs"
   ]
  },
  {
   "cell_type": "markdown",
   "id": "b8247c50-6f1d-4e54-837c-ead56e19e437",
   "metadata": {},
   "source": [
    "### Some New Types of Loops"
   ]
  },
  {
   "cell_type": "markdown",
   "id": "e8381324-d089-41ee-89a2-aa38da8f6a15",
   "metadata": {},
   "source": [
    "Loops are ferquently used in programs to repeat block of code while some condition is true. \n",
    "There are three main types of loops  \n",
    "- A while loop repeats while an expression is true.\n",
    "- A for loop simply repeats a set number of times. A variation of this is the enhanced for loop. This loops through the elements of an array.\n",
    "- A do/while loop executes once and then continues to repeat while an expression is true. "
   ]
  },
  {
   "cell_type": "markdown",
   "id": "4ba9d1e2-27b7-4d3a-8af4-d685ec6fdcaa",
   "metadata": {},
   "source": [
    "enhanced loop  \n",
    "for (String name: names){}"
   ]
  },
  {
   "cell_type": "markdown",
   "id": "42949812-2fc1-4f9f-bdc7-760f2459f4ae",
   "metadata": {},
   "source": [
    "In a do/while loop, the code_block is above the boolean expression so it will be executed at least once. "
   ]
  },
  {
   "cell_type": "markdown",
   "id": "3143d291-e5b0-4be1-875e-7ce3e3a02de2",
   "metadata": {},
   "source": [
    "### Comparing Loop Constructs"
   ]
  },
  {
   "cell_type": "markdown",
   "id": "e7c42fae-830f-48fd-b692-67c45cc82322",
   "metadata": {},
   "source": [
    "- Use the while loop to iterate indefinitely through statements and to perform the statements zero or more times.\n",
    "- Use the standard for loop to step through statements a predefined number of times. \n",
    "- Use the enhanced for loop to iterate through the elements of an Array or ArrayList (discussed later).\n",
    "- Use the do/while loop to iterate indefinitely through statements and to perform the statements one or more times. "
   ]
  },
  {
   "cell_type": "markdown",
   "id": "10ed6ef4-482e-47fc-b5ba-0df36a1d8b10",
   "metadata": {},
   "source": [
    "### The continue Keyword"
   ]
  },
  {
   "cell_type": "markdown",
   "id": "e6474d58-2b42-46ee-b566-dd88477099d6",
   "metadata": {},
   "source": [
    "There are two keywords that enable you to interrupt the iterations in a loop of any type  \n",
    "- break causes the loop to exit or any block of code to exit\n",
    "- continue causes the loop to skip the current iteration and go to the next. "
   ]
  },
  {
   "cell_type": "markdown",
   "id": "fcc0edda-073d-4dd5-8210-023f407805fb",
   "metadata": {},
   "source": [
    "## Processing an Array of Items"
   ]
  },
  {
   "cell_type": "code",
   "execution_count": null,
   "id": "9f73b0ca-9e6b-46c2-8d4a-926ea4426710",
   "metadata": {},
   "outputs": [],
   "source": []
  }
 ],
 "metadata": {
  "kernelspec": {
   "display_name": "Python 3",
   "language": "python",
   "name": "python3"
  },
  "language_info": {
   "codemirror_mode": {
    "name": "ipython",
    "version": 3
   },
   "file_extension": ".py",
   "mimetype": "text/x-python",
   "name": "python",
   "nbconvert_exporter": "python",
   "pygments_lexer": "ipython3",
   "version": "3.8.8"
  }
 },
 "nbformat": 4,
 "nbformat_minor": 5
}
