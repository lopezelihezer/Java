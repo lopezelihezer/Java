{
 "cells": [
  {
   "cell_type": "markdown",
   "id": "e357dc1d-9c6f-4c00-b061-39059d285345",
   "metadata": {},
   "source": [
    "# Introducing Variables"
   ]
  },
  {
   "cell_type": "markdown",
   "id": "e93b69bd-9eb5-4c45-b4fc-96049e4b8a69",
   "metadata": {},
   "source": [
    "A Variable refers to something that can change.\n",
    "- Variables can be initiated with a value\n",
    "- The value can be changed\n",
    "- A variable holds a specific type of data"
   ]
  },
  {
   "cell_type": "markdown",
   "id": "b8fbed25-0ed8-4433-9f9d-214d71b2a30e",
   "metadata": {},
   "source": [
    "### Variable Types"
   ]
  },
  {
   "cell_type": "markdown",
   "id": "9191b1f9-dc71-4d97-ade3-a9862be1e0af",
   "metadata": {},
   "source": [
    "Types:  \n",
    "- String\n",
    "- int\n",
    "- double\n",
    "- boolean\n",
    "\n",
    "If uninitialized:\n",
    "- String: (empty string)\n",
    "- int: 0\n",
    "- double: 0.0\n",
    "- boolean: false"
   ]
  },
  {
   "cell_type": "markdown",
   "id": "af0eaae4-a115-4317-bfd4-6e8466ce65a0",
   "metadata": {},
   "source": [
    "Variables are case sensitive and will see \"a\" and \"A\" as different variables. "
   ]
  },
  {
   "cell_type": "markdown",
   "id": "c6999fc8-0085-4b73-be75-4eb7255d937c",
   "metadata": {},
   "source": [
    "local variables are variables inside methods"
   ]
  },
  {
   "cell_type": "markdown",
   "id": "1be7c36a-ec4f-4248-8cc0-55a87a4c0c9b",
   "metadata": {},
   "source": [
    "### Naming a Variable"
   ]
  },
  {
   "cell_type": "markdown",
   "id": "7b20f745-2a02-491d-96fc-e3e61f11e8a4",
   "metadata": {},
   "source": [
    "Guidelines:  \n",
    "- Begin each variable with a lowercase letter. Subsequent words should be capitalized: \"myVariable\"\n",
    "- Names are case-sensitive\n",
    "- Names cannot include white space.\n",
    "- Choose names that are mnemonic and that indicate to the casual observer the intent of the variable.\n",
    "- mnemonic: aiding or designed to aid the memory  \n",
    "Example:  (cammel case)\n",
    "- outOfStock (a boolean)\n",
    "- itemDescription (a String)"
   ]
  },
  {
   "cell_type": "markdown",
   "id": "40427de9-68ad-4672-a844-94287559b453",
   "metadata": {},
   "source": [
    "if 'name' originally held the value \"sam\" and 'name1' held the value \"sally\" but then you run the following command  \n",
    "String name = name1;  \n",
    "name now holds the same value held by name1.    \n",
    "Both name and name1 hold the value \"sally\""
   ]
  },
  {
   "cell_type": "markdown",
   "id": "f85a9771-4972-498a-a060-e8df46a5dc90",
   "metadata": {},
   "source": [
    "# Overview of the String Variable"
   ]
  },
  {
   "cell_type": "markdown",
   "id": "4d218cf2-a23e-4d57-90b2-ca6023aa2f23",
   "metadata": {},
   "source": [
    "### Variable Declaration and Initialization"
   ]
  },
  {
   "cell_type": "markdown",
   "id": "31db8395-6830-4026-8a99-2f2b87ae2d30",
   "metadata": {},
   "source": [
    "Syntax: \n",
    "    type identifier [= value];"
   ]
  },
  {
   "cell_type": "markdown",
   "id": "e3d7b207-04a0-404a-9aa0-087538413e15",
   "metadata": {},
   "source": [
    "String customer;    // variable declared   \n",
    "\n",
    "String name, city;    // 2 variables are declared (name) and (city)\n",
    "\n",
    "String address = \"123 Oak St\";    // Variable (address) is declared and initialized to hold \"123 Oak St\"  \n",
    "\n",
    "String country = \"USA\", state = \"CO\";    // Two variables are declared and initialized"
   ]
  },
  {
   "cell_type": "markdown",
   "id": "cb4514ec-6266-46ad-a791-381f183634d7",
   "metadata": {},
   "source": [
    "### String Concatenation"
   ]
  },
  {
   "cell_type": "markdown",
   "id": "885a05c0-97bb-4ca1-ad8f-3d094447c887",
   "metadata": {},
   "source": [
    "String variables can be combined using the + operator  \n",
    "- stringVariable1 + stringVariable2\n",
    "- stringVariable1 + \"String literal\"\n",
    "- stringVariable1 + \"String literal\" + stringVariable2"
   ]
  },
  {
   "cell_type": "markdown",
   "id": "482937f4-cec5-4b38-b48e-1c9c506ec641",
   "metadata": {},
   "source": [
    "Example:  \n",
    "String greet1 = \"Hello\";  \n",
    "String greet2 = \"World\";  \n",
    "String message = greet1 + \" \" + greet2 + \"!\";  \n",
    "String message = greet1 + \" \" + greet2 + \" \" + 2014 + \"!\";  \n",
    "When you concatenate a number to a string the compiler will convert the numeric value to its string equivalent. "
   ]
  },
  {
   "cell_type": "markdown",
   "id": "1727d076-dfb5-41f5-9280-3c19adce8c0b",
   "metadata": {},
   "source": [
    "### String Concatenation Output"
   ]
  },
  {
   "cell_type": "markdown",
   "id": "cad269a7-9144-46f1-a000-fae79f2c6263",
   "metadata": {},
   "source": [
    "You can concatenate String variables within a method call:"
   ]
  },
  {
   "cell_type": "markdown",
   "id": "76193533-83b0-46ff-b1f9-55597690279b",
   "metadata": {},
   "source": [
    "System.out.println(message);  \n",
    "System.out.println(greet1 + \" \" + greet2 + \"!\");    \n",
    "\n",
    "OUTPUT:  \n",
    "Hello World!  \n",
    "Hello World!  \n",
    "\n",
    "// Concatenation will be performed by the runtime engine before the println() method is executed"
   ]
  },
  {
   "cell_type": "markdown",
   "id": "49bf20af-dc06-440a-9e30-ea3a72f50e53",
   "metadata": {},
   "source": [
    "### Introducing the NetBeans IDE"
   ]
  },
  {
   "cell_type": "markdown",
   "id": "f2266488-c985-4491-a736-3826e2701f6f",
   "metadata": {},
   "source": [
    "### Java IDEs"
   ]
  },
  {
   "cell_type": "markdown",
   "id": "1b17b9c4-31e0-40bf-9bc8-670f707463a9",
   "metadata": {},
   "source": [
    "A Java Integrated Development Environment (IDE) is a type of software that makes it easier to develop Java applications."
   ]
  },
  {
   "cell_type": "markdown",
   "id": "7795947a-9d53-45f0-9f4f-afe30e0e37f0",
   "metadata": {},
   "source": [
    "An IDE provides:  \n",
    "    - Syntax checking  \n",
    "    - Various automation features  \n",
    "    - Runtime environment for testing    \n",
    "It enables you to organize all your Java resources and environment settings into a Project.\n"
   ]
  },
  {
   "cell_type": "markdown",
   "id": "53d98168-0ae7-4d81-bf0e-a3c1e5edda27",
   "metadata": {},
   "source": [
    "Some well known IDEs for Java are Eclipse, JDeveloper and NetBeans"
   ]
  },
  {
   "cell_type": "markdown",
   "id": "4c3cd145-a3d8-4fc6-abe3-43a9819640ad",
   "metadata": {},
   "source": [
    "link: netbeans.org"
   ]
  },
  {
   "cell_type": "markdown",
   "id": "55962aa7-3827-4b4e-97af-6d875613c2f5",
   "metadata": {},
   "source": [
    "### YouTube Link\n",
    "\n",
    "Youtube link to instructional video on how to install JDK 8 and NetBeansIDE 12.4:  \n",
    "https://www.youtube.com/watch?v=E_3szcGEgys"
   ]
  },
  {
   "cell_type": "code",
   "execution_count": null,
   "id": "e71e90c2-a716-4d83-b52f-e8b567765109",
   "metadata": {},
   "outputs": [],
   "source": []
  }
 ],
 "metadata": {
  "kernelspec": {
   "display_name": "Python 3",
   "language": "python",
   "name": "python3"
  },
  "language_info": {
   "codemirror_mode": {
    "name": "ipython",
    "version": 3
   },
   "file_extension": ".py",
   "mimetype": "text/x-python",
   "name": "python",
   "nbconvert_exporter": "python",
   "pygments_lexer": "ipython3",
   "version": "3.8.8"
  }
 },
 "nbformat": 4,
 "nbformat_minor": 5
}
