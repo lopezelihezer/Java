{
 "cells": [
  {
   "cell_type": "markdown",
   "id": "e357dc1d-9c6f-4c00-b061-39059d285345",
   "metadata": {},
   "source": [
    "# Introducing Variables"
   ]
  },
  {
   "cell_type": "markdown",
   "id": "e93b69bd-9eb5-4c45-b4fc-96049e4b8a69",
   "metadata": {},
   "source": [
    "A Variable refers to something that can change.\n",
    "- Variables can be initiated with a value\n",
    "- The value can be changed\n",
    "- A variable holds a specific type of data"
   ]
  },
  {
   "cell_type": "markdown",
   "id": "b8fbed25-0ed8-4433-9f9d-214d71b2a30e",
   "metadata": {},
   "source": [
    "### Variable Types"
   ]
  },
  {
   "cell_type": "markdown",
   "id": "9191b1f9-dc71-4d97-ade3-a9862be1e0af",
   "metadata": {},
   "source": [
    "Types:  \n",
    "- String\n",
    "- int\n",
    "- double\n",
    "- boolean\n",
    "\n",
    "If uninitialized:\n",
    "- String: (empty string)\n",
    "- int: 0\n",
    "- double: 0.0\n",
    "- boolean: false"
   ]
  },
  {
   "cell_type": "markdown",
   "id": "af0eaae4-a115-4317-bfd4-6e8466ce65a0",
   "metadata": {},
   "source": [
    "Variables are case sensitive and will see \"a\" and \"A\" as different variables. "
   ]
  },
  {
   "cell_type": "markdown",
   "id": "c6999fc8-0085-4b73-be75-4eb7255d937c",
   "metadata": {},
   "source": [
    "local variables are variables inside methods"
   ]
  },
  {
   "cell_type": "markdown",
   "id": "1be7c36a-ec4f-4248-8cc0-55a87a4c0c9b",
   "metadata": {},
   "source": [
    "### Naming a Variable"
   ]
  },
  {
   "cell_type": "markdown",
   "id": "7b20f745-2a02-491d-96fc-e3e61f11e8a4",
   "metadata": {},
   "source": [
    "Guidelines:  \n",
    "- Begin each variable with a lowercase letter. Subsequent words should be capitalized: \"myVariable\"\n",
    "- Names are case-sensitive\n",
    "- Names cannot include white space.\n",
    "- Choose names that are mnemonic and that indicate to the casual observer the intent of the variable.\n",
    "- mnemonic: aiding or designed to aid the memory  \n",
    "Example:  (cammel case)\n",
    "- outOfStock (a boolean)\n",
    "- itemDescription (a String)"
   ]
  },
  {
   "cell_type": "markdown",
   "id": "40427de9-68ad-4672-a844-94287559b453",
   "metadata": {},
   "source": [
    "if 'name' originally held the value \"sam\" and 'name1' held the value \"sally\" but then you run the following command  \n",
    "String name = name1;  \n",
    "name now holds the same value held by name1.    \n",
    "Both name and name1 hold the value \"sally\""
   ]
  },
  {
   "cell_type": "code",
   "execution_count": null,
   "id": "b7a6c4c9-ab1f-4fce-bbf7-9442be60393c",
   "metadata": {},
   "outputs": [],
   "source": []
  }
 ],
 "metadata": {
  "kernelspec": {
   "display_name": "Python 3",
   "language": "python",
   "name": "python3"
  },
  "language_info": {
   "codemirror_mode": {
    "name": "ipython",
    "version": 3
   },
   "file_extension": ".py",
   "mimetype": "text/x-python",
   "name": "python",
   "nbconvert_exporter": "python",
   "pygments_lexer": "ipython3",
   "version": "3.8.8"
  }
 },
 "nbformat": 4,
 "nbformat_minor": 5
}
