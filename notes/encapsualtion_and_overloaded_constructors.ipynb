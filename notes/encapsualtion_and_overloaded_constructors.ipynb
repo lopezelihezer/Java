{
 "cells": [
  {
   "cell_type": "markdown",
   "id": "e802e5e9-d5ba-4c08-ac56-eb126f1bb524",
   "metadata": {},
   "source": [
    "# Encapsulation & Overloaded Constructors"
   ]
  },
  {
   "cell_type": "markdown",
   "id": "02cd8359-3afe-4878-bdbd-33e781b9f8c9",
   "metadata": {},
   "source": [
    "### Access Control"
   ]
  },
  {
   "cell_type": "markdown",
   "id": "3ebca351-b0d2-4d37-8ee5-911cae41d5bf",
   "metadata": {},
   "source": [
    "What is access control?"
   ]
  },
  {
   "cell_type": "markdown",
   "id": "7d9f674a-a72e-43c0-9cd9-ff509bd0a47a",
   "metadata": {},
   "source": [
    "Access control allows you to  \n",
    "- Hide fields and methods from other classes\n",
    "- Determine how internal data gets changed\n",
    "- Keep the implementation seperate from the public interface"
   ]
  },
  {
   "cell_type": "markdown",
   "id": "929b7d9f-cb61-4cc6-aa30-cf71334cff0b",
   "metadata": {},
   "source": [
    "Public interface  \n",
    " \n",
    "            setPrice( Customer cust)  \n",
    "  \n",
    "Implementation  \n",
    "\n",
    "            public void setPrice(Customer cust) {  \n",
    "                // set price discount relative to customer  \n",
    "            }  "
   ]
  },
  {
   "cell_type": "markdown",
   "id": "65d5fdd4-acaa-47e0-899f-9115c42193bb",
   "metadata": {},
   "source": [
    "### Access Modifiers"
   ]
  },
  {
   "cell_type": "markdown",
   "id": "2a2b10ad-a157-41ec-9a29-a4aa62f28e86",
   "metadata": {},
   "source": [
    "public: Accessible by anyone  \n",
    "private: Accessible only within the class"
   ]
  },
  {
   "cell_type": "markdown",
   "id": "6e5f08b9-7e81-4f0c-8ed5-230578069240",
   "metadata": {},
   "source": [
    "Integer.parseInt(variable) // parses string and strips out digits into numbers rather than characters. "
   ]
  },
  {
   "cell_type": "markdown",
   "id": "8328fe69-31d4-4014-a62c-55ad69e3dedd",
   "metadata": {},
   "source": [
    "## Overview of Encapsulation"
   ]
  },
  {
   "cell_type": "markdown",
   "id": "1a6e5dee-9483-42bc-a0a2-570db8c2e97c",
   "metadata": {},
   "source": [
    "Encapsulation means hiding object fields (makes them private). It uses access control to hide the fields.  \n",
    "- Safe access is probided by getter and setter methods.  \n",
    "- In setter methods, use code to ensure that values are valid.  \n",
    "Encapsulation mandates programming to the interface  \n",
    "- A method can change the data type to match the field.\n",
    "- A class can be changed as long as interface remains same.  \n",
    "Encapsualtion encourages good object-oriented(OO) design. "
   ]
  },
  {
   "cell_type": "markdown",
   "id": "6418d7e4-824f-4f35-9b97-bdb2fea10930",
   "metadata": {},
   "source": [
    "Using setter and getter methods to check"
   ]
  },
  {
   "cell_type": "markdown",
   "id": "f5bc768c-0792-47fb-b7d1-f5d5a47b6aca",
   "metadata": {},
   "source": [
    "## Encapsulating a Class"
   ]
  },
  {
   "cell_type": "markdown",
   "id": "050aafaa-4b47-41ac-a309-b0b104dfeae0",
   "metadata": {},
   "source": [
    "Example:"
   ]
  },
  {
   "cell_type": "markdown",
   "id": "59cb1f00-6a70-4a7c-82da-11eeadc6d97e",
   "metadata": {},
   "source": [
    "            public class Customer {\n",
    "                private String name;\n",
    "                private String ssn;\n",
    "                \n",
    "                // Encapsulate this class and make ssn read-only\n",
    "                \n",
    "                public String getName() {\n",
    "                    return name;\n",
    "                    \n",
    "                }\n",
    "                \n",
    "                public void setName(String n) {\n",
    "                    name = n;\n",
    "                }\n",
    "                \n",
    "                public String getSSN() {\n",
    "                    return ssn;\n",
    "                }\n",
    "                \n",
    "                // Pulls information from this class, while stil keeping this info private. \n",
    "            }"
   ]
  },
  {
   "cell_type": "markdown",
   "id": "fd9fb2e4-5e4f-447a-81c1-5c84e5f14b08",
   "metadata": {},
   "source": [
    "## Encapsulating Fields with the NetBean Refactor Feature"
   ]
  },
  {
   "cell_type": "markdown",
   "id": "9c667dd7-6437-4774-8ae0-c08bfd83f57f",
   "metadata": {},
   "source": [
    "Right click on .java file, choose 'Refactor', click 'Encapsulate fields', and then select your setters and getters"
   ]
  },
  {
   "cell_type": "markdown",
   "id": "3fb52ace-2603-4b34-a862-909052c3ec59",
   "metadata": {},
   "source": [
    "## Introduction to Overloaded Contructors"
   ]
  },
  {
   "cell_type": "markdown",
   "id": "17b31ea2-44d7-4afa-97a3-6d52e5c4f926",
   "metadata": {},
   "source": [
    "### Contructors"
   ]
  },
  {
   "cell_type": "markdown",
   "id": "4f6b9a56-6353-43b2-9be7-599a447c38f6",
   "metadata": {},
   "source": [
    "Constructors are usually used to initialize fields in an object.  \n",
    "They can receive arguments  \n",
    "When you create a contructor with arguments, it removes the default no-argument contructor."
   ]
  },
  {
   "cell_type": "markdown",
   "id": "5d868889-74bf-4738-b60b-2ff537556a4d",
   "metadata": {},
   "source": [
    "You can also chain constuctors"
   ]
  },
  {
   "cell_type": "markdown",
   "id": "d366a956-1358-47a4-b36e-293f8166d1f5",
   "metadata": {},
   "source": [
    "## Creating an Overloaded Constructor"
   ]
  },
  {
   "cell_type": "markdown",
   "id": "2f68c2da-3671-4c7d-9ac3-23385c74b584",
   "metadata": {},
   "source": [
    "watch vid"
   ]
  },
  {
   "cell_type": "code",
   "execution_count": null,
   "id": "8a85c846-b6e3-4421-b52e-c0f7d969b7be",
   "metadata": {},
   "outputs": [],
   "source": []
  }
 ],
 "metadata": {
  "kernelspec": {
   "display_name": "Python 3",
   "language": "python",
   "name": "python3"
  },
  "language_info": {
   "codemirror_mode": {
    "name": "ipython",
    "version": 3
   },
   "file_extension": ".py",
   "mimetype": "text/x-python",
   "name": "python",
   "nbconvert_exporter": "python",
   "pygments_lexer": "ipython3",
   "version": "3.8.8"
  }
 },
 "nbformat": 4,
 "nbformat_minor": 5
}
