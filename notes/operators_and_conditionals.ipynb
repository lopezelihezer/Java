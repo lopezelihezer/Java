{
 "cells": [
  {
   "cell_type": "markdown",
   "id": "7e6fdc64-0569-4ae8-8936-d449d203a1d9",
   "metadata": {},
   "source": [
    "# Operators & Conditionals"
   ]
  },
  {
   "cell_type": "markdown",
   "id": "8bdc4fd3-cc93-4cc0-a433-db35131008f1",
   "metadata": {},
   "source": [
    "## Relational Operators"
   ]
  },
  {
   "cell_type": "markdown",
   "id": "ee3b93e9-7ab0-43bb-846f-2f83551239d5",
   "metadata": {},
   "source": [
    "==, !=, <, <=, >, >="
   ]
  },
  {
   "cell_type": "markdown",
   "id": "f6fdb255-5f46-4fb3-94eb-e977046dd02e",
   "metadata": {},
   "source": [
    "Testing equality between String variables  \n",
    "name1.equals(name2), name1.equalsIgnoreCase(name2)"
   ]
  },
  {
   "cell_type": "markdown",
   "id": "fe5e10f8-2de1-4193-9481-eab30c3f537c",
   "metadata": {},
   "source": [
    "Only one object was created to contain \"Fred Smith\" and both references point to it. this is done to save memory.  \n",
    "When using the 'new'keyword you force Java to create a new object in a new location in memory even if a string object conataining the same String values already exists.  \n",
    "Therefore name1 would not be equal to name 2 in this condition if running name1 == name2."
   ]
  },
  {
   "cell_type": "markdown",
   "id": "ddb93a3d-0068-45b1-bece-0674f7e99416",
   "metadata": {},
   "source": [
    "## Conditional Operators"
   ]
  },
  {
   "cell_type": "markdown",
   "id": "38a7c745-69a6-49ab-81e8-d42afa0be84d",
   "metadata": {},
   "source": [
    "&&, ||, !"
   ]
  },
  {
   "cell_type": "markdown",
   "id": "bee2a9fc-6b71-4f82-bbcf-bd904c11f12d",
   "metadata": {},
   "source": [
    "Ternary Conditional Operator"
   ]
  },
  {
   "cell_type": "markdown",
   "id": "072337ec-ce91-4a31-88a1-d5a2ec0730ce",
   "metadata": {},
   "source": [
    "?: "
   ]
  },
  {
   "cell_type": "markdown",
   "id": "30c83a72-7682-4f70-bde0-78270b01cefa",
   "metadata": {},
   "source": [
    "If some condition is true, assign the value of value1 to the result. Otherwise, assign the value of value2 to the result. "
   ]
  },
  {
   "cell_type": "markdown",
   "id": "5a3146cc-cdee-476e-bebb-d59b45258b2f",
   "metadata": {},
   "source": [
    "condition ? value1 : value2  "
   ]
  },
  {
   "cell_type": "markdown",
   "id": "db4eb9a4-6101-4477-bddd-9c0689aa12d0",
   "metadata": {},
   "source": [
    "Example:  \n",
    "int x = 2, y = 5, z = 0;  \n",
    "z = (y<x) ? x : y;  \n",
    "z = 5"
   ]
  },
  {
   "cell_type": "markdown",
   "id": "53678261-12f2-4439-9f7f-5154ca14b999",
   "metadata": {},
   "source": [
    "Can only hold 2 values. If more than 2 values, you'll have to use switch or if/else statements.  "
   ]
  },
  {
   "cell_type": "markdown",
   "id": "d3b7e3f4-40df-4d42-83d1-08e33e171e28",
   "metadata": {},
   "source": [
    "## Using the Ternary Operator"
   ]
  },
  {
   "cell_type": "markdown",
   "id": "d8c6b555-61c6-4c61-b221-d3e0f5136e4c",
   "metadata": {},
   "source": [
    "Great alternative to if/else statement if only dealing with 2 values. "
   ]
  },
  {
   "cell_type": "markdown",
   "id": "74648937-0057-42a0-99e1-951c9c85c5e8",
   "metadata": {},
   "source": [
    "## More Ways to Use if/else Constructs"
   ]
  },
  {
   "cell_type": "markdown",
   "id": "fc841d78-5a17-4b00-96d3-10b2440b3c6b",
   "metadata": {},
   "source": [
    "### Handling Complex Conditions with a Chained if Construct"
   ]
  },
  {
   "cell_type": "markdown",
   "id": "bdf19bba-561a-420b-a7e3-63660816a1db",
   "metadata": {},
   "source": [
    "The chained if statement  \n",
    "- Connects multiple conditions together into a single construct\n",
    "- Often contains neseted if statements\n",
    "- Tends to be confusing to read and hard to maintain"
   ]
  },
  {
   "cell_type": "markdown",
   "id": "af760719-3457-4084-a34d-7984958bba44",
   "metadata": {},
   "source": [
    "## Chaining if Statements"
   ]
  },
  {
   "cell_type": "markdown",
   "id": "7ca7d082-8b4a-4915-8fd6-54b7b4202361",
   "metadata": {},
   "source": [
    "## Overview of Switch Statements"
   ]
  },
  {
   "cell_type": "markdown",
   "id": "541ed36c-6fff-435f-b4ed-63d2692648f6",
   "metadata": {},
   "source": [
    "### Handling Complex Conditions with a switch statement"
   ]
  },
  {
   "cell_type": "markdown",
   "id": "6c56f48d-6364-4070-ae26-5113e27e6b15",
   "metadata": {},
   "source": [
    "The switch statement  \n",
    "- is a streamlined version of chained if statements\n",
    "- is easier to read and maintain\n",
    "- offers better performance"
   ]
  },
  {
   "cell_type": "markdown",
   "id": "ebb42c4d-740b-49ad-b15b-0498f1e25163",
   "metadata": {},
   "source": [
    "### switch Statement Syntax"
   ]
  },
  {
   "cell_type": "markdown",
   "id": "45cd62ba-f972-4d45-83a8-62bea0d4122b",
   "metadata": {},
   "source": [
    "Syntax:  "
   ]
  },
  {
   "cell_type": "markdown",
   "id": "8c14048f-b437-4c64-aeb6-e0ec89437655",
   "metadata": {},
   "source": [
    "            switch (< variable or expression >) {\n",
    "                case < literal value >:\n",
    "                    // code_block1\n",
    "                    [break;]\n",
    "                case < literal value >:\n",
    "                    // code_block2\n",
    "                    [break;]\n",
    "                default:\n",
    "                    // default code\n",
    "            }"
   ]
  },
  {
   "cell_type": "markdown",
   "id": "c71d37ba-7649-405e-a4fe-27315ad86082",
   "metadata": {},
   "source": [
    "Variable or expression can only be of the type int, short, byte, char, or string.  \n",
    "A combination of the case keyword and a literal value is referred to as a case label.  \n",
    "Literal values can be constants, literals, or both."
   ]
  },
  {
   "cell_type": "markdown",
   "id": "449d920c-60b3-4d5a-9da0-e45df165ec98",
   "metadata": {},
   "source": [
    "### When to Use switch Constructs"
   ]
  },
  {
   "cell_type": "markdown",
   "id": "79322803-1fcd-462e-8733-89183c388184",
   "metadata": {},
   "source": [
    "Use when you are testing\n",
    "- Equality (not a range)\n",
    "- A single value\n",
    "- Against fixed known values at compile time\n",
    "- An int, short, byte, char, or String"
   ]
  },
  {
   "cell_type": "markdown",
   "id": "32b50904-f292-46a5-8749-8da8aa552cfd",
   "metadata": {},
   "source": [
    "## Using the switch Construct"
   ]
  },
  {
   "cell_type": "markdown",
   "id": "9a49b05f-3e78-431f-abbd-97e8a1891a42",
   "metadata": {},
   "source": [
    "watch vid"
   ]
  },
  {
   "cell_type": "code",
   "execution_count": null,
   "id": "2efd7ac4-9bd4-40b0-9263-c43750dc57ee",
   "metadata": {},
   "outputs": [],
   "source": []
  }
 ],
 "metadata": {
  "kernelspec": {
   "display_name": "Python 3",
   "language": "python",
   "name": "python3"
  },
  "language_info": {
   "codemirror_mode": {
    "name": "ipython",
    "version": 3
   },
   "file_extension": ".py",
   "mimetype": "text/x-python",
   "name": "python",
   "nbconvert_exporter": "python",
   "pygments_lexer": "ipython3",
   "version": "3.8.8"
  }
 },
 "nbformat": 4,
 "nbformat_minor": 5
}
