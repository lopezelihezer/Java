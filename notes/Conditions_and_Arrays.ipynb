{
 "cells": [
  {
   "cell_type": "markdown",
   "id": "1bafcb78-6690-487b-a088-53cc567858a9",
   "metadata": {},
   "source": [
    "# Conditions and Arrays"
   ]
  },
  {
   "cell_type": "markdown",
   "id": "f023c016-34a6-47d1-aeff-c2470931a14d",
   "metadata": {},
   "source": [
    "### Working with Conditions"
   ]
  },
  {
   "cell_type": "markdown",
   "id": "c0196241-c5cf-4dcb-91f8-f75aac8013ae",
   "metadata": {},
   "source": [
    "if ( <some condition is true> ) {  \n",
    "    // do something    \n",
    "}  \n",
    "else {  \n",
    "    // do something different  \n",
    "    \n",
    "}  "
   ]
  },
  {
   "cell_type": "markdown",
   "id": "401a798b-9dda-419e-9ca1-1045067c81b6",
   "metadata": {},
   "source": [
    "boolean data type has only 2 possible values: true or false"
   ]
  },
  {
   "cell_type": "markdown",
   "id": "7db78ad7-64a8-4880-a2a3-6e943445caad",
   "metadata": {},
   "source": [
    "A Boolean expression is a combination of variables, values, and operators that evaluate to true or false. Examples:  \n",
    "    - length > 10;  \n",
    "    - size <= maxSize;  \n",
    "    - total == (cost * price);  "
   ]
  },
  {
   "cell_type": "markdown",
   "id": "0ea9684f-f960-42a6-b6b7-c527dc854a5f",
   "metadata": {},
   "source": [
    "!= is not equal"
   ]
  },
  {
   "cell_type": "markdown",
   "id": "468f11b6-367b-4919-8eef-dfa1ad047f27",
   "metadata": {},
   "source": [
    "### Using if statements in IDE"
   ]
  },
  {
   "cell_type": "markdown",
   "id": "34314c32-7919-4fcb-85ab-30e8cf33cb30",
   "metadata": {},
   "source": [
    "### Working with an Array of Items"
   ]
  },
  {
   "cell_type": "markdown",
   "id": "6b4fc67c-59aa-423e-b590-6a861a7dee35",
   "metadata": {},
   "source": [
    "When there are multiple items its best to use an array.  \n",
    "String[] items = {\"Shirt\", \"Trousers\", \"Scarf\"};"
   ]
  },
  {
   "cell_type": "markdown",
   "id": "cd846871-bb11-43fd-ba12-98757832876f",
   "metadata": {},
   "source": [
    "Introduction to Arrays"
   ]
  },
  {
   "cell_type": "markdown",
   "id": "fbb8e615-877f-4d0d-9e6b-c2905ec4b397",
   "metadata": {},
   "source": [
    "An Array is an indexed container that holds a set of values"
   ]
  },
  {
   "cell_type": "markdown",
   "id": "fbd16849-79f7-4cd4-947a-6a64c9fb2d3a",
   "metadata": {},
   "source": [
    "Each item in an array is called an element."
   ]
  },
  {
   "cell_type": "markdown",
   "id": "49b03d04-24b3-4f98-8a16-f60847f11ab6",
   "metadata": {},
   "source": [
    "Each element is accessed by its numerical index."
   ]
  },
  {
   "cell_type": "markdown",
   "id": "6934124b-aa75-415c-a6a9-d5b6af51092b",
   "metadata": {},
   "source": [
    "The index of the first element is 0 (zero).\n",
    "- A four-element array has indices: 0, 1, 2, 3"
   ]
  },
  {
   "cell_type": "markdown",
   "id": "7cea5059-0834-419c-8afd-fc5bd6a1d923",
   "metadata": {},
   "source": [
    "you can NOT mix variable types in an array.  \n",
    "after creation of an array, the length can NOT be changed. "
   ]
  },
  {
   "cell_type": "markdown",
   "id": "2d37ee0c-dc23-4cbf-9cf0-1c053e6703e6",
   "metadata": {},
   "source": [
    "syntax:  \n",
    "type[] arrayIdentifier = {comma-separated list of values};"
   ]
  },
  {
   "cell_type": "markdown",
   "id": "bc63c594-85a2-497d-a46b-c038cadf48ea",
   "metadata": {},
   "source": [
    "keyword \"new\" signifies creation of array  \n",
    "int[] ages = new int[3] // holds 3 indeces (0, 1, 2)"
   ]
  },
  {
   "cell_type": "markdown",
   "id": "3ba6c160-d24b-401f-b074-fccecc9e34b9",
   "metadata": {},
   "source": [
    "You can call values from an array using the name of array followed by the index holding that value. "
   ]
  },
  {
   "cell_type": "markdown",
   "id": "f0019ee9-684f-4dd3-93d2-71412f64fdd8",
   "metadata": {},
   "source": [
    "### Using an Array"
   ]
  },
  {
   "cell_type": "markdown",
   "id": "c0604486-051a-4394-b59b-307b293bc9dd",
   "metadata": {},
   "source": [
    "### Loops and Array Items"
   ]
  },
  {
   "cell_type": "markdown",
   "id": "425701d3-f697-4102-a9cf-1cfdb9498a01",
   "metadata": {},
   "source": [
    "### Loops"
   ]
  },
  {
   "cell_type": "markdown",
   "id": "bc8b2eb1-22a6-4b5d-9799-534c093826cf",
   "metadata": {},
   "source": [
    "Loops are used in programs to repeat block of statements:  \n",
    "    - Until an expression is false  \n",
    "    - or  \n",
    "    - For a specific number of times:  \n",
    "        - I want to print each element of an array.    \n",
    "        - I want to print each element of an ArrayList.  "
   ]
  },
  {
   "cell_type": "markdown",
   "id": "6c8f4537-5040-40d9-9689-036f0238f652",
   "metadata": {},
   "source": [
    "for (String name: names ) {  \n",
    "    System.out.println(\"Name is \" + name);  \n",
    "}  "
   ]
  },
  {
   "cell_type": "markdown",
   "id": "27987f52-e63f-43d6-b49d-e5c4993e3524",
   "metadata": {},
   "source": [
    "You can stop loops using the break keyword. "
   ]
  },
  {
   "cell_type": "markdown",
   "id": "987eefa9-3b96-4f4a-81ed-42302c1d48af",
   "metadata": {},
   "source": [
    " ### Using a Loop to process an array"
   ]
  },
  {
   "cell_type": "markdown",
   "id": "208b346d-ec5b-40ad-84db-4f93dfec654f",
   "metadata": {},
   "source": [
    "items.length outputs the number of elements present in the items array. "
   ]
  },
  {
   "cell_type": "markdown",
   "id": "56dddbe6-7fc1-4ec3-a7f8-13840f5327fa",
   "metadata": {},
   "source": [
    "println prints a new line.  \n",
    "print prints on the same line. "
   ]
  },
  {
   "cell_type": "markdown",
   "id": "ed993b93-fa24-44d4-af3e-c8f0d046603a",
   "metadata": {},
   "source": [
    "        for (String item : items) {\n",
    "            System.out.print(item + \", \");\n",
    "        }"
   ]
  },
  {
   "cell_type": "code",
   "execution_count": null,
   "id": "d7500a68-9fd8-4611-90ba-13bbe4c6b902",
   "metadata": {},
   "outputs": [],
   "source": []
  }
 ],
 "metadata": {
  "kernelspec": {
   "display_name": "Python 3",
   "language": "python",
   "name": "python3"
  },
  "language_info": {
   "codemirror_mode": {
    "name": "ipython",
    "version": 3
   },
   "file_extension": ".py",
   "mimetype": "text/x-python",
   "name": "python",
   "nbconvert_exporter": "python",
   "pygments_lexer": "ipython3",
   "version": "3.8.8"
  }
 },
 "nbformat": 4,
 "nbformat_minor": 5
}
