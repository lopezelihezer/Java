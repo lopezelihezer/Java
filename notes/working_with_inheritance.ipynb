{
 "cells": [
  {
   "cell_type": "markdown",
   "id": "13760bf5-a2fe-4661-ade9-50f1a61bf5a2",
   "metadata": {},
   "source": [
    "# Working with Inheritance"
   ]
  },
  {
   "cell_type": "markdown",
   "id": "0e4c8104-21de-4c08-aa3b-936883fb4751",
   "metadata": {},
   "source": [
    "## Overview of Inheritance"
   ]
  },
  {
   "cell_type": "markdown",
   "id": "3ee86185-5a42-4446-a8b1-e926e99a05a1",
   "metadata": {},
   "source": [
    "The keyword 'extends' creates the inheritance relationship. Shirt objects can now share methods of the Clothing() class."
   ]
  },
  {
   "cell_type": "markdown",
   "id": "020a48ce-321d-4e8a-8a67-e84b43f9b61c",
   "metadata": {},
   "source": [
    "### More Inheritance Facts"
   ]
  },
  {
   "cell_type": "markdown",
   "id": "e6f96b15-abc3-4bf8-808a-9985ddc6279e",
   "metadata": {},
   "source": [
    "The parent class is the superclass  \n",
    "The child class is the subclass  \n",
    "A subclass may have unique fields and methods not found in the superclass. "
   ]
  },
  {
   "cell_type": "markdown",
   "id": "9b4b2add-474a-474c-987f-f9041b635c68",
   "metadata": {},
   "source": [
    "subclass extends superclass"
   ]
  },
  {
   "cell_type": "markdown",
   "id": "1c2536ad-9660-4997-a095-c131dd8c0c28",
   "metadata": {},
   "source": [
    "Without inheritance you may end up with Code Duplication"
   ]
  },
  {
   "cell_type": "markdown",
   "id": "73544434-3ab8-422f-8553-d94c5ea4adf3",
   "metadata": {},
   "source": [
    "## Using Subclasses and Superclasses"
   ]
  },
  {
   "cell_type": "markdown",
   "id": "d897fab3-8fb9-4745-a0c5-fe7cf10a6376",
   "metadata": {},
   "source": [
    "## Creating a Subclass"
   ]
  },
  {
   "cell_type": "markdown",
   "id": "dc5e50f3-7d72-4cf9-aa20-2736e8949f6c",
   "metadata": {},
   "source": [
    "## Introduction to Overriding Methods in the Superclass"
   ]
  },
  {
   "cell_type": "markdown",
   "id": "7409096b-549a-46e3-a054-de488b784a70",
   "metadata": {},
   "source": [
    "### Overriding Methods "
   ]
  },
  {
   "cell_type": "markdown",
   "id": "fdce8a5b-4889-4525-9a06-753303a41fd2",
   "metadata": {},
   "source": [
    "Overriding = A subclass implements a method that already has an implementation in the superclass.  \n",
    "Access Modifiers   \n",
    "public = Accessble by anyone   \n",
    "protected = Accessible only within the class and subclasses   \n",
    "private = Accessible only within the class"
   ]
  },
  {
   "cell_type": "markdown",
   "id": "98983f49-d74a-424b-9eec-60cdf0c60f9a",
   "metadata": {},
   "source": [
    "public and protected methods and data may be accessed or overridden from subclasses  \n",
    "private methods and data may not be accessed or overridden from subclasses. "
   ]
  },
  {
   "cell_type": "markdown",
   "id": "06b8c15e-bccf-4aa7-88e5-594869741b2f",
   "metadata": {},
   "source": [
    "## Overriding a Method in a Superclass"
   ]
  },
  {
   "cell_type": "markdown",
   "id": "ad940f51-3696-4137-a0b4-44f3a53a41f8",
   "metadata": {},
   "source": [
    "watch vid"
   ]
  },
  {
   "cell_type": "markdown",
   "id": "332f7273-4b9e-48b3-82b6-2c20b3f076af",
   "metadata": {},
   "source": [
    "## Introducing Polymorphism"
   ]
  },
  {
   "cell_type": "markdown",
   "id": "bb6639b3-febe-41a2-b4ac-ea664b802c32",
   "metadata": {},
   "source": [
    "Polymorphism means that the same message to two different objects can have different results.  \n",
    "\"Good night\" to a child menas \"Start getting ready for bed\"  \n",
    "\"Good night\" to a parent means \"Read a bedtime story\"  \n",
    "In Java, it means the same method is implemented differently by different classes.  \n",
    "This is especially powerful in the context of inheritance.  \n",
    "It relies upon the \"is a\" relationship"
   ]
  },
  {
   "cell_type": "markdown",
   "id": "87917d6f-33e9-40df-8d70-086091a9cdef",
   "metadata": {},
   "source": [
    "### Superclass and Subclass Relationships"
   ]
  },
  {
   "cell_type": "markdown",
   "id": "99afe097-8e7f-4093-8a63-01111b014264",
   "metadata": {},
   "source": [
    "Use inheritance only when it is completely valid or unavoidable  \n",
    "Use the \"is a\" test to decide whether an inheritance relationship makes sense.  \n",
    "Check the below expressions and see which make sense:"
   ]
  },
  {
   "cell_type": "markdown",
   "id": "836cad13-3e22-4dbf-9394-de6880f7d7d6",
   "metadata": {},
   "source": [
    "- A Shirt is a piece of Clothing\n",
    "- A Hat is a Sock\n",
    "- Equipment is a piece of Clothing\n",
    "- Clothing and Equipment are items"
   ]
  },
  {
   "cell_type": "markdown",
   "id": "a7743da3-2c77-449c-94e4-22e463b2d99a",
   "metadata": {},
   "source": [
    " ### Using the Superclass as a Reference"
   ]
  },
  {
   "cell_type": "markdown",
   "id": "51a6fab3-2220-41bd-ae1f-ef20030a0b93",
   "metadata": {},
   "source": [
    "So far, you have referenced objects only with a reference variable of the same class  \n",
    "- To use the Shirt class as the reference type for the Shirt object: Shirt myShirt = new Shirt();  \n",
    "- But you can also use the superclass as the reference:  \n",
    "Clothing garment1 = new Shirt();  \n",
    "Clothing garment2 = new Trousers();  "
   ]
  },
  {
   "cell_type": "markdown",
   "id": "291ea355-d46f-4765-8fc0-4fbd42a12edd",
   "metadata": {},
   "source": [
    "This means that a reference to a Shirt or Trousers object can be passed into a method that requires a Clothing reference  \n",
    "or a Clothing array can contain references to Shirt, Trousers, or Socks objects for example."
   ]
  },
  {
   "cell_type": "markdown",
   "id": "84a62d39-cbaf-4fab-83e4-2c0befecd801",
   "metadata": {},
   "source": [
    "Using the superclass method, only the methods in the supleclass and inherited by the object can be used. "
   ]
  },
  {
   "cell_type": "markdown",
   "id": "b648c5be-92bb-41fd-ac85-f9efe0c13f38",
   "metadata": {},
   "source": [
    "To use the subclass methods you'll need to cast the object as such. "
   ]
  },
  {
   "cell_type": "markdown",
   "id": "82ec642e-6ab2-43b4-a80f-e1fe505b9f3d",
   "metadata": {},
   "source": [
    "When casting use < variable > instanceOf < type >"
   ]
  },
  {
   "cell_type": "markdown",
   "id": "fc90ad01-a001-4ac1-817e-f155a8a86d57",
   "metadata": {},
   "source": [
    "## Using the instaceof Operator"
   ]
  },
  {
   "cell_type": "markdown",
   "id": "b9fbc243-b07c-4d3d-8e4a-68680081d202",
   "metadata": {},
   "source": [
    "## Creating and Extending Abstract Classes"
   ]
  },
  {
   "cell_type": "markdown",
   "id": "771fde53-ebfa-4448-9763-b6fbfb47cb9e",
   "metadata": {},
   "source": [
    "### Abstract Classes"
   ]
  },
  {
   "cell_type": "markdown",
   "id": "7195f918-da40-413f-8688-cdb286d35cf4",
   "metadata": {},
   "source": [
    "Use the abstract keyword to create a special class that  \n",
    "- cannot be instantiated\n",
    "- may contain concrete methods\n",
    "- may contain abstract methods that must be implemented later by any nonabstract subclasses"
   ]
  },
  {
   "cell_type": "markdown",
   "id": "94fb1692-9de5-4288-ae29-dae1425e163c",
   "metadata": {},
   "source": [
    "The abstract class imposes a requirement on any subclasses to implement all of its abstract methods. "
   ]
  },
  {
   "cell_type": "markdown",
   "id": "eed2251e-f7e5-4d0e-a7b1-1162aedabd15",
   "metadata": {},
   "source": [
    "public abstract class Clothing {}"
   ]
  },
  {
   "cell_type": "markdown",
   "id": "848b29cc-1609-431f-9a68-f025c3058394",
   "metadata": {},
   "source": [
    "## Creating a Class Hierarchy"
   ]
  },
  {
   "cell_type": "markdown",
   "id": "e6b3a6b6-1848-45df-bd2c-3984c753fcbd",
   "metadata": {},
   "source": [
    "watch vid"
   ]
  },
  {
   "cell_type": "code",
   "execution_count": null,
   "id": "f64a8332-68c2-4d9e-9695-18382e685c24",
   "metadata": {},
   "outputs": [],
   "source": []
  }
 ],
 "metadata": {
  "kernelspec": {
   "display_name": "Python 3",
   "language": "python",
   "name": "python3"
  },
  "language_info": {
   "codemirror_mode": {
    "name": "ipython",
    "version": 3
   },
   "file_extension": ".py",
   "mimetype": "text/x-python",
   "name": "python",
   "nbconvert_exporter": "python",
   "pygments_lexer": "ipython3",
   "version": "3.8.8"
  }
 },
 "nbformat": 4,
 "nbformat_minor": 5
}
