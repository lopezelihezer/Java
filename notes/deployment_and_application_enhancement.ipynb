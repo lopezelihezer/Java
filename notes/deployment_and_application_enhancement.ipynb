{
 "cells": [
  {
   "cell_type": "markdown",
   "id": "940174d7-e89a-4af8-962a-68f31d8cca59",
   "metadata": {},
   "source": [
    "# Deployment & Application Enhancement"
   ]
  },
  {
   "cell_type": "markdown",
   "id": "d6e939c3-2d73-415c-a6f7-346d0b04519f",
   "metadata": {},
   "source": [
    "## Packages"
   ]
  },
  {
   "cell_type": "markdown",
   "id": "f4fa9a4c-24fe-436c-b31a-142aec357643",
   "metadata": {},
   "source": [
    "In NetBeans...  \n",
    "The projects tab shows the package and libraries for each project.  \n",
    "The source package shown is the one containing the packages and classes for the application. "
   ]
  },
  {
   "cell_type": "markdown",
   "id": "f4bec8d0-fbbd-47e6-9b12-b550c192d4cc",
   "metadata": {},
   "source": [
    "Just as a class itself must be in a file of the same name as the class, the file must reside in a directory structure that matches the package name. "
   ]
  },
  {
   "cell_type": "markdown",
   "id": "e38011d3-f3a0-4fe2-989c-08454e75d94d",
   "metadata": {},
   "source": [
    "To deploy a Java application, you typically put the necesary files into a JAR file.  \n",
    "A JAR file is like a zip or tar file and contains the entire class directory including the manifest file.  \n",
    "The META-INF/MANIFEST.MF file tells the JRE, which file contains the main method. "
   ]
  },
  {
   "cell_type": "markdown",
   "id": "1626a42d-583b-4b82-bbd4-bac6e957e799",
   "metadata": {},
   "source": [
    "## Creating a JAR File"
   ]
  },
  {
   "cell_type": "markdown",
   "id": "1fa5a349-1b2b-4afc-a93f-ec98b00ea794",
   "metadata": {},
   "source": [
    "In NetBeans, right click on a project and select \"Clean and Build\"  \n",
    "Clean removes any previous builds, and Build creates the JAR file.  \n",
    "The JAR file will be located in the dist directory.  "
   ]
  },
  {
   "cell_type": "markdown",
   "id": "6ad98281-6f92-4090-97bd-7893160656af",
   "metadata": {},
   "source": [
    "## Client/Server Architecture"
   ]
  },
  {
   "cell_type": "markdown",
   "id": "f0142dae-4662-4b36-9fb0-9587c6346135",
   "metadata": {},
   "source": [
    "### Client/Server Two-Tier Architecture"
   ]
  },
  {
   "cell_type": "markdown",
   "id": "b3d0b8e2-9c7e-422b-bf3d-458ce59bb48d",
   "metadata": {},
   "source": [
    "Client/server computing involves two or more computers sharing tasks:  "
   ]
  },
  {
   "cell_type": "markdown",
   "id": "c775741f-504f-4838-9345-e1f5d2b70f1a",
   "metadata": {},
   "source": [
    "- Each computer performs logic appropriate to its design and stated function. \n",
    "- The front-end client communicates with the back-end database. \n",
    "- The client requests data from the back end. \n",
    "- The server returns the appropriate results. \n",
    "- The client handles and displays data. "
   ]
  },
  {
   "cell_type": "markdown",
   "id": "0a6de76c-8e0a-48c3-bd55-9dce0bbaa044",
   "metadata": {},
   "source": [
    "When the client software ends up being larger and more complex bacause most of the logic is handled there on the client side, the client is referred to as a thick client and produce large network traffic. "
   ]
  },
  {
   "cell_type": "markdown",
   "id": "16095e5e-55c0-46d7-b506-1ec503dfb93a",
   "metadata": {},
   "source": [
    "### Client/Server Three-Tier Architecture"
   ]
  },
  {
   "cell_type": "markdown",
   "id": "ba4cdead-cd89-4816-82af-2a815f2fb529",
   "metadata": {},
   "source": [
    "3-tier client/server is a more complex, flexible approach.  \n",
    "Each tier can be replaced by a different implementation:  \n",
    "    - The data tier is an encapsulation of all existing data sources.  \n",
    "    - Business logic defines business rules.  \n",
    "    - Presentation can be GUI, web, smartphone, or even console.  "
   ]
  },
  {
   "cell_type": "markdown",
   "id": "01f9e8f1-9131-444f-a114-88d07a8ae7f2",
   "metadata": {},
   "source": [
    "Data - Business Logic - Presentation"
   ]
  },
  {
   "cell_type": "markdown",
   "id": "5679a902-0ecc-44b2-b4b5-1d744a7c5c13",
   "metadata": {},
   "source": [
    "### Different Outputs"
   ]
  },
  {
   "cell_type": "markdown",
   "id": "2ec8d83e-4087-4d1b-97c1-14a32a847a85",
   "metadata": {},
   "source": [
    "A 2D String array could provide the String otput for each element of the grid, but this is inflexible  \n",
    "- The presentation can only display the String provided. \n",
    "- The presentation cannot access other useful information - for example, the data required to allow users to click on the score for more details. "
   ]
  },
  {
   "cell_type": "markdown",
   "id": "532aebfa-efe7-4f94-a2b6-3d48aaacfdc2",
   "metadata": {},
   "source": [
    "## Running a JAR File from the Command Line"
   ]
  },
  {
   "cell_type": "markdown",
   "id": "856e6983-20a3-4aec-abc0-83220f19bdb0",
   "metadata": {},
   "source": [
    "tip: find the directory 'dist' in finder first for the desired package and then launch the terminal from there to avoid having to type out the entire path.  \n",
    "    An alternative is to copy and paste the directory path from the output after 'clean and build'"
   ]
  },
  {
   "cell_type": "markdown",
   "id": "c7d83f1d-a8fe-4de7-8029-7abc7caade3f",
   "metadata": {},
   "source": [
    "## Enhancing the Application"
   ]
  },
  {
   "cell_type": "markdown",
   "id": "b9676f64-7607-480e-9e02-26c55cebb0d4",
   "metadata": {},
   "source": [
    "Well-designed Java software minimizes the time required for:  \n",
    "    - Maintenance\n",
    "    - Enhancements\n",
    "    - Upgrades  \n",
    "    "
   ]
  },
  {
   "cell_type": "markdown",
   "id": "552fcbde-a524-43c0-9eb2-b9b9816df9fa",
   "metadata": {},
   "source": [
    "For the Soccer application (example), it should be easy to: \n",
    "    - Add new GameEvent subclasses (business logic)  \n",
    "    - Develop new clients (presentation)  - Take the application to a smartphone (for example)  \n",
    "    - Change the storage system (data)"
   ]
  },
  {
   "cell_type": "code",
   "execution_count": null,
   "id": "6d6ba146-ec21-4733-80a9-550535b9f751",
   "metadata": {},
   "outputs": [],
   "source": []
  }
 ],
 "metadata": {
  "kernelspec": {
   "display_name": "Python 3",
   "language": "python",
   "name": "python3"
  },
  "language_info": {
   "codemirror_mode": {
    "name": "ipython",
    "version": 3
   },
   "file_extension": ".py",
   "mimetype": "text/x-python",
   "name": "python",
   "nbconvert_exporter": "python",
   "pygments_lexer": "ipython3",
   "version": "3.8.8"
  }
 },
 "nbformat": 4,
 "nbformat_minor": 5
}
