{
 "cells": [
  {
   "cell_type": "markdown",
   "id": "5246e30a-c2fd-4fe6-8421-621045f89e24",
   "metadata": {},
   "source": [
    "# Classes, Data Types & Regular Expressions"
   ]
  },
  {
   "cell_type": "markdown",
   "id": "5be85cc7-12cb-4bdd-b666-bbe362b8ad47",
   "metadata": {},
   "source": [
    "## Overview of the String Class"
   ]
  },
  {
   "cell_type": "markdown",
   "id": "274ba2b9-e9fb-42b5-98eb-dc7430faf6a1",
   "metadata": {},
   "source": [
    "### String Class"
   ]
  },
  {
   "cell_type": "markdown",
   "id": "7ed3cb59-99a1-4934-9250-6449bf05a487",
   "metadata": {},
   "source": [
    "A String object is immutable; its value cannot be changed.  \n",
    "A String object can be used with the string concatenation operator symbol (+) for concatenation."
   ]
  },
  {
   "cell_type": "markdown",
   "id": "510e3a06-8f88-4ed7-856d-296df7afbfaa",
   "metadata": {},
   "source": [
    "Using the \"new\" keyword, creates two String objects in memory.   \n",
    "Because strings are immutable, concatenating two string requires the creation of a new string. "
   ]
  },
  {
   "cell_type": "markdown",
   "id": "45cbc20d-ef85-4a04-a5c2-bc61fd470e90",
   "metadata": {},
   "source": [
    "### String Method calls with Primitive Return Values"
   ]
  },
  {
   "cell_type": "markdown",
   "id": "64ba524a-fbaa-4d21-bb31-9e4d4a1cc284",
   "metadata": {},
   "source": [
    "A method call can return a single value of any type.  \n",
    "- An example of a method of primitive type int:  \n",
    "    String hello = \"Hello World\";  \n",
    "    int stringLength = hello.length();  "
   ]
  },
  {
   "cell_type": "markdown",
   "id": "2e4b6a00-7ff6-4128-ac6d-be691ea39064",
   "metadata": {},
   "source": [
    "### String Method calls with Object Return Values  \n",
    "  \n",
    "String lc = (greet + \"DY\").toLowerCase();"
   ]
  },
  {
   "cell_type": "markdown",
   "id": "0c07fdcc-d23a-4b5e-a0df-ad3ed37c2f2b",
   "metadata": {},
   "source": [
    "## Using the String Class"
   ]
  },
  {
   "cell_type": "markdown",
   "id": "e6aba4da-700a-4638-962a-7058eb75e107",
   "metadata": {},
   "source": [
    "    public static void main(String[] args) {\n",
    "        // TODO code application logic here\n",
    "        String custName = \"Sally Smith\";\n",
    "        String firstName;\n",
    "        // Will be used to call the first name later in the code\n",
    "        int spaceIndex;\n",
    "        // Will be used to call the index of the space in between first and last name in custName\n",
    "        spaceIndex = custName.indexOf(\" \");\n",
    "        \n",
    "        // Use the substring method to locate the first name\n",
    "        firstName = custName.substring(0, spaceIndex);\n",
    "        System.out.println(firstName);"
   ]
  },
  {
   "cell_type": "markdown",
   "id": "dda86095-3505-4f29-aed2-b4de4a1cf5be",
   "metadata": {},
   "source": [
    "## Using the Java API Docs"
   ]
  },
  {
   "cell_type": "markdown",
   "id": "e019d72a-0099-4ffa-8515-011ffc17f939",
   "metadata": {},
   "source": [
    "Consists of a set of webpages  \n",
    "Lists all the classes in the API  \n",
    "- Descriptions of what the class does  \n",
    "- List of constructors, methods, and fields for the class  \n",
    "Highly hyperlinked to show the interconnections between classes and to facilitate lookup  \n",
    "Available on the Oracle website at:  \n",
    "http://download.oracle.com/javase/8/docs/api/index.html"
   ]
  },
  {
   "cell_type": "markdown",
   "id": "e19e05f5-dc83-4695-9657-549effdbc317",
   "metadata": {},
   "source": [
    "JDK - Java Software Development Kits"
   ]
  },
  {
   "cell_type": "markdown",
   "id": "ffc2b0d8-fa32-46c2-a309-ae7081b3d5a0",
   "metadata": {},
   "source": [
    " API stands for application programming interface. "
   ]
  },
  {
   "cell_type": "markdown",
   "id": "1c3d04d3-f09a-4616-81ec-dc2676a97e08",
   "metadata": {},
   "source": [
    "## Overview of the StringBuilder Class"
   ]
  },
  {
   "cell_type": "markdown",
   "id": "2143399a-7b18-4d18-b772-ec3e214056ab",
   "metadata": {},
   "source": [
    " ### String Builder Class"
   ]
  },
  {
   "cell_type": "markdown",
   "id": "015d46b4-85a9-44e5-931f-83ed9d34f3ac",
   "metadata": {},
   "source": [
    "StringBuilder provides a mutable alternative to String.StringBuilder  \n",
    "Is instantiated using the 'new' keyword  \n",
    "Has many methods for manipulating its value  \n",
    "Provides better performance because it is mutable  \n",
    "Can be created with an initial capacity  \n",
    "\n",
    "String is still needed because  \n",
    "It may be safer to use an immutable object  \n",
    "A method in the API may require a string  \n",
    "It has many more methods not available on StringBuilder"
   ]
  },
  {
   "cell_type": "markdown",
   "id": "16999ef5-4d54-4906-8e1e-0a626222050e",
   "metadata": {},
   "source": [
    "Unlike String, there's no shortcut to instantiate a StringBuilder."
   ]
  },
  {
   "cell_type": "markdown",
   "id": "c6729fce-3a26-4fbe-af77-51509a59973a",
   "metadata": {},
   "source": [
    "append, delete, insert, and replace"
   ]
  },
  {
   "cell_type": "markdown",
   "id": "fe399196-df74-4fa5-aaa7-8019e9988faf",
   "metadata": {},
   "source": [
    "StringBuilder Append  \n",
    "StringBuilder mySB = new StringBuilder(\"Hello\");  \n",
    "mySB.append(\" World\");  \n",
    "// No equal sign was necessary because there's always a reference to the StringBuilder object. "
   ]
  },
  {
   "cell_type": "markdown",
   "id": "38e3343d-936a-4744-aad1-35715d1ca86d",
   "metadata": {},
   "source": [
    "### Working with the StringBuilder Class"
   ]
  },
  {
   "cell_type": "code",
   "execution_count": null,
   "id": "3d5a23bc-ccfd-408a-8683-dc439fdeb854",
   "metadata": {},
   "outputs": [],
   "source": []
  }
 ],
 "metadata": {
  "kernelspec": {
   "display_name": "Python 3",
   "language": "python",
   "name": "python3"
  },
  "language_info": {
   "codemirror_mode": {
    "name": "ipython",
    "version": 3
   },
   "file_extension": ".py",
   "mimetype": "text/x-python",
   "name": "python",
   "nbconvert_exporter": "python",
   "pygments_lexer": "ipython3",
   "version": "3.8.8"
  }
 },
 "nbformat": 4,
 "nbformat_minor": 5
}
