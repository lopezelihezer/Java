{
 "cells": [
  {
   "cell_type": "markdown",
   "id": "5246e30a-c2fd-4fe6-8421-621045f89e24",
   "metadata": {},
   "source": [
    "# Classes, Data Types & Regular Expressions"
   ]
  },
  {
   "cell_type": "markdown",
   "id": "5be85cc7-12cb-4bdd-b666-bbe362b8ad47",
   "metadata": {},
   "source": [
    "## Overview of the String Class"
   ]
  },
  {
   "cell_type": "markdown",
   "id": "274ba2b9-e9fb-42b5-98eb-dc7430faf6a1",
   "metadata": {},
   "source": [
    "### String Class"
   ]
  },
  {
   "cell_type": "markdown",
   "id": "7ed3cb59-99a1-4934-9250-6449bf05a487",
   "metadata": {},
   "source": [
    "A String object is immutable; its value cannot be changed.  \n",
    "A String object can be used with the string concatenation operator symbol (+) for concatenation."
   ]
  },
  {
   "cell_type": "markdown",
   "id": "510e3a06-8f88-4ed7-856d-296df7afbfaa",
   "metadata": {},
   "source": [
    "Using the \"new\" keyword, creates two String objects in memory.   \n",
    "Because strings are immutable, concatenating two string requires the creation of a new string. "
   ]
  },
  {
   "cell_type": "markdown",
   "id": "45cbc20d-ef85-4a04-a5c2-bc61fd470e90",
   "metadata": {},
   "source": [
    "### String Method calls with Primitive Return Values"
   ]
  },
  {
   "cell_type": "markdown",
   "id": "64ba524a-fbaa-4d21-bb31-9e4d4a1cc284",
   "metadata": {},
   "source": [
    "A method call can return a single value of any type.  \n",
    "- An example of a method of primitive type int:  \n",
    "    String hello = \"Hello World\";  \n",
    "    int stringLength = hello.length();  "
   ]
  },
  {
   "cell_type": "markdown",
   "id": "2e4b6a00-7ff6-4128-ac6d-be691ea39064",
   "metadata": {},
   "source": [
    "### String Method calls with Object Return Values  \n",
    "  \n",
    "String lc = (greet + \"DY\").toLowerCase();"
   ]
  },
  {
   "cell_type": "markdown",
   "id": "0c07fdcc-d23a-4b5e-a0df-ad3ed37c2f2b",
   "metadata": {},
   "source": [
    "## Using the String Class"
   ]
  },
  {
   "cell_type": "markdown",
   "id": "e6aba4da-700a-4638-962a-7058eb75e107",
   "metadata": {},
   "source": [
    "    public static void main(String[] args) {\n",
    "        // TODO code application logic here\n",
    "        String custName = \"Sally Smith\";\n",
    "        String firstName;\n",
    "        // Will be used to call the first name later in the code\n",
    "        int spaceIndex;\n",
    "        // Will be used to call the index of the space in between first and last name in custName\n",
    "        spaceIndex = custName.indexOf(\" \");\n",
    "        \n",
    "        // Use the substring method to locate the first name\n",
    "        firstName = custName.substring(0, spaceIndex);\n",
    "        System.out.println(firstName);"
   ]
  },
  {
   "cell_type": "markdown",
   "id": "dda86095-3505-4f29-aed2-b4de4a1cf5be",
   "metadata": {},
   "source": [
    "## Using the Java API Docs"
   ]
  },
  {
   "cell_type": "markdown",
   "id": "e019d72a-0099-4ffa-8515-011ffc17f939",
   "metadata": {},
   "source": [
    "Consists of a set of webpages  \n",
    "Lists all the classes in the API  \n",
    "- Descriptions of what the class does  \n",
    "- List of constructors, methods, and fields for the class  \n",
    "Highly hyperlinked to show the interconnections between classes and to facilitate lookup  \n",
    "Available on the Oracle website at:  \n",
    "http://download.oracle.com/javase/8/docs/api/index.html"
   ]
  },
  {
   "cell_type": "markdown",
   "id": "e19e05f5-dc83-4695-9657-549effdbc317",
   "metadata": {},
   "source": [
    "JDK - Java Software Development Kits"
   ]
  },
  {
   "cell_type": "markdown",
   "id": "ffc2b0d8-fa32-46c2-a309-ae7081b3d5a0",
   "metadata": {},
   "source": [
    " API stands for application programming interface. "
   ]
  },
  {
   "cell_type": "markdown",
   "id": "1c3d04d3-f09a-4616-81ec-dc2676a97e08",
   "metadata": {},
   "source": [
    "## Overview of the StringBuilder Class"
   ]
  },
  {
   "cell_type": "markdown",
   "id": "2143399a-7b18-4d18-b772-ec3e214056ab",
   "metadata": {},
   "source": [
    " ### String Builder Class"
   ]
  },
  {
   "cell_type": "markdown",
   "id": "015d46b4-85a9-44e5-931f-83ed9d34f3ac",
   "metadata": {},
   "source": [
    "StringBuilder provides a mutable alternative to String.StringBuilder  \n",
    "Is instantiated using the 'new' keyword  \n",
    "Has many methods for manipulating its value  \n",
    "Provides better performance because it is mutable  \n",
    "Can be created with an initial capacity  \n",
    "\n",
    "String is still needed because  \n",
    "It may be safer to use an immutable object  \n",
    "A method in the API may require a string  \n",
    "It has many more methods not available on StringBuilder"
   ]
  },
  {
   "cell_type": "markdown",
   "id": "16999ef5-4d54-4906-8e1e-0a626222050e",
   "metadata": {},
   "source": [
    "Unlike String, there's no shortcut to instantiate a StringBuilder."
   ]
  },
  {
   "cell_type": "markdown",
   "id": "c6729fce-3a26-4fbe-af77-51509a59973a",
   "metadata": {},
   "source": [
    "append, delete, insert, and replace"
   ]
  },
  {
   "cell_type": "markdown",
   "id": "fe399196-df74-4fa5-aaa7-8019e9988faf",
   "metadata": {},
   "source": [
    "StringBuilder Append  \n",
    "StringBuilder mySB = new StringBuilder(\"Hello\");  \n",
    "mySB.append(\" World\");  \n",
    "// No equal sign was necessary because there's always a reference to the StringBuilder object. "
   ]
  },
  {
   "cell_type": "markdown",
   "id": "38e3343d-936a-4744-aad1-35715d1ca86d",
   "metadata": {},
   "source": [
    "### Working with the StringBuilder Class"
   ]
  },
  {
   "cell_type": "markdown",
   "id": "109e40fd-c2b2-4d22-b39f-a083a9bf01ba",
   "metadata": {},
   "source": [
    "    public static void main(String[] args) {\n",
    "        // TODO code application logic here\n",
    "        String custName = \"Sally Smith\";\n",
    "        String firstName;\n",
    "        // Will be used to call the first name later in the code\n",
    "        int spaceIndex;\n",
    "        // Will be used to call the index of the space in between first and last name in custName\n",
    "        StringBuilder sb; // Creates StringBuilder object names 'sb'\n",
    "        \n",
    "        \n",
    "        \n",
    "        \n",
    "        \n",
    "        spaceIndex = custName.indexOf(\" \");\n",
    "        \n",
    "        // Use the substring method to locate the first name\n",
    "        firstName = custName.substring(0, spaceIndex);\n",
    "        System.out.println(firstName);\n",
    "        \n",
    "        //Instantiate and initialize sb to firstName\n",
    "        sb = new StringBuilder(firstName);\n",
    "        System.out.println(sb);\n",
    "        \n",
    "        /* Put the full name back together, using StringBuilder append method.\n",
    "        We're just entering the String literal for the last name and then \n",
    "        printing the full name\n",
    "        */\n",
    "        sb.append(\" Smith\");\n",
    "        System.out.println(sb);"
   ]
  },
  {
   "cell_type": "markdown",
   "id": "115fed8b-9602-4ed5-a3bf-fe454d334c2b",
   "metadata": {},
   "source": [
    "## More about Primitive Data Types"
   ]
  },
  {
   "cell_type": "markdown",
   "id": "673cb669-61cb-4a16-9a68-fc289c001bcd",
   "metadata": {},
   "source": [
    "Integral types (byte, short, int, and long)  \n",
    "Floating point types (float and double)  \n",
    "Textual type (char)  \n",
    "Logical type (boolean)  "
   ]
  },
  {
   "cell_type": "markdown",
   "id": "bfa1e49e-1ec5-4e83-8869-6fd2f213acd2",
   "metadata": {},
   "source": [
    "### Some New Integral Primitive Types"
   ]
  },
  {
   "cell_type": "markdown",
   "id": "e61e0ae2-3c86-4721-a0cc-df1a74e20ada",
   "metadata": {},
   "source": [
    "byte // 8 bits // 256 possible values, range -128 to 127  \n",
    "short // 16 bits // 65535 possible values, range -32768 to 23767  \n",
    "int // 32 bits // 4294967296 possible values, range -2147483648 to 2147483647  \n",
    "long // 64 bits // -2^63 to 2^63-1  "
   ]
  },
  {
   "cell_type": "markdown",
   "id": "88c6d1b2-df55-4647-895d-1706041cc464",
   "metadata": {},
   "source": [
    "Integral types are used to store numbers that don't have decimal portions. "
   ]
  },
  {
   "cell_type": "markdown",
   "id": "43a19ff0-5231-4f30-bc64-d75ceeb8ccec",
   "metadata": {},
   "source": [
    "Ob indicates to the compiler that a binary value follows.   \n",
    "The only reason to use the byte and short types in programs is to save memory consumptions.  "
   ]
  },
  {
   "cell_type": "markdown",
   "id": "056fecb9-bef3-41c4-bdc9-b4e2aa4b8a64",
   "metadata": {},
   "source": [
    "float - 32 bits  \n",
    "double - 64 bits ( default type for floating point literals)"
   ]
  },
  {
   "cell_type": "markdown",
   "id": "eb711ab2-d915-4a3c-92f6-89b1f9604ebb",
   "metadata": {},
   "source": [
    "### Textual Primitive Type"
   ]
  },
  {
   "cell_type": "markdown",
   "id": "57857558-221f-4442-bd07-4d1b863c8e6c",
   "metadata": {},
   "source": [
    "When you assign a literal value to a char variable, single quotes must be used with char literal values"
   ]
  },
  {
   "cell_type": "markdown",
   "id": "378be256-145a-4823-a4e6-4f8c2bf7ce90",
   "metadata": {},
   "source": [
    "The only primitive textual data type is char.  \n",
    "It is used for a single character(16 bits)  \n",
    "Example: public char colorCode = 'U';"
   ]
  },
  {
   "cell_type": "markdown",
   "id": "91a438ac-b2eb-467c-a376-0ebfa71d4f30",
   "metadata": {},
   "source": [
    "### Java Language Trivia: Unicode"
   ]
  },
  {
   "cell_type": "markdown",
   "id": "ddd463df-c082-419f-9125-c70d0df83589",
   "metadata": {},
   "source": [
    "The java programming language uses a 16-bit character set called Unicode that can store all the necesary characters from most languages.  \n",
    "Unicode contains a subset of ASCII, which is the first 128 characters. "
   ]
  },
  {
   "cell_type": "markdown",
   "id": "478620ab-91ee-4477-9e55-4363c1ec555f",
   "metadata": {},
   "source": [
    "### Constants"
   ]
  },
  {
   "cell_type": "markdown",
   "id": "1b778722-1b96-48e2-886a-d8d45db93eb6",
   "metadata": {},
   "source": [
    "Constants  \n",
    "Variable (can change):  \n",
    "    - double salesTax = 6.25;"
   ]
  },
  {
   "cell_type": "markdown",
   "id": "5ca6fc65-a2ab-4194-a2e4-58cb881aa47b",
   "metadata": {},
   "source": [
    "Constant (cannot change):  \n",
    "    - final int NUMBER_OF_MONTH = 12; (The final keyword causes a variable to be read only)"
   ]
  },
  {
   "cell_type": "markdown",
   "id": "7f50f772-8687-4b2d-a642-9e6ef0669f9d",
   "metadata": {},
   "source": [
    "Generally, constants should be capatilized with words sepearated by an underscore. "
   ]
  },
  {
   "cell_type": "markdown",
   "id": "b4b16851-5437-4bd0-bfb5-7c926dd952d3",
   "metadata": {},
   "source": [
    "## The Remaining Numeric Operators"
   ]
  },
  {
   "cell_type": "markdown",
   "id": "ae5d51de-8d8b-4915-82f2-b07f133c12c3",
   "metadata": {},
   "source": [
    "### Modulus Operator"
   ]
  },
  {
   "cell_type": "markdown",
   "id": "78e51fe1-d497-4ade-8755-fd0df861344b",
   "metadata": {},
   "source": [
    "Purpose = Remainder  \n",
    "Operator = %  \n",
    "mod = num1 % num2;"
   ]
  },
  {
   "cell_type": "markdown",
   "id": "bf09153d-d1ce-4196-8f84-201718acf158",
   "metadata": {},
   "source": [
    "### More on Increment and Decrement Operators"
   ]
  },
  {
   "cell_type": "markdown",
   "id": "30173ed5-287f-44b3-bfd9-8620a2705807",
   "metadata": {},
   "source": [
    "Example: int id = 6;  \n",
    "    int newId = ++id;  \n",
    "    id is 7, newId is 7  \n",
    "Here the increment is taken into account before the assignment\n",
    "\n",
    "int newId = id++;  \n",
    "id is 7, newId is 6  \n",
    "Here the increment is taken into account after the assignement, so newId equals 6"
   ]
  },
  {
   "cell_type": "markdown",
   "id": "571ea604-a5ee-4a4f-8d02-336b8c92fbb0",
   "metadata": {},
   "source": [
    "### Increment and Decrement Operators (++ and --)"
   ]
  },
  {
   "cell_type": "markdown",
   "id": "c04bc756-9d7c-4b03-b183-a9f930f6373a",
   "metadata": {},
   "source": [
    "Example:"
   ]
  },
  {
   "cell_type": "markdown",
   "id": "15c166d9-ad53-4950-8cbc-70f52ac39dd3",
   "metadata": {},
   "source": [
    "\n",
    "    public static void main(String[] args) {\n",
    "        // TODO code application logic here\n",
    "        int count = 20; // intialize count with an integer value of 20\n",
    "        int a, b, c, d; // create 4 empty variables\n",
    "        a = count++; // a holds the value of count (20) before the increment, count is now (21)\n",
    "        b = count; // holds the current value of count (21) after the initial increment\n",
    "        c = ++count; // c holds the value of count after it has been incremented again to (22)\n",
    "        d = count; // count is now (22)\n",
    "        System.out.println(a + \", \" + b + \", \" + c + \", \" + d); // Prints out variable values"
   ]
  },
  {
   "cell_type": "code",
   "execution_count": null,
   "id": "c720b859-2633-41cd-bcb5-62823dcec78c",
   "metadata": {},
   "outputs": [],
   "source": []
  }
 ],
 "metadata": {
  "kernelspec": {
   "display_name": "Python 3",
   "language": "python",
   "name": "python3"
  },
  "language_info": {
   "codemirror_mode": {
    "name": "ipython",
    "version": 3
   },
   "file_extension": ".py",
   "mimetype": "text/x-python",
   "name": "python",
   "nbconvert_exporter": "python",
   "pygments_lexer": "ipython3",
   "version": "3.8.8"
  }
 },
 "nbformat": 4,
 "nbformat_minor": 5
}
