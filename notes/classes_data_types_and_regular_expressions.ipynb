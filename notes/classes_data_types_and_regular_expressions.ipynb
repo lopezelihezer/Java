{
 "cells": [
  {
   "cell_type": "markdown",
   "id": "5246e30a-c2fd-4fe6-8421-621045f89e24",
   "metadata": {},
   "source": [
    "# Classes, Data Types & Regular Expressions"
   ]
  },
  {
   "cell_type": "markdown",
   "id": "5be85cc7-12cb-4bdd-b666-bbe362b8ad47",
   "metadata": {},
   "source": [
    "## Overview of the String Class"
   ]
  },
  {
   "cell_type": "markdown",
   "id": "274ba2b9-e9fb-42b5-98eb-dc7430faf6a1",
   "metadata": {},
   "source": [
    "### String Class"
   ]
  },
  {
   "cell_type": "markdown",
   "id": "7ed3cb59-99a1-4934-9250-6449bf05a487",
   "metadata": {},
   "source": [
    "A String object is immutable; its value cannot be changed.  \n",
    "A String object can be used with the string concatenation operator symbol (+) for concatenation."
   ]
  },
  {
   "cell_type": "markdown",
   "id": "510e3a06-8f88-4ed7-856d-296df7afbfaa",
   "metadata": {},
   "source": [
    "Using the \"new\" keyword, creates two String objects in memory.   \n",
    "Because strings are immutable, concatenating two string requires the creation of a new string. "
   ]
  },
  {
   "cell_type": "markdown",
   "id": "45cbc20d-ef85-4a04-a5c2-bc61fd470e90",
   "metadata": {},
   "source": [
    "### String Method calls with Primitive Return Values"
   ]
  },
  {
   "cell_type": "markdown",
   "id": "64ba524a-fbaa-4d21-bb31-9e4d4a1cc284",
   "metadata": {},
   "source": [
    "A method call can return a single value of any type.  \n",
    "- An example of a method of primitive type int:  \n",
    "    String hello = \"Hello World\";  \n",
    "    int stringLength = hello.length();  "
   ]
  },
  {
   "cell_type": "markdown",
   "id": "2e4b6a00-7ff6-4128-ac6d-be691ea39064",
   "metadata": {},
   "source": [
    "### String Method calls with Object Return Values  \n",
    "  \n",
    "String lc = (greet + \"DY\").toLowerCase();"
   ]
  },
  {
   "cell_type": "markdown",
   "id": "0c07fdcc-d23a-4b5e-a0df-ad3ed37c2f2b",
   "metadata": {},
   "source": [
    "## Using the String Class"
   ]
  },
  {
   "cell_type": "markdown",
   "id": "e6aba4da-700a-4638-962a-7058eb75e107",
   "metadata": {},
   "source": [
    "    public static void main(String[] args) {\n",
    "        // TODO code application logic here\n",
    "        String custName = \"Sally Smith\";\n",
    "        String firstName;\n",
    "        // Will be used to call the first name later in the code\n",
    "        int spaceIndex;\n",
    "        // Will be used to call the index of the space in between first and last name in custName\n",
    "        spaceIndex = custName.indexOf(\" \");\n",
    "        \n",
    "        // Use the substring method to locate the first name\n",
    "        firstName = custName.substring(0, spaceIndex);\n",
    "        System.out.println(firstName);"
   ]
  },
  {
   "cell_type": "markdown",
   "id": "dda86095-3505-4f29-aed2-b4de4a1cf5be",
   "metadata": {},
   "source": [
    "## Using the Java API Docs"
   ]
  },
  {
   "cell_type": "markdown",
   "id": "e019d72a-0099-4ffa-8515-011ffc17f939",
   "metadata": {},
   "source": [
    "Consists of a set of webpages  \n",
    "Lists all the classes in the API  \n",
    "- Descriptions of what the class does  \n",
    "- List of constructors, methods, and fields for the class  \n",
    "Highly hyperlinked to show the interconnections between classes and to facilitate lookup  \n",
    "Available on the Oracle website at:  \n",
    "http://download.oracle.com/javase/8/docs/api/index.html"
   ]
  },
  {
   "cell_type": "markdown",
   "id": "e19e05f5-dc83-4695-9657-549effdbc317",
   "metadata": {},
   "source": [
    "JDK - Java Software Development Kits"
   ]
  },
  {
   "cell_type": "markdown",
   "id": "ffc2b0d8-fa32-46c2-a309-ae7081b3d5a0",
   "metadata": {},
   "source": [
    " API stands for application programming interface. "
   ]
  },
  {
   "cell_type": "markdown",
   "id": "1c3d04d3-f09a-4616-81ec-dc2676a97e08",
   "metadata": {},
   "source": [
    "## Overview of the StringBuilder Class"
   ]
  },
  {
   "cell_type": "markdown",
   "id": "2143399a-7b18-4d18-b772-ec3e214056ab",
   "metadata": {},
   "source": [
    " ### String Builder Class"
   ]
  },
  {
   "cell_type": "markdown",
   "id": "015d46b4-85a9-44e5-931f-83ed9d34f3ac",
   "metadata": {},
   "source": [
    "StringBuilder provides a mutable alternative to String.StringBuilder  \n",
    "Is instantiated using the 'new' keyword  \n",
    "Has many methods for manipulating its value  \n",
    "Provides better performance because it is mutable  \n",
    "Can be created with an initial capacity  \n",
    "\n",
    "String is still needed because  \n",
    "It may be safer to use an immutable object  \n",
    "A method in the API may require a string  \n",
    "It has many more methods not available on StringBuilder"
   ]
  },
  {
   "cell_type": "markdown",
   "id": "16999ef5-4d54-4906-8e1e-0a626222050e",
   "metadata": {},
   "source": [
    "Unlike String, there's no shortcut to instantiate a StringBuilder."
   ]
  },
  {
   "cell_type": "markdown",
   "id": "c6729fce-3a26-4fbe-af77-51509a59973a",
   "metadata": {},
   "source": [
    "append, delete, insert, and replace"
   ]
  },
  {
   "cell_type": "markdown",
   "id": "fe399196-df74-4fa5-aaa7-8019e9988faf",
   "metadata": {},
   "source": [
    "StringBuilder Append  \n",
    "StringBuilder mySB = new StringBuilder(\"Hello\");  \n",
    "mySB.append(\" World\");  \n",
    "// No equal sign was necessary because there's always a reference to the StringBuilder object. "
   ]
  },
  {
   "cell_type": "markdown",
   "id": "38e3343d-936a-4744-aad1-35715d1ca86d",
   "metadata": {},
   "source": [
    "### Working with the StringBuilder Class"
   ]
  },
  {
   "cell_type": "markdown",
   "id": "109e40fd-c2b2-4d22-b39f-a083a9bf01ba",
   "metadata": {},
   "source": [
    "    public static void main(String[] args) {\n",
    "        // TODO code application logic here\n",
    "        String custName = \"Sally Smith\";\n",
    "        String firstName;\n",
    "        // Will be used to call the first name later in the code\n",
    "        int spaceIndex;\n",
    "        // Will be used to call the index of the space in between first and last name in custName\n",
    "        StringBuilder sb; // Creates StringBuilder object names 'sb'\n",
    "        \n",
    "        \n",
    "        \n",
    "        \n",
    "        \n",
    "        spaceIndex = custName.indexOf(\" \");\n",
    "        \n",
    "        // Use the substring method to locate the first name\n",
    "        firstName = custName.substring(0, spaceIndex);\n",
    "        System.out.println(firstName);\n",
    "        \n",
    "        //Instantiate and initialize sb to firstName\n",
    "        sb = new StringBuilder(firstName);\n",
    "        System.out.println(sb);\n",
    "        \n",
    "        /* Put the full name back together, using StringBuilder append method.\n",
    "        We're just entering the String literal for the last name and then \n",
    "        printing the full name\n",
    "        */\n",
    "        sb.append(\" Smith\");\n",
    "        System.out.println(sb);"
   ]
  },
  {
   "cell_type": "markdown",
   "id": "115fed8b-9602-4ed5-a3bf-fe454d334c2b",
   "metadata": {},
   "source": [
    "## More about Primitive Data Types"
   ]
  },
  {
   "cell_type": "markdown",
   "id": "673cb669-61cb-4a16-9a68-fc289c001bcd",
   "metadata": {},
   "source": [
    "Integral types (byte, short, int, and long)  \n",
    "Floating point types (float and double)  \n",
    "Textual type (char)  \n",
    "Logical type (boolean)  "
   ]
  },
  {
   "cell_type": "markdown",
   "id": "bfa1e49e-1ec5-4e83-8869-6fd2f213acd2",
   "metadata": {},
   "source": [
    "### Some New Integral Primitive Types"
   ]
  },
  {
   "cell_type": "markdown",
   "id": "e61e0ae2-3c86-4721-a0cc-df1a74e20ada",
   "metadata": {},
   "source": [
    "byte // 8 bits // 256 possible values, range -128 to 127  \n",
    "short // 16 bits // (65k) 65_535 possible values, range -32_768 to 32_767  \n",
    "int // 32 bits // (4billion) 4_294_967_296 possible values, range -2_147_483_648 to 2_147_483_647  \n",
    "long // 64 bits // -2^63 to 2^63-1  "
   ]
  },
  {
   "cell_type": "markdown",
   "id": "88c6d1b2-df55-4647-895d-1706041cc464",
   "metadata": {},
   "source": [
    "Integral types are used to store numbers that don't have decimal portions. "
   ]
  },
  {
   "cell_type": "markdown",
   "id": "43a19ff0-5231-4f30-bc64-d75ceeb8ccec",
   "metadata": {},
   "source": [
    "Ob indicates to the compiler that a binary value follows.   \n",
    "The only reason to use the byte and short types in programs is to save memory consumptions.  "
   ]
  },
  {
   "cell_type": "markdown",
   "id": "056fecb9-bef3-41c4-bdc9-b4e2aa4b8a64",
   "metadata": {},
   "source": [
    "float - 32 bits  \n",
    "double - 64 bits ( default type for floating point literals)"
   ]
  },
  {
   "cell_type": "markdown",
   "id": "eb711ab2-d915-4a3c-92f6-89b1f9604ebb",
   "metadata": {},
   "source": [
    "### Textual Primitive Type"
   ]
  },
  {
   "cell_type": "markdown",
   "id": "57857558-221f-4442-bd07-4d1b863c8e6c",
   "metadata": {},
   "source": [
    "When you assign a literal value to a char variable, single quotes must be used with char literal values"
   ]
  },
  {
   "cell_type": "markdown",
   "id": "378be256-145a-4823-a4e6-4f8c2bf7ce90",
   "metadata": {},
   "source": [
    "The only primitive textual data type is char.  \n",
    "It is used for a single character(16 bits)  \n",
    "Example: public char colorCode = 'U';"
   ]
  },
  {
   "cell_type": "markdown",
   "id": "91a438ac-b2eb-467c-a376-0ebfa71d4f30",
   "metadata": {},
   "source": [
    "### Java Language Trivia: Unicode"
   ]
  },
  {
   "cell_type": "markdown",
   "id": "ddd463df-c082-419f-9125-c70d0df83589",
   "metadata": {},
   "source": [
    "The java programming language uses a 16-bit character set called Unicode that can store all the necesary characters from most languages.  \n",
    "Unicode contains a subset of ASCII, which is the first 128 characters. "
   ]
  },
  {
   "cell_type": "markdown",
   "id": "478620ab-91ee-4477-9e55-4363c1ec555f",
   "metadata": {},
   "source": [
    "### Constants"
   ]
  },
  {
   "cell_type": "markdown",
   "id": "1b778722-1b96-48e2-886a-d8d45db93eb6",
   "metadata": {},
   "source": [
    "Constants  \n",
    "Variable (can change):  \n",
    "    - double salesTax = 6.25;"
   ]
  },
  {
   "cell_type": "markdown",
   "id": "5ca6fc65-a2ab-4194-a2e4-58cb881aa47b",
   "metadata": {},
   "source": [
    "Constant (cannot change):  \n",
    "    - final int NUMBER_OF_MONTH = 12; (The final keyword causes a variable to be read only)"
   ]
  },
  {
   "cell_type": "markdown",
   "id": "7f50f772-8687-4b2d-a642-9e6ef0669f9d",
   "metadata": {},
   "source": [
    "Generally, constants should be capatilized with words sepearated by an underscore. "
   ]
  },
  {
   "cell_type": "markdown",
   "id": "b4b16851-5437-4bd0-bfb5-7c926dd952d3",
   "metadata": {},
   "source": [
    "## The Remaining Numeric Operators"
   ]
  },
  {
   "cell_type": "markdown",
   "id": "ae5d51de-8d8b-4915-82f2-b07f133c12c3",
   "metadata": {},
   "source": [
    "### Modulus Operator"
   ]
  },
  {
   "cell_type": "markdown",
   "id": "78e51fe1-d497-4ade-8755-fd0df861344b",
   "metadata": {},
   "source": [
    "Purpose = Remainder  \n",
    "Operator = %  \n",
    "mod = num1 % num2;"
   ]
  },
  {
   "cell_type": "markdown",
   "id": "bf09153d-d1ce-4196-8f84-201718acf158",
   "metadata": {},
   "source": [
    "### More on Increment and Decrement Operators"
   ]
  },
  {
   "cell_type": "markdown",
   "id": "30173ed5-287f-44b3-bfd9-8620a2705807",
   "metadata": {},
   "source": [
    "Example: int id = 6;  \n",
    "    int newId = ++id;  \n",
    "    id is 7, newId is 7  \n",
    "Here the increment is taken into account before the assignment\n",
    "\n",
    "int newId = id++;  \n",
    "id is 7, newId is 6  \n",
    "Here the increment is taken into account after the assignement, so newId equals 6"
   ]
  },
  {
   "cell_type": "markdown",
   "id": "571ea604-a5ee-4a4f-8d02-336b8c92fbb0",
   "metadata": {},
   "source": [
    "### Increment and Decrement Operators (++ and --)"
   ]
  },
  {
   "cell_type": "markdown",
   "id": "c04bc756-9d7c-4b03-b183-a9f930f6373a",
   "metadata": {},
   "source": [
    "Example:"
   ]
  },
  {
   "cell_type": "markdown",
   "id": "15c166d9-ad53-4950-8cbc-70f52ac39dd3",
   "metadata": {},
   "source": [
    "\n",
    "    public static void main(String[] args) {\n",
    "        // TODO code application logic here\n",
    "        int count = 20; // intialize count with an integer value of 20\n",
    "        int a, b, c, d; // create 4 empty variables\n",
    "        a = count++; // a holds the value of count (20) before the increment, count is now (21)\n",
    "        b = count; // holds the current value of count (21) after the initial increment\n",
    "        c = ++count; // c holds the value of count after it has been incremented again to (22)\n",
    "        d = count; // count is now (22)\n",
    "        System.out.println(a + \", \" + b + \", \" + c + \", \" + d); // Prints out variable values"
   ]
  },
  {
   "cell_type": "markdown",
   "id": "43dc9786-e253-476a-8d61-b5e34e8ab48b",
   "metadata": {},
   "source": [
    "## Overview of Promoting and Casting Variables"
   ]
  },
  {
   "cell_type": "markdown",
   "id": "aab72b24-5a42-48dd-a929-76c23c4ec7e9",
   "metadata": {},
   "source": [
    "### Promotion"
   ]
  },
  {
   "cell_type": "markdown",
   "id": "31603cbb-c3a2-4bea-af3b-f98196a97800",
   "metadata": {},
   "source": [
    "Automatic Promotions  \n",
    "If you assign a smaller type to a larger type  \n",
    "byte - short - int - long  \n",
    "If you assign an integral type to a floating point type  \n",
    "3 - 3.0  \n",
    "Example  \n",
    "long intToLong = 6;  \n",
    "double intToDouble  = 3;  "
   ]
  },
  {
   "cell_type": "markdown",
   "id": "de548e2a-7634-4b1c-a91f-df98a1764bc6",
   "metadata": {},
   "source": [
    "Some promotions are done automatically by the compiler if data wouldn't be lost by doing so. "
   ]
  },
  {
   "cell_type": "markdown",
   "id": "b0f9f9d3-535c-4084-8ac0-5d4ff32b3a04",
   "metadata": {},
   "source": [
    "### Caution with Promotion"
   ]
  },
  {
   "cell_type": "markdown",
   "id": "253d0f0c-5067-4f7e-896e-e157e1d32735",
   "metadata": {},
   "source": [
    "Before being assigned a variable, the result of an equation is placed in a temporary location in memory.  \n",
    "The location size is always equal to the size of an int type or the size of the largest data type used in the expression or statement.  \n",
    "If the two values that you multiply yield a value that's beyond the scope of an int type,  \n",
    "the int value must be truncated to fit the result into the temporary location in memory.  \n",
    "If the variable receives a truncated value, that value may be incorrect, regardless of the type used for your answer.  \n",
    "To solve this problem, you can set at least one of the variables in your equation to the long type, to ensure the largest possible temporary container size."
   ]
  },
  {
   "cell_type": "markdown",
   "id": "22cf8e38-48ec-4afc-9dce-2f4f756ac54e",
   "metadata": {},
   "source": [
    "Example  \n",
    "int num1 = 55555;    ___ //num1 is an int type. int types can hold values ranging between -2billion and 2 billion  \n",
    "int num2 = 66666;    ___ //num2 is also an int type.  \n",
    "long num3;           ___ //num3 has not been assigned a value but can hold up to 64 bits.  \n",
    "num3 = num1 * num2; //num3 results in -591_337_666. The correct result is 3_703_629_630    \n",
    "// The reason we get this answer is because since both num1 and num2 were int,   \n",
    "// there are only 32 bits of memory available at the temporary location of memory.  \n",
    "// Therefore the answer gets truncated to fit in the available space and spits out an erroneous answer.   \n",
    "// The solution is to change either num1 or num2 to a long type, allowing for 64 bits to be available in the temporary location of memory.   "
   ]
  },
  {
   "cell_type": "markdown",
   "id": "2fa9b696-29a9-47e0-9cec-5ebabbcedad6",
   "metadata": {},
   "source": [
    "A similar problem can occur with int and doubles."
   ]
  },
  {
   "cell_type": "markdown",
   "id": "9c461610-6560-46f8-a003-14ad750bfb22",
   "metadata": {},
   "source": [
    "Example  \n",
    "int num = 7;  \n",
    "int num2 = 2;  \n",
    "double num3;  \n",
    "num3 = num1 / num2;  \n",
    "// num3 is 3.0  \n",
    "// Here both num1 and num2 are int type, so when the equation is run (num1/num2), the temporary location in memory is ready to receive an int  \n",
    "// and therefore returns an int type in the form of 3. Since num3 is declared as a double, automatic promotion promoted the value to 3.0.  "
   ]
  },
  {
   "cell_type": "markdown",
   "id": "5ed3a817-a193-4a05-a205-7f99c46fac5b",
   "metadata": {},
   "source": [
    "Example  \n",
    "int num1 = 7;  \n",
    "double num2 = 2;  \n",
    "double num3;  \n",
    "num3 = num1 / num2;  \n",
    "// num3 is 3.5  \n",
    "// Here because the temporary location of memory is ready to receive a double, the answer is 3.5 and num3 accepts the double type.   "
   ]
  },
  {
   "cell_type": "markdown",
   "id": "8d2423c9-a152-4e22-ad64-99e50d79b2c8",
   "metadata": {},
   "source": [
    "### Type Casting"
   ]
  },
  {
   "cell_type": "markdown",
   "id": "25005adc-15b9-4bcb-b6fa-f0e2678e6bdb",
   "metadata": {},
   "source": [
    "When to cast  \n",
    "- If you assign a larger type to a smaller type  \n",
    "- If you assign a floating point type to an integral type   \n",
    "Examples    \n",
    "int longToInt = (int)20L;     \n",
    "short doubleToShort = (short)3.0;   "
   ]
  },
  {
   "cell_type": "markdown",
   "id": "a57504f7-2b6a-49f1-8214-30fc10f0a5cf",
   "metadata": {},
   "source": [
    "You do this so that you can use methods that accept only certain types as arguments,  \n",
    "so that you can assign values to a variable of a smaller data type or so that you can save memory. "
   ]
  },
  {
   "cell_type": "markdown",
   "id": "3fef6da5-aef0-44a5-94a4-12d98f22eacc",
   "metadata": {},
   "source": [
    "syntax  \n",
    "indetifier = (targetType)value"
   ]
  },
  {
   "cell_type": "markdown",
   "id": "c3861e3d-8a46-4e82-95ca-0ac9996d6a5a",
   "metadata": {},
   "source": [
    "### Caution with Type Casting"
   ]
  },
  {
   "cell_type": "markdown",
   "id": "8c3f3e3d-0e08-4518-b676-6077b8207b9a",
   "metadata": {},
   "source": [
    "int myInt;  \n",
    "long myLong = 123_987_654_321L;   \n",
    "myInt = (int) (myLong);   \n",
    "// Number is \"chopped\", myInt is -566397263    \n",
    "// myInt is initiated as an int type. myLong is initiated as long type.   \n",
    "// When myInt is type cast to an int type, the number gets truncated to fit in the int type memory and as a result shows a different value.  "
   ]
  },
  {
   "cell_type": "markdown",
   "id": "a27c627b-3fee-4914-9ac7-5f19c238f901",
   "metadata": {},
   "source": [
    "Be aware of the possibility of lost precision, for example when type casting a double to an int. 51.9 turns into 51."
   ]
  },
  {
   "cell_type": "markdown",
   "id": "b5224df1-f93e-4304-8651-782657122708",
   "metadata": {},
   "source": [
    "When adding two int types and trying to hold them in a byte, the compiler will give a loss of precision error, because you are moving down in memory size. "
   ]
  },
  {
   "cell_type": "markdown",
   "id": "702dc29a-2b4e-4988-805e-1b0dc6fe74c0",
   "metadata": {},
   "source": [
    "To fix this either change the byte into an int or type cast the equation as a byte. "
   ]
  },
  {
   "cell_type": "markdown",
   "id": "626883f3-e8c6-446b-9db0-efbfef477f41",
   "metadata": {},
   "source": [
    "### Compiler Assumptions for Integral and Floating Point Data Types"
   ]
  },
  {
   "cell_type": "markdown",
   "id": "d399e9c6-2849-4fe5-bd97-92db05f220fd",
   "metadata": {},
   "source": [
    "- Most operations result in an int or long\n",
    "- byte, char, and short values are automatically promoted to int prior to an operation\n",
    "- if an expression contains a long, the entire expression is promoted to long.\n",
    "- If an expression contains a floating point, the entire expression is promoted to a floating point.\n",
    "- All literal floating point values are viewed as double. "
   ]
  },
  {
   "cell_type": "markdown",
   "id": "37f1ee14-3e87-42df-a0ce-9265f442a32a",
   "metadata": {},
   "source": [
    "### Automatic Promotion"
   ]
  },
  {
   "cell_type": "markdown",
   "id": "1c38acb6-c4a8-4714-b14b-962b6f85d235",
   "metadata": {},
   "source": [
    "Example  \n",
    "short a, b, c;  \n",
    "a = 1;  \n",
    "b = 2;  \n",
    "c = a + b; // compiler error  \n",
    "// a and b are automatically promoted to integers.   "
   ]
  },
  {
   "cell_type": "markdown",
   "id": "f283e9be-128c-48b1-aeb3-1b0d1d4951a9",
   "metadata": {},
   "source": [
    "Potential solutions:   \n",
    "    - Declare c as an int type in the original declaration. int c;  \n",
    "    - Type cast the (a+b) result in the assignment line:  c = (short)(a+b);  "
   ]
  },
  {
   "cell_type": "markdown",
   "id": "6b325a91-4f78-4f95-8984-e2fdb2ded573",
   "metadata": {},
   "source": [
    "Floating types will always be promoted to doubles unless explicitly told otherwise. Therefore the following could cause an error.  \n",
    "float float1 = 27.9;  "
   ]
  },
  {
   "cell_type": "markdown",
   "id": "31f16e8c-3a3d-48f1-9cd7-aa3773d3cdaf",
   "metadata": {},
   "source": [
    "Solutions   \n",
    "float float1 = 27.9F;  \n",
    "float float1 = (float) 27.9;"
   ]
  },
  {
   "cell_type": "markdown",
   "id": "85563bf7-e84a-458b-b6ec-2a1aa2121821",
   "metadata": {},
   "source": [
    "## Working with Data Types"
   ]
  },
  {
   "cell_type": "markdown",
   "id": "9bc5802c-2d6a-4d58-8b4d-a77b31cb1e55",
   "metadata": {},
   "source": [
    "    public static void main(String[] args) {\n",
    "        // TODO code application logic here\n",
    "        \n",
    "        //Create an integer variable\n",
    "        int int1;\n",
    "        // Declare and initialize variables of type long, float, and char\n",
    "        long long1 = 99_000_000_000L;\n",
    "        float flt1 = 13.5F;\n",
    "        char ch1 = 'U'; //char use single apostrophe\n",
    "        // Print the long variable\n",
    "        System.out.println(\"long1: \" + long1);\n",
    "        // Assign the long to the int and print the int variable\n",
    "        int1 = (int)long1;\n",
    "        System.out.println(\"Long assigned to int variable: \" + int1);\n",
    "        \n",
    "    }"
   ]
  },
  {
   "cell_type": "markdown",
   "id": "a4336f3c-835b-495d-9981-0bf28502a5ae",
   "metadata": {},
   "source": [
    "### Using Regular Expressions"
   ]
  },
  {
   "cell_type": "markdown",
   "id": "9965026f-d9e8-40b0-8c94-800a07243620",
   "metadata": {},
   "source": [
    "### filling out the rest of soccerleague project"
   ]
  },
  {
   "cell_type": "markdown",
   "id": "965a6ca8-9902-493e-b9b7-c4cbb3b58c04",
   "metadata": {},
   "source": [
    "    public static void main(String[] args) {\n",
    "        // TODO code application logic here\n",
    "        \n",
    "        // Create team1\n",
    "        Player player1 = new Player(); // Declares and instantiates new object 'player1'\n",
    "        player1.playerName = \"George Elliot\"; // I can now call the method 'playerName' and assign it a value\n",
    "        Player player2 = new Player();\n",
    "        player2.playerName = \"Graham Greene\";\n",
    "        Player player3 = new Player();\n",
    "        player3.playerName = \"Geoffrey Chaucer\";\n",
    "        Player[] thePlayers = {player1, player2, player3}; // Create an array based off the Player class, named thePlayers, and it hold players 1, 2, and 3\n",
    "        \n",
    "        Team team1 = new Team(); // Declares and instantiates new object team1 based off the Team class\n",
    "        team1.teamName = \"The Greens\"; // Call method teamName from Team class and assigns it the \"The Greens\" string. \n",
    "        team1.playerArray = thePlayers; // Call method playerArray from the Team class and assign it the \"thePlayers\" array created for team1 in line 27\n",
    "        \n",
    "        // Create team2\n",
    "        Team team2 = new Team(); // creates new Team class instance and assigns it to team2\n",
    "        team2.teamName = \"The Reds\"; // call teamName method from Team class and assign it String \"The Reds\"\n",
    "        team2.playerArray = new Player[4]; // call method playerArray from Team class and assign it an immutable array holding 4 Player class instances/objects\n",
    "        team2.playerArray[0] = new Player(); // call index 0 of playerArray for team2 and assign it an instance of Player class. \n",
    "        team2.playerArray[0].playerName = \"Robert Service\"; // Assign String \"Robert Service\" to playerName method of index 0 of playerArray for team2\n",
    "        team2.playerArray[1] = new Player(); // assigns player instance to index 1 of playerArray array for team2\n",
    "        team2.playerArray[1].playerName = \"Robbie Burns\"; // assigns String \"Robbie Burns\" to playerName String object of index 1 of playerArray array for team2 object\n",
    "        team2.playerArray[2] = new Player(); // creates new Player instance and assigns it to index 2 of array for team2 object. \n",
    "        team2.playerArray[2].playerName = \"Rafael Sabatini\"; // assigns string \"Rafael Sabatini\" to string object playerName of index 2 of array for team2\n",
    "        team2.playerArray[3] = new Player();\n",
    "        team2.playerArray[3].playerName = \"Marty Sabanini\";\n",
    "        \n",
    "        Game currGame = new Game(); // creates new instance of Game class called currGame\n",
    "        currGame.homeTeam = team1; // assigns team1 Team object to Team declared variable 'homeTeam' for the currGame Game instance. \n",
    "        currGame.awayTeam = team2; // assgins team2 to awayTeam Team declared variable for the currGame Game instance.\n",
    "        Goal goal1 = new Goal(); // a new Goal instance is created and assiged to goal1\n",
    "        goal1.thePlayer = currGame.homeTeam.playerArray[2]; // index 2 of playerArray array for the homeTeam (team1) of the currGame is assigned to thePlayer Player class instance in goal1 \n",
    "        goal1.theTeam = currGame.homeTeam; // team1 is assigned to theTeam Team instance in goal1 class\n",
    "        goal1.theTime = 55; // 55 is assigned to theTime double in goal1\n",
    "        Goal[] theGoals = {goal1}; // goal1 is inside array named theGoals in the Goal class\n",
    "        currGame.goals = theGoals; // theGoals array is assigned to goals object inside currGame Game class object\n",
    "        \n",
    "        System.out.println(\"Goal scored after \" + \n",
    "        currGame.goals[0].theTime + \" mins by \" +\n",
    "        currGame.goals[0].thePlayer.playerName + \" of \" +\n",
    "        currGame.goals[0].theTeam.teamName); // Prints out \"Goal scored after 55.0 mins by Geoffrey Chaucer of The Greens\"\n",
    "        \n",
    "        // Find a player in team2 with the last name beginning with \"Sab\"\n",
    "        for (Player thePlayer: team2.playerArray) {\n",
    "            if (thePlayer.playerName.matches(\".*Sab.*\")) {\n",
    "                System.out.println(\"Found: \" + thePlayer.playerName);\n",
    "                thePlayer.playerName.split(\" \");\n",
    "                System.out.println(\"Last name is \" + thePlayer.playerName.split(\" \")[1]);\n",
    "            }\n",
    "        }// count through array using the Player object and were calling it thePlayer, \n",
    "        // if playerName contains Sab (using regex), print out \"Found: 'playerName'\", split first and last name,\n",
    "        // and print out \"Last name is \" plus index 1 (last name) of array created by splitting playerName. \n",
    "        \n",
    "    }"
   ]
  },
  {
   "cell_type": "code",
   "execution_count": null,
   "id": "42165c12-4c17-43cf-b954-e659826bd575",
   "metadata": {},
   "outputs": [],
   "source": []
  }
 ],
 "metadata": {
  "kernelspec": {
   "display_name": "Python 3",
   "language": "python",
   "name": "python3"
  },
  "language_info": {
   "codemirror_mode": {
    "name": "ipython",
    "version": 3
   },
   "file_extension": ".py",
   "mimetype": "text/x-python",
   "name": "python",
   "nbconvert_exporter": "python",
   "pygments_lexer": "ipython3",
   "version": "3.8.8"
  }
 },
 "nbformat": 4,
 "nbformat_minor": 5
}
