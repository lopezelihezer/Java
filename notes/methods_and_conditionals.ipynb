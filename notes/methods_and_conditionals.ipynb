{
 "cells": [
  {
   "cell_type": "markdown",
   "id": "fe19cea0-fc02-45e8-b3ef-c53b58277a3e",
   "metadata": {},
   "source": [
    "# Methods & Conditionals"
   ]
  },
  {
   "cell_type": "markdown",
   "id": "73f02f7b-0041-44b6-a515-652888e8dc19",
   "metadata": {},
   "source": [
    "## Constructors and Methods"
   ]
  },
  {
   "cell_type": "markdown",
   "id": "d6ee6022-f633-4daa-bc46-38437000cf43",
   "metadata": {},
   "source": [
    "Basic Form of a Method  \n",
    "The void keyword indicates that the method does not return a value    \n",
    "Empty parentheses indicate that no arguments are passed to the method    \n",
    "\n",
    "            public void display()  {\n",
    "                System.out.println(\"Shirt description: \" + description);\n",
    "                System.out.println(\"Color Code: \" + colorCode);\n",
    "                System.out.println(\"Shirt price: \" + price);\n",
    "            } // end of display method, here all it does is print out statements"
   ]
  },
  {
   "cell_type": "markdown",
   "id": "60044a10-ccf7-4b81-a0e7-473cbd0048a1",
   "metadata": {},
   "source": [
    "### Calling a Method from a Different Class"
   ]
  },
  {
   "cell_type": "markdown",
   "id": "0026b294-0a97-4ffc-9068-170310f4c76a",
   "metadata": {},
   "source": [
    "\n",
    "            public class ShoppingCart {\n",
    "                public static void main (String[] args)  {\n",
    "                    Shirt myShirt = new Shirt();\n",
    "                    myShirt.display();\n",
    "                }\n",
    "            }"
   ]
  },
  {
   "cell_type": "markdown",
   "id": "5fe90746-2576-4707-a6ba-7f7fbd9fef1d",
   "metadata": {},
   "source": [
    "< reference variable > (dot operator) < method > ();"
   ]
  },
  {
   "cell_type": "markdown",
   "id": "7c9aacdb-75db-4826-bee9-f46e46c73980",
   "metadata": {},
   "source": [
    "Output  \n",
    "Item description: -description required-  \n",
    "Color Code: U  \n",
    "Item price: 0.0"
   ]
  },
  {
   "cell_type": "markdown",
   "id": "43db1699-1c85-401a-8e10-945c33eb7dad",
   "metadata": {},
   "source": [
    "In this case it doesnt return a value to the command that called the method. "
   ]
  },
  {
   "cell_type": "markdown",
   "id": "6f8505cc-0264-4ae9-81f9-74b22f001263",
   "metadata": {},
   "source": [
    "### A Constructor Method"
   ]
  },
  {
   "cell_type": "markdown",
   "id": "5101c9a9-9cc2-46e2-b682-b4e404bb5ded",
   "metadata": {},
   "source": [
    "A constructor method is a special method that is invoked when you create an object instance. \n",
    "- It is called by using the new keyword\n",
    "- Its purpose is to instantiate an object of the class and store the reference in the reference variable.  \n",
    "Shirt myShirt = new Shirt();  \n",
    "- It has a unique method signature.  \n",
    "< modifier > ClassName()"
   ]
  },
  {
   "cell_type": "markdown",
   "id": "28bb547e-5143-45cf-b735-3ae5d01d5ab7",
   "metadata": {},
   "source": [
    "this.display();"
   ]
  },
  {
   "cell_type": "markdown",
   "id": "ef7d62f1-ab85-47f2-b6cc-870fe14c8f89",
   "metadata": {},
   "source": [
    "The 'this' keyword refers to the current object and it can be used to pass object information to methods. "
   ]
  },
  {
   "cell_type": "markdown",
   "id": "8fa3eeaa-9289-4c7b-899a-c5bd63ce1f41",
   "metadata": {},
   "source": [
    "## Method Arguments and Return Values"
   ]
  },
  {
   "cell_type": "markdown",
   "id": "8283e057-d056-4d01-bf83-b766479f3043",
   "metadata": {},
   "source": [
    "### Method Arguments and Parameters"
   ]
  },
  {
   "cell_type": "markdown",
   "id": "3c9734fd-38a6-4878-9fd1-c1209961c28d",
   "metadata": {},
   "source": [
    "An argument is a value that is passed during a method call.   ( 3, denominator)  \n",
    "The purpose of arguments is to provide data to the method that the method can calculate and then return the results to the calling portion of the program. \n",
    "  \n",
    "A parameter is a variable defined in the method declaration.  (int x, double y)  "
   ]
  },
  {
   "cell_type": "markdown",
   "id": "c1af59b5-0d79-405c-b085-f87bf6a44053",
   "metadata": {},
   "source": [
    "### Method Return Types "
   ]
  },
  {
   "cell_type": "markdown",
   "id": "3917b6cf-1753-4b36-a25b-f867f4c2a2b7",
   "metadata": {},
   "source": [
    "Variables can have values of many different types.  \n",
    "Method calls can also return values of many different types.  \n",
    "To make a method return a value, declare the method to be a non-void return type.  \n",
    "Use the keyword return within a method, followed by a value. "
   ]
  },
  {
   "cell_type": "markdown",
   "id": "67ae52fa-f98c-488c-a96c-7391f9a71f89",
   "metadata": {},
   "source": [
    "Constructors are special and they can't have a return type, not even a void. "
   ]
  },
  {
   "cell_type": "markdown",
   "id": "9ad064f5-befb-4234-a0a5-90a46363fe10",
   "metadata": {},
   "source": [
    "Methods must return data that matches their return type. "
   ]
  },
  {
   "cell_type": "markdown",
   "id": "d52b909e-a18e-4676-9f94-bcb05961faeb",
   "metadata": {},
   "source": [
    "### Passing Arguments and Returning Values"
   ]
  },
  {
   "cell_type": "markdown",
   "id": "cea22644-c38e-40e6-a5da-e89b3da7bbbb",
   "metadata": {},
   "source": [
    "1. Value passed from caller method to worker method.\n",
    "2. Value received by worker method.\n",
    "3. Value returned to caller method. "
   ]
  },
  {
   "cell_type": "markdown",
   "id": "77ca14af-373f-4a32-a4a0-9457456ec7b8",
   "metadata": {},
   "source": [
    "### Variable Scope"
   ]
  },
  {
   "cell_type": "markdown",
   "id": "a5c8216f-7111-4e31-a4ee-2125579f4034",
   "metadata": {},
   "source": [
    "Variables live in a block where they're defined.  \n",
    "The scope of a variable determines its accessibility and also how long you can count on its value to persist. "
   ]
  },
  {
   "cell_type": "markdown",
   "id": "e45c8631-bba9-46ac-8478-d098a5a49828",
   "metadata": {},
   "source": [
    "Local variables are stored in short-term memory called the stack, and instance variables (fields)  \n",
    "are stored in a longer-term area of memory called the heap.  "
   ]
  },
  {
   "cell_type": "markdown",
   "id": "7fc60446-ff3d-481a-99c2-6732fd4f37cb",
   "metadata": {},
   "source": [
    "### Advantages of Using Methods"
   ]
  },
  {
   "cell_type": "markdown",
   "id": "2d8803b4-44dd-459c-8cc6-362236c7eb9b",
   "metadata": {},
   "source": [
    "Methods  \n",
    "- Are reusable\n",
    "- Make programs shorter and more readable  \n",
    "- Make development and maintenance quicker  \n",
    "- Allow seperate objects to communicate and to distribute the work performed by the program. "
   ]
  },
  {
   "cell_type": "markdown",
   "id": "822e652f-3bf5-41e3-9263-c1ce75e2d578",
   "metadata": {},
   "source": [
    "## Working with Methods"
   ]
  },
  {
   "cell_type": "markdown",
   "id": "8cde8062-3f90-43e0-9931-764de0d0ca87",
   "metadata": {},
   "source": [
    "## Introducing Static Methods and Variables"
   ]
  },
  {
   "cell_type": "markdown",
   "id": "1ad19d83-9e09-4f79-9250-297cbcf940ee",
   "metadata": {},
   "source": [
    "The static modifier is applied to a method by or variable.  \n",
    "it means the method variable  \n",
    "- Belongs to the class and is shared by all objects of that class\n",
    "- Is not unique to an object instance\n",
    "- Can be accessed without instantiating the class  \n",
    "\n",
    "Comparison \n",
    "- A static variable is shared by all objects in a class  \n",
    "- An instance variable is unique to an individual object. "
   ]
  },
  {
   "cell_type": "markdown",
   "id": "a3e3577d-1b21-4f5c-88cb-4060fafccc11",
   "metadata": {},
   "source": [
    "Declaring something as static means you can access it withtout creating an object instance of the class. "
   ]
  },
  {
   "cell_type": "markdown",
   "id": "6c674f55-4792-4bd2-b8bc-53e63c9debdb",
   "metadata": {},
   "source": [
    "### Creating and Accessing Static Members"
   ]
  },
  {
   "cell_type": "markdown",
   "id": "6e797fff-2de2-4643-aabd-aa6479572ed8",
   "metadata": {},
   "source": [
    "To create a static variable or method:  \n",
    "    static String mSmall;  \n",
    "    static void setMSmall (String desc);  "
   ]
  },
  {
   "cell_type": "markdown",
   "id": "aa8c0aeb-18bf-4f4f-8eae-3fdda6fd0795",
   "metadata": {},
   "source": [
    "To access a static variable or method  \n",
    "From another class  \n",
    "ItemSizes.mSmall;  \n",
    "ItemSizes.setMSmall(\"Men's Small\");\n"
   ]
  },
  {
   "cell_type": "markdown",
   "id": "009bb745-6491-4117-bad0-724fed0f032d",
   "metadata": {},
   "source": [
    "From within the class  \n",
    "mSmall;  \n",
    "setMSmall(\"Mens's Small\");  "
   ]
  },
  {
   "cell_type": "markdown",
   "id": "4d12cb36-d8e1-4d8d-b611-f7c0eff3d2af",
   "metadata": {},
   "source": [
    "### When to Use Static Methods or Fields"
   ]
  },
  {
   "cell_type": "markdown",
   "id": "1d6405a6-f71b-451d-a050-fa3780656145",
   "metadata": {},
   "source": [
    "- Perfroming the operation on an individual object or associating the variable with specific object type is not important\n",
    "- Accessing the variable or method before instantiating an object is important\n",
    "- The method or variable does not logically belong to an object, but possibly belongs to a utility class, such as the Math class, included in the Java API\n",
    "- Using constant values (such as Math.PI)"
   ]
  },
  {
   "cell_type": "markdown",
   "id": "4a2ba2c7-4686-4682-9687-a25b24ac4edb",
   "metadata": {},
   "source": [
    "- Instance methods can access static methods or fields\n",
    "- Static methods cannot access instance methods or fields.  "
   ]
  },
  {
   "cell_type": "markdown",
   "id": "cc70da4e-d968-493f-bd53-7b363028b422",
   "metadata": {},
   "source": [
    "### Static Methods and Variables in the JDK Libraries"
   ]
  },
  {
   "cell_type": "markdown",
   "id": "07092df1-cfc8-46f7-81e9-d0e6b7453829",
   "metadata": {},
   "source": [
    "Examples:"
   ]
  },
  {
   "cell_type": "markdown",
   "id": "ef0772db-d296-4c12-8ac6-029777c88cd5",
   "metadata": {},
   "source": [
    "Math class \n",
    "- exponential\n",
    "- logarithmic\n",
    "- trigonometric\n",
    "- Random\n",
    "- Access to common math constants like PI"
   ]
  },
  {
   "cell_type": "markdown",
   "id": "cc0e20b0-6db5-4544-a82e-0087152c22d0",
   "metadata": {},
   "source": [
    "System class  \n",
    "- Retrieving environment variables\n",
    "- Access to the standard input and output streams\n",
    "- Exiting the current program (System.exit method)"
   ]
  },
  {
   "cell_type": "markdown",
   "id": "05c7f8b8-f95f-4ea4-9fed-e6f93199c1ee",
   "metadata": {},
   "source": [
    "System.out.println();\n",
    "System is  a class. out is a static field of System class. "
   ]
  },
  {
   "cell_type": "markdown",
   "id": "d45fb38a-3139-45cd-8bb0-8839d194ac08",
   "metadata": {},
   "source": [
    "A wrapper class is a class witht he same name as one of the primitive data types. Wrapper calsses are instantiated to contain a single value of the primitive type. "
   ]
  },
  {
   "cell_type": "code",
   "execution_count": null,
   "id": "aeef66ea-003a-4d63-8bcc-6c8de5625d7b",
   "metadata": {},
   "outputs": [],
   "source": []
  }
 ],
 "metadata": {
  "kernelspec": {
   "display_name": "Python 3",
   "language": "python",
   "name": "python3"
  },
  "language_info": {
   "codemirror_mode": {
    "name": "ipython",
    "version": 3
   },
   "file_extension": ".py",
   "mimetype": "text/x-python",
   "name": "python",
   "nbconvert_exporter": "python",
   "pygments_lexer": "ipython3",
   "version": "3.8.8"
  }
 },
 "nbformat": 4,
 "nbformat_minor": 5
}
