{
 "cells": [
  {
   "cell_type": "markdown",
   "id": "fe19cea0-fc02-45e8-b3ef-c53b58277a3e",
   "metadata": {},
   "source": [
    "# Methods & Conditionals"
   ]
  },
  {
   "cell_type": "markdown",
   "id": "73f02f7b-0041-44b6-a515-652888e8dc19",
   "metadata": {},
   "source": [
    "## Constructors and Methods"
   ]
  },
  {
   "cell_type": "markdown",
   "id": "d6ee6022-f633-4daa-bc46-38437000cf43",
   "metadata": {},
   "source": [
    "Basic Form of a Method  \n",
    "The void keyword indicates that the method does not return a value    \n",
    "Empty parentheses indicate that no arguments are passed to the method    \n",
    "\n",
    "            public void display()  {\n",
    "                System.out.println(\"Shirt description: \" + description);\n",
    "                System.out.println(\"Color Code: \" + colorCode);\n",
    "                System.out.println(\"Shirt price: \" + price);\n",
    "            } // end of display method, here all it does is print out statements"
   ]
  },
  {
   "cell_type": "markdown",
   "id": "60044a10-ccf7-4b81-a0e7-473cbd0048a1",
   "metadata": {},
   "source": [
    "### Calling a Method from a Different Class"
   ]
  },
  {
   "cell_type": "markdown",
   "id": "0026b294-0a97-4ffc-9068-170310f4c76a",
   "metadata": {},
   "source": [
    "\n",
    "            public class ShoppingCart {\n",
    "                public static void main (String[] args)  {\n",
    "                    Shirt myShirt = new Shirt();\n",
    "                    myShirt.display();\n",
    "                }\n",
    "            }"
   ]
  },
  {
   "cell_type": "markdown",
   "id": "5fe90746-2576-4707-a6ba-7f7fbd9fef1d",
   "metadata": {},
   "source": [
    "< reference variable > (dot operator) < method > ();"
   ]
  },
  {
   "cell_type": "markdown",
   "id": "7c9aacdb-75db-4826-bee9-f46e46c73980",
   "metadata": {},
   "source": [
    "Output  \n",
    "Item description: -description required-  \n",
    "Color Code: U  \n",
    "Item price: 0.0"
   ]
  },
  {
   "cell_type": "markdown",
   "id": "43db1699-1c85-401a-8e10-945c33eb7dad",
   "metadata": {},
   "source": [
    "In this case it doesnt return a value to the command that called the method. "
   ]
  },
  {
   "cell_type": "markdown",
   "id": "6f8505cc-0264-4ae9-81f9-74b22f001263",
   "metadata": {},
   "source": [
    "### A Constructor Method"
   ]
  },
  {
   "cell_type": "markdown",
   "id": "5101c9a9-9cc2-46e2-b682-b4e404bb5ded",
   "metadata": {},
   "source": [
    "A constructor method is a special method that is invoked when you create an object instance. \n",
    "- It is called by using the new keyword\n",
    "- Its purpose is to instantiate an object of the class and store the reference in the reference variable.  \n",
    "Shirt myShirt = new Shirt();  \n",
    "- It has a unique method signature.  \n",
    "< modifier > ClassName()"
   ]
  },
  {
   "cell_type": "markdown",
   "id": "28bb547e-5143-45cf-b735-3ae5d01d5ab7",
   "metadata": {},
   "source": [
    "this.display();"
   ]
  },
  {
   "cell_type": "markdown",
   "id": "ef7d62f1-ab85-47f2-b6cc-870fe14c8f89",
   "metadata": {},
   "source": [
    "The 'this' keyword refers to the current object and it can be used to pass object information to methods. "
   ]
  },
  {
   "cell_type": "markdown",
   "id": "8fa3eeaa-9289-4c7b-899a-c5bd63ce1f41",
   "metadata": {},
   "source": [
    "## Method Arguments and Return Values"
   ]
  },
  {
   "cell_type": "code",
   "execution_count": null,
   "id": "f8a21b4f-22ed-4de2-89a4-01fe95f65680",
   "metadata": {},
   "outputs": [],
   "source": []
  }
 ],
 "metadata": {
  "kernelspec": {
   "display_name": "Python 3",
   "language": "python",
   "name": "python3"
  },
  "language_info": {
   "codemirror_mode": {
    "name": "ipython",
    "version": 3
   },
   "file_extension": ".py",
   "mimetype": "text/x-python",
   "name": "python",
   "nbconvert_exporter": "python",
   "pygments_lexer": "ipython3",
   "version": "3.8.8"
  }
 },
 "nbformat": 4,
 "nbformat_minor": 5
}
